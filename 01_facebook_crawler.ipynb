{
 "cells": [
  {
   "cell_type": "markdown",
   "id": "47aa8448-292a-407f-a917-321b97d6f530",
   "metadata": {},
   "source": [
    "# Facebook Crawler\n",
    "- NCCU PyDay 2022: https://www.facebook.com/groups/pythontw/posts/10162007038723438/\n",
    "- Author: TENG-LIN YU\n",
    "- Email: tlyu0419@gmail.com\n",
    "- Github: https://github.com/TLYu0419/Stock-Prediction-Using-Facebook-Sentiment-with-Python"
   ]
  },
  {
   "cell_type": "markdown",
   "id": "2c70d6c6-74df-478f-9f3c-958c7971a772",
   "metadata": {},
   "source": [
    "## Sample Fanspage\n",
    "  - Yahoo奇摩股市理財: https://www.facebook.com/YahooTWFinance/"
   ]
  },
  {
   "cell_type": "markdown",
   "id": "3874e269-adca-461f-accf-36f5f38f917a",
   "metadata": {},
   "source": [
    "## Import packages"
   ]
  },
  {
   "cell_type": "code",
   "execution_count": 5,
   "id": "349fef1a-60c7-4bfc-aadb-40cd809f4b96",
   "metadata": {
    "execution": {
     "iopub.execute_input": "2022-04-17T10:56:46.660091Z",
     "iopub.status.busy": "2022-04-17T10:56:46.659760Z",
     "iopub.status.idle": "2022-04-17T10:56:47.016283Z",
     "shell.execute_reply": "2022-04-17T10:56:47.015707Z",
     "shell.execute_reply.started": "2022-04-17T10:56:46.660072Z"
    },
    "tags": []
   },
   "outputs": [],
   "source": [
    "import pandas as pd\n",
    "import datetime\n",
    "import json\n",
    "import time\n",
    "import requests\n",
    "import re\n",
    "import facebook_crawler"
   ]
  },
  {
   "cell_type": "markdown",
   "id": "e4f33b7d-39b4-4a66-ba17-6cb38205065e",
   "metadata": {},
   "source": [
    "## Develop"
   ]
  },
  {
   "cell_type": "markdown",
   "id": "1b0453c3-7b39-4d78-9c59-4a013c05758f",
   "metadata": {},
   "source": [
    "### request"
   ]
  },
  {
   "cell_type": "markdown",
   "id": "f43f7298-78d5-461b-943a-2cc66b2dbcb6",
   "metadata": {},
   "source": [
    "#### 原始參數"
   ]
  },
  {
   "cell_type": "code",
   "execution_count": 3,
   "id": "7f5799b1-7512-4b6e-88af-f7b71389a61a",
   "metadata": {
    "execution": {
     "iopub.execute_input": "2022-04-09T12:25:54.024515Z",
     "iopub.status.busy": "2022-04-09T12:25:54.024242Z",
     "iopub.status.idle": "2022-04-09T12:25:54.237784Z",
     "shell.execute_reply": "2022-04-09T12:25:54.237005Z",
     "shell.execute_reply.started": "2022-04-09T12:25:54.024493Z"
    },
    "tags": []
   },
   "outputs": [
    {
     "data": {
      "text/plain": [
       "'\\x07�\\x04\\x00dߜ�骧\\x01e\\x1d�oc�쐒�`�Kv˃7�e�/���,\\x0c0���^�\\x000`J�\\x08tD��\\x15���H\"^\\x14��)�78��SP�\\x01\\td���$\\x05�]�E\\x11,#V\\x1ef�K�l�yCEg���k���#4��0A\\x19��p\\x18���ۏ���\\x07L��%��9<:���M0�\\x05f�b_\\x17��\\x045�z����O\\x1f\\x05�h��\\x0e8��[��\\x009����T��\\x04ˉ�&��ޡAE�Z\\x18J�D\\r;�0��@hXAγh�7�\\x08\\x01�շ���B`W\\x03\\x07�xD%d\\n�M�(\\x0c\\t�̵�m%\\x1bb&�Z�.���ʺJQ��C\\x15;����\\x15�bh\\x1cS�\\r�QI�P������ڲ�|�}�G���g��6�� YA�K4x�9u�����*��ph�\\tR~�{�͓��\\x0b�᧽���^;����\\x16��c��7A\\x1a\\x05r��)�)�ڊ]�E\\x13$�|n\\x00\\x03'"
      ]
     },
     "execution_count": 3,
     "metadata": {},
     "output_type": "execute_result"
    }
   ],
   "source": [
    "url = 'https://www.facebook.com/api/graphql/'\n",
    "headers = {'accept': '*/*',\n",
    "           'accept-encoding': 'gzip, deflate, br',\n",
    "           'accept-language': 'en',\n",
    "           'content-length': '2320',\n",
    "           'content-type': 'application/x-www-form-urlencoded',\n",
    "           'cookie': 'dpr=1.190000057220459; datr=5XVRYlXdxW77tUAoA0AKGgQo',\n",
    "           'dnt': '1',\n",
    "           'origin': 'https://www.facebook.com',\n",
    "           'referer': 'https://www.facebook.com/YahooTWFinance/',\n",
    "           'sec-ch-prefers-color-scheme': 'dark',\n",
    "           'sec-ch-ua': '\" Not A;Brand\";v=\"99\", \"Chromium\";v=\"100\", \"Microsoft Edge\";v=\"100\"',\n",
    "           'sec-ch-ua-mobile': '?0',\n",
    "           'sec-ch-ua-platform': \"Windows\",\n",
    "           'sec-fetch-dest': 'empty',\n",
    "           'sec-fetch-mode': 'cors',\n",
    "           'sec-fetch-site': 'same-origin',\n",
    "           'user-agent': 'Mozilla/5.0 (Windows NT 10.0; Win64; x64) AppleWebKit/537.36 (KHTML, like Gecko) Chrome/100.0.4896.75 Safari/537.36 Edg/100.0.1185.36',\n",
    "           'x-fb-friendly-name': 'CometModernPageFeedPaginationQuery',\n",
    "           'x-fb-lsd': 'AVqJ6-MyvT8'}\n",
    "data = {'av': '0',\n",
    "        '__user': '0',\n",
    "        '__a': '1',\n",
    "        '__dyn': '7xeUmwlEnwn8K2WnFw9-2i5U4e0yoW3q322aew9G2S0zU2lwUx60gu0luq1ew65xO0FE2awgolzUO0-E4a3aUS2G3i0Boy1PwBgao6C0Mo5W3S1lwlE-UqwsUkxe2Gew9O222SUbEaU2eUlDw-waCm7-8w4ywJwSyES0QEcU2ZwhF8-4U',\n",
    "        '__csr': 'gmNQp2qkIAWdWOmCAGFRbAQCIFWAhGA__GAiSA-p7Bgy-UICWKaxvZ4AAGivjxmVmDDB-9DFoyeGqElGFF-m8GHwAwAy8yiEy8K-4kcGEtBx2jDVUkBXh9F899Qvw4tw4nwVxO1Byo0xS3G2eq6U5e7U0yC2G8w8S1iwrojFa0iHwno1D81ZUy12p9VFawfu483oz86-3279p8_wFrO5y6A1bwzG0GWx107EwmEhw9G0h2aG6Q4knwmoy9Ao8oiHgCJAhogw5bz61Lw2NE4m0y-5uEZ385i4o1BE1AE198eo4-0cgyE9FZ1606xo0eo8gw10SfwQwSw8SiE0Ri0bBCyQ3W483ww4awQwVwau1rw59wb26kKimqObK7UAy-qqHorzAdx12HxOHyFFU2mG8P5mlzXwLDy82My9bBUhiG4BJq9juABFbaAHK_bG0iG0IdwAgbaKgwlhyQVr8KvB-mtXVfGFmnmiA98mi7S08ng5G1_wvAEggj4U6u0hOcwo8dHjw46K3G1byotwWwgo2DxB6wMwwwg-0IuiLwXw9d0bu1cwsPVJdN62eE6e1Zq80Doc42yE2owBxe1wzUixS9waO1fw9S32Rg10K26E4V02Ho2jg2mxS4ieq786O0yVVAloeE2Pp9o6R08e1xBwbqK786C744U4uy0NwjE9o26w4cxC9ga8Iw3hw5nwhlRmS9BGaGi4oix1ilqGah82LKrgkQ5VUC5u4rwkE2mG0z4m8CrK0z80DK3p02jo76E4bw8G0KUhxu0jKGl02jE6ijws85e5lgrKu08KQ3i16xQheVlgO15wPwFwcKbwBgC682RxG2O4Q4a_tamp1S8wjFUS1mw5zK4olxa6am0MWhUhw5pyElCxYMWUO0a_g22w9i1Axq3iUgG4m6E',\n",
    "        '__req': 'k',\n",
    "        '__hs': '19091.HYP:comet_loggedout_pkg.2.0.0.0.',\n",
    "        'dpr': '1',\n",
    "        '__ccg': 'EXCELLENT',\n",
    "        '__rev': '1005329756',\n",
    "        '__s': 'zq0c5t:i2wcsl:zmjdas',\n",
    "        '__hsi': '7084573315501141106-0',\n",
    "        '__comet_req': '1',\n",
    "        'lsd': 'AVqJ6-MyvT8',\n",
    "        'jazoest': '2893',\n",
    "        '__spin_r': '1005329756',\n",
    "        '__spin_b': 'trunk',\n",
    "        '__spin_t': '1649505765',\n",
    "        'fb_api_caller_class': 'RelayModern',\n",
    "        'fb_api_req_friendly_name': 'CometModernPageFeedPaginationQuery',\n",
    "        'variables': str({\"UFI2CommentsProvider_commentsKey\":\"CometSinglePageContentContainerFeedQuery\",\n",
    "                          \"count\":'3',\n",
    "                          \"cursor\":\"AQHRiCtn5aYnwsoyGtUJOGIjmoEV2N8Jf7eiyvNY8d1M01vaK1cmhnDb2wZAK2CnZjup7QNTgwZpq54qnqx3S2IPsb5-Glbi3n2_dDuwpwuu0ZXZc3wK-u5H9iYlEl8MxIjl\",\n",
    "                          \"displayCommentsContextEnableComment\":'null',\n",
    "                          \"displayCommentsContextIsAdPreview\":'null',\n",
    "                          \"displayCommentsContextIsAggregatedShare\":'null',\n",
    "                          \"displayCommentsContextIsStorySet\":'null',\n",
    "                          \"displayCommentsFeedbackContext\":'null',\n",
    "                          \"feedLocation\":\"PAGE_TIMELINE\",\n",
    "                          \"feedbackSource\":'22',\n",
    "                          \"focusCommentID\":'null',\n",
    "                          \"privacySelectorRenderLocation\":\"COMET_STREAM\",\n",
    "                          \"renderLocation\":\"timeline\",\n",
    "                          \"scale\":'1',\n",
    "                          \"useDefaultActor\":'false',\n",
    "                          \"id\":\"114062348679049\"}),\n",
    "        'server_timestamps': 'true',\n",
    "        'doc_id': '7623918717633186'}\n",
    "resp = requests.post(url=url, headers=headers, data=data)\n",
    "resp.text"
   ]
  },
  {
   "cell_type": "markdown",
   "id": "486c3a8f-f984-4afa-9735-ad9d05664293",
   "metadata": {},
   "source": [
    "#### 除錯1: 編碼\n",
    "- 看起來是編碼的問題，嘗試把編碼相關的參數移除\n",
    "- 解決了前面的問題，但是又出現了新問題Orz"
   ]
  },
  {
   "cell_type": "code",
   "execution_count": 4,
   "id": "ebe6edef-2d47-4b06-b591-b0f61699a3b8",
   "metadata": {
    "execution": {
     "iopub.execute_input": "2022-04-09T12:25:54.985205Z",
     "iopub.status.busy": "2022-04-09T12:25:54.984865Z",
     "iopub.status.idle": "2022-04-09T12:25:55.174123Z",
     "shell.execute_reply": "2022-04-09T12:25:55.173460Z",
     "shell.execute_reply.started": "2022-04-09T12:25:54.985185Z"
    },
    "tags": []
   },
   "outputs": [
    {
     "data": {
      "text/plain": [
       "'{\"errors\":[{\"message\":\"A server error noncoercible_variable_value occured. Check server logs for details.\",\"severity\":\"CRITICAL\",\"code\":1675012,\"api_error_code\":null,\"summary\":\"Your Request Couldn\\'t be Processed\",\"description\":\"There was a problem with this request. We\\'re working on getting it fixed as soon as we can.\",\"description_raw\":\"There was a problem with this request. We\\'re working on getting it fixed as soon as we can.\",\"is_silent\":false,\"is_transient\":false,\"requires_reauth\":false,\"allow_user_retry\":false,\"debug_info\":null,\"query_path\":null,\"fbtrace_id\":\"HL0PHg+zrAd\",\"www_request_id\":\"Am4w6yIlHJXTTMO1qHdPBJ8\"},{\"message\":\"A server error noncoercible_variable_value occured. Check server logs for details.\",\"severity\":\"CRITICAL\",\"code\":1675012,\"api_error_code\":null,\"summary\":\"Your Request Couldn\\'t be Processed\",\"description\":\"There was a problem with this request. We\\'re working on getting it fixed as soon as we can.\",\"description_raw\":\"There was a problem with this request. We\\'re working on getting it fixed as soon as we can.\",\"is_silent\":false,\"is_transient\":false,\"requires_reauth\":false,\"allow_user_retry\":false,\"debug_info\":null,\"query_path\":null,\"fbtrace_id\":\"HL0PHg+zrAd\",\"www_request_id\":\"Am4w6yIlHJXTTMO1qHdPBJ8\"},{\"message\":\"A server error noncoercible_variable_value occured. Check server logs for details.\",\"severity\":\"CRITICAL\",\"code\":1675012,\"api_error_code\":null,\"summary\":\"Your Request Couldn\\'t be Processed\",\"description\":\"There was a problem with this request. We\\'re working on getting it fixed as soon as we can.\",\"description_raw\":\"There was a problem with this request. We\\'re working on getting it fixed as soon as we can.\",\"is_silent\":false,\"is_transient\":false,\"requires_reauth\":false,\"allow_user_retry\":false,\"debug_info\":null,\"query_path\":null,\"fbtrace_id\":\"HL0PHg+zrAd\",\"www_request_id\":\"Am4w6yIlHJXTTMO1qHdPBJ8\"},{\"message\":\"A server error noncoercible_variable_value occured. Check server logs for details.\",\"severity\":\"CRITICAL\",\"code\":1675012,\"api_error_code\":null,\"summary\":\"Your Request Couldn\\'t be Processed\",\"description\":\"There was a problem with this request. We\\'re working on getting it fixed as soon as we can.\",\"description_raw\":\"There was a problem with this request. We\\'re working on getting it fixed as soon as we can.\",\"is_silent\":false,\"is_transient\":false,\"requires_reauth\":false,\"allow_user_retry\":false,\"debug_info\":null,\"query_path\":null,\"fbtrace_id\":\"HL0PHg+zrAd\",\"www_request_id\":\"Am4w6yIlHJXTTMO1qHdPBJ8\"}],\"extensions\":{\"is_final\":true}}'"
      ]
     },
     "execution_count": 4,
     "metadata": {},
     "output_type": "execute_result"
    }
   ],
   "source": [
    "url = 'https://www.facebook.com/api/graphql/'\n",
    "headers = {'accept': '*/*',\n",
    "           #'accept-encoding': 'gzip, deflate, br',\n",
    "           'accept-language': 'en',\n",
    "           'content-length': '2320',\n",
    "           'content-type': 'application/x-www-form-urlencoded',\n",
    "           'cookie': 'dpr=1.190000057220459; datr=5XVRYlXdxW77tUAoA0AKGgQo',\n",
    "           'dnt': '1',\n",
    "           'origin': 'https://www.facebook.com',\n",
    "           'referer': 'https://www.facebook.com/YahooTWFinance/',\n",
    "           'sec-ch-prefers-color-scheme': 'dark',\n",
    "           'sec-ch-ua': '\" Not A;Brand\";v=\"99\", \"Chromium\";v=\"100\", \"Microsoft Edge\";v=\"100\"',\n",
    "           'sec-ch-ua-mobile': '?0',\n",
    "           'sec-ch-ua-platform': \"Windows\",\n",
    "           'sec-fetch-dest': 'empty',\n",
    "           'sec-fetch-mode': 'cors',\n",
    "           'sec-fetch-site': 'same-origin',\n",
    "           'user-agent': 'Mozilla/5.0 (Windows NT 10.0; Win64; x64) AppleWebKit/537.36 (KHTML, like Gecko) Chrome/100.0.4896.75 Safari/537.36 Edg/100.0.1185.36',\n",
    "           'x-fb-friendly-name': 'CometModernPageFeedPaginationQuery',\n",
    "           'x-fb-lsd': 'AVqJ6-MyvT8'}\n",
    "data = {'av': '0',\n",
    "        '__user': '0',\n",
    "        '__a': '1',\n",
    "        '__dyn': '7xeUmwlEnwn8K2WnFw9-2i5U4e0yoW3q322aew9G2S0zU2lwUx60gu0luq1ew65xO0FE2awgolzUO0-E4a3aUS2G3i0Boy1PwBgao6C0Mo5W3S1lwlE-UqwsUkxe2Gew9O222SUbEaU2eUlDw-waCm7-8w4ywJwSyES0QEcU2ZwhF8-4U',\n",
    "        '__csr': 'gmNQp2qkIAWdWOmCAGFRbAQCIFWAhGA__GAiSA-p7Bgy-UICWKaxvZ4AAGivjxmVmDDB-9DFoyeGqElGFF-m8GHwAwAy8yiEy8K-4kcGEtBx2jDVUkBXh9F899Qvw4tw4nwVxO1Byo0xS3G2eq6U5e7U0yC2G8w8S1iwrojFa0iHwno1D81ZUy12p9VFawfu483oz86-3279p8_wFrO5y6A1bwzG0GWx107EwmEhw9G0h2aG6Q4knwmoy9Ao8oiHgCJAhogw5bz61Lw2NE4m0y-5uEZ385i4o1BE1AE198eo4-0cgyE9FZ1606xo0eo8gw10SfwQwSw8SiE0Ri0bBCyQ3W483ww4awQwVwau1rw59wb26kKimqObK7UAy-qqHorzAdx12HxOHyFFU2mG8P5mlzXwLDy82My9bBUhiG4BJq9juABFbaAHK_bG0iG0IdwAgbaKgwlhyQVr8KvB-mtXVfGFmnmiA98mi7S08ng5G1_wvAEggj4U6u0hOcwo8dHjw46K3G1byotwWwgo2DxB6wMwwwg-0IuiLwXw9d0bu1cwsPVJdN62eE6e1Zq80Doc42yE2owBxe1wzUixS9waO1fw9S32Rg10K26E4V02Ho2jg2mxS4ieq786O0yVVAloeE2Pp9o6R08e1xBwbqK786C744U4uy0NwjE9o26w4cxC9ga8Iw3hw5nwhlRmS9BGaGi4oix1ilqGah82LKrgkQ5VUC5u4rwkE2mG0z4m8CrK0z80DK3p02jo76E4bw8G0KUhxu0jKGl02jE6ijws85e5lgrKu08KQ3i16xQheVlgO15wPwFwcKbwBgC682RxG2O4Q4a_tamp1S8wjFUS1mw5zK4olxa6am0MWhUhw5pyElCxYMWUO0a_g22w9i1Axq3iUgG4m6E',\n",
    "        '__req': 'k',\n",
    "        '__hs': '19091.HYP:comet_loggedout_pkg.2.0.0.0.',\n",
    "        'dpr': '1',\n",
    "        '__ccg': 'EXCELLENT',\n",
    "        '__rev': '1005329756',\n",
    "        '__s': 'zq0c5t:i2wcsl:zmjdas',\n",
    "        '__hsi': '7084573315501141106-0',\n",
    "        '__comet_req': '1',\n",
    "        'lsd': 'AVqJ6-MyvT8',\n",
    "        'jazoest': '2893',\n",
    "        '__spin_r': '1005329756',\n",
    "        '__spin_b': 'trunk',\n",
    "        '__spin_t': '1649505765',\n",
    "        'fb_api_caller_class': 'RelayModern',\n",
    "        'fb_api_req_friendly_name': 'CometModernPageFeedPaginationQuery',\n",
    "        'variables': str({\"UFI2CommentsProvider_commentsKey\":\"CometSinglePageContentContainerFeedQuery\",\n",
    "                          \"count\":'3',\n",
    "                          \"cursor\":\"AQHRiCtn5aYnwsoyGtUJOGIjmoEV2N8Jf7eiyvNY8d1M01vaK1cmhnDb2wZAK2CnZjup7QNTgwZpq54qnqx3S2IPsb5-Glbi3n2_dDuwpwuu0ZXZc3wK-u5H9iYlEl8MxIjl\",\n",
    "                          \"displayCommentsContextEnableComment\":'null',\n",
    "                          \"displayCommentsContextIsAdPreview\":'null',\n",
    "                          \"displayCommentsContextIsAggregatedShare\":'null',\n",
    "                          \"displayCommentsContextIsStorySet\":'null',\n",
    "                          \"displayCommentsFeedbackContext\":'null',\n",
    "                          \"feedLocation\":\"PAGE_TIMELINE\",\n",
    "                          \"feedbackSource\":'22',\n",
    "                          \"focusCommentID\":'null',\n",
    "                          \"privacySelectorRenderLocation\":\"COMET_STREAM\",\n",
    "                          \"renderLocation\":\"timeline\",\n",
    "                          \"scale\":'1',\n",
    "                          \"useDefaultActor\":'false',\n",
    "                          \"id\":\"114062348679049\"}),\n",
    "        'server_timestamps': 'true',\n",
    "        'doc_id': '7623918717633186'}\n",
    "resp = requests.post(url=url, headers=headers, data=data)\n",
    "resp.text"
   ]
  },
  {
   "cell_type": "markdown",
   "id": "9b1a3f93-aed9-4621-8041-527376457711",
   "metadata": {},
   "source": [
    "#### 除錯2: null v.s. 'null' v.s. ''\n",
    "- 解決了編碼的問題，但好像又出現了新的錯誤Orz\n",
    "- 開發爬蟲程式就是不斷解決看到的Bug，然後又出現新的Bug，直到成功爬到資料!\n",
    "- 仔細看裡面的參數，做一下猜測 null 和 'null'導致的問題，嘗試把他們修正成 ''看看"
   ]
  },
  {
   "cell_type": "code",
   "execution_count": 5,
   "id": "67aa11a8-596c-4de6-a533-d32b6222190d",
   "metadata": {
    "execution": {
     "iopub.execute_input": "2022-04-09T12:25:55.723986Z",
     "iopub.status.busy": "2022-04-09T12:25:55.723629Z",
     "iopub.status.idle": "2022-04-09T12:25:56.054550Z",
     "shell.execute_reply": "2022-04-09T12:25:56.053890Z",
     "shell.execute_reply.started": "2022-04-09T12:25:55.723967Z"
    },
    "tags": []
   },
   "outputs": [
    {
     "name": "stdout",
     "output_type": "stream",
     "text": [
      "dict_keys(['data', 'errors', 'extensions'])\n"
     ]
    },
    {
     "data": {
      "text/plain": [
       "'{\"data\":{\"node\":{\"__typename\":\"Page\",\"timeline_feed_units\":{\"edges\":[{\"node\":{\"__typename\":\"Story\",\"__isFeedUnit\":\"Story\",\"debug_info\":null,\"id\":\"UzpfSTExNDA2MjM0ODY3OTA0OTo0OTg2OTc4MjU4MDU0MDc2\",\"sponsored_data\":null,\"feedback\":{\"associated_group\":null,\"id\":\"ZmVlZGJhY2s6NDk4Njk3ODI1ODA1NDA3Ng==\"},\"is_story_civic\":false,\"matched_terms\":[],\"cix_screen\":null,\"attached_story\":null,\"bumpers\":null,\"comet_sections\":{\"content\":{\"__typename\":\"CometFeedStoryDefaultContentStrategy\",\"__isICometStorySection\":\"CometFeedStoryDefaultContentStrategy\",\"is_prod_eligible\":true,\"story\":{\"feedback\":{\"id\":\"ZmVlZGJhY2s6NDk4Njk3ODI1ODA1NDA3Ng==\"},\"comet_sections\":{\"above_message\":null,\"info_icon\":null,\"attachment_overlay\":null,\"attached_story\":null,\"message\":{\"__typename\":\"CometFeedStoryDefaultMessageRenderingStrategy\",\"__isICometStorySection\":\"CometFeedStoryDefaultMessageRenderingStrategy\",\"is_prod_eligible\":true,\"story\":{\"is_text_only_story\":false,\"message\":{\"delight_ranges\":[],\"image_ranges\":[],\"inline_style_ranges\":[],\"aggregated_ranges\":[],\"ranges\":[],\"color_ranges\":[],\"text\":\"\\\\u770b\\\\u8457\\\\u624b\\\\u4e0a\\\\u7684\\\\u91d1\\\\u878d\\\\u80a1\\\\u771f\\\\u4e0d\\\\u77e5\\\\u8a72\\\\u7e7c\\\\u7e8c\\\\u5b58\\\\u80a1\\\\u9084\\\\u662f\\\\u8ce3\\\\u4e86\\\\u8cfa\\\\u50f9\\\\u5dee\\\\u597d\\\\ud83d\\\\ude05\"},\"message_truncation_line_limit\":null,\"id\":\"UzpfSTExNDA2MjM0ODY3OTA0OTo0OTg2OTc4MjU4MDU0MDc2\"},\"__module_operation_CometFeedStoryMessageSection_story\":{\"__dr\":\"CometFeedStoryDefaultMessageRenderingStrategy_message$normalization.graphql\"},\"__module_component_CometFeedStoryMessageSection_story\":{\"__dr\":\"CometFeedStoryDefaultMessageRenderingStrategy.react\"}},\"message_suffix\":null,\"message_container\":{\"__typename\":\"CometFeedStoryMessageContainerRenderingStrategy\",\"__isICometStorySection\":\"CometFeedStoryMessageContainerRenderingStrategy\",\"is_prod_eligible\":true,\"story\":{\"message\":{\"text\":\"\\\\u770b\\\\u8457\\\\u624b\\\\u4e0a\\\\u7684\\\\u91d1\\\\u878d\\\\u80a1\\\\u771f\\\\u4e0d\\\\u77e5\\\\u8a72\\\\u7e7c\\\\u7e8c\\\\u5b58\\\\u80a1\\\\u9084\\\\u662f\\\\u8ce3\\\\u4e86\\\\u8cfa\\\\u50f9\\\\u5dee\\\\u597d\\\\ud83d\\\\ude05\"},\"referenced_sticker\":null,\"attachments\":[{\"style_list\":[\"share\",\"fallback\"]}],\"text_format_metadata\":null,\"comet_sections\":{\"message\":null},\"id\":\"UzpfSTExNDA2MjM0ODY3OTA0OTo0OTg2OTc4MjU4MDU0MDc2\"},\"__module_operation_CometFeedStoryMessageContainerSection_story\":{\"__dr\":\"CometFeedStoryMessageContainerRenderingStrategy_messageContainer$normalization.graphql\"},\"__module_component_CometFeedStoryMessageContainerSection_story\":{\"__dr\":\"CometFeedStoryMessageContainerRenderingStrategy.react\"}},\"message_sticker\":null,\"aggregated_stories\":null},\"encrypted_tracking\":\"AZUBH0F3DxBo9PqiTHI6PrpY4unI5MEQz77Uc2QbJuw1KFE2a_yOGdF_CoLRwni8BkZ32SF4oHv3Urqwhjo3-nMFbaRncNlEMo-VfqQOKTC85DFyP5nKvSFeyucfw9o1bKY6Bifg6JYwSBlfJZtHQkACllpYp2hhcSkUhoxh1ZVrGLA0HB5QvV6MaW1X_LeloyGmrqIx6NfbFkYQx8jfGfckRAPgH8gEVsOHvo8f6GOKecnOjjFlgr85dloQwKZPEG1W-LX0wSa9kywJiFGXYusJA-c7Xmo3YqmCdMLwM4UJmSIBJfatEmkYTtRtCz56o74xDyOftz4SbyzeFmbuQUOMxnlZ62ourN_Uk_CfX8-ctCHy3DvLNDS6ZvqjsfBufIhELjmZy880gWenCvufThcpZHPdZef33eYM0K1w5C5OX_AsnaplVyR5PJJrHvfQvuX99f'"
      ]
     },
     "execution_count": 5,
     "metadata": {},
     "output_type": "execute_result"
    }
   ],
   "source": [
    "url = 'https://www.facebook.com/api/graphql/'\n",
    "headers = {'accept': '*/*',\n",
    "           #'accept-encoding': 'gzip, deflate, br',\n",
    "           'accept-language': 'en',\n",
    "           'content-length': '2320',\n",
    "           'content-type': 'application/x-www-form-urlencoded',\n",
    "           'cookie': 'dpr=1.190000057220459; datr=5XVRYlXdxW77tUAoA0AKGgQo',\n",
    "           'dnt': '1',\n",
    "           'origin': 'https://www.facebook.com',\n",
    "           'referer': 'https://www.facebook.com/YahooTWFinance/',\n",
    "           'sec-ch-prefers-color-scheme': 'dark',\n",
    "           'sec-ch-ua': '\" Not A;Brand\";v=\"99\", \"Chromium\";v=\"100\", \"Microsoft Edge\";v=\"100\"',\n",
    "           'sec-ch-ua-mobile': '?0',\n",
    "           'sec-ch-ua-platform': \"Windows\",\n",
    "           'sec-fetch-dest': 'empty',\n",
    "           'sec-fetch-mode': 'cors',\n",
    "           'sec-fetch-site': 'same-origin',\n",
    "           'user-agent': 'Mozilla/5.0 (Windows NT 10.0; Win64; x64) AppleWebKit/537.36 (KHTML, like Gecko) Chrome/100.0.4896.75 Safari/537.36 Edg/100.0.1185.36',\n",
    "           'x-fb-friendly-name': 'CometModernPageFeedPaginationQuery',\n",
    "           'x-fb-lsd': 'AVqJ6-MyvT8'}\n",
    "data = {'av': '0',\n",
    "        '__user': '0',\n",
    "        '__a': '1',\n",
    "        '__dyn': '7xeUmwlEnwn8K2WnFw9-2i5U4e0yoW3q322aew9G2S0zU2lwUx60gu0luq1ew65xO0FE2awgolzUO0-E4a3aUS2G3i0Boy1PwBgao6C0Mo5W3S1lwlE-UqwsUkxe2Gew9O222SUbEaU2eUlDw-waCm7-8w4ywJwSyES0QEcU2ZwhF8-4U',\n",
    "        '__csr': 'gmNQp2qkIAWdWOmCAGFRbAQCIFWAhGA__GAiSA-p7Bgy-UICWKaxvZ4AAGivjxmVmDDB-9DFoyeGqElGFF-m8GHwAwAy8yiEy8K-4kcGEtBx2jDVUkBXh9F899Qvw4tw4nwVxO1Byo0xS3G2eq6U5e7U0yC2G8w8S1iwrojFa0iHwno1D81ZUy12p9VFawfu483oz86-3279p8_wFrO5y6A1bwzG0GWx107EwmEhw9G0h2aG6Q4knwmoy9Ao8oiHgCJAhogw5bz61Lw2NE4m0y-5uEZ385i4o1BE1AE198eo4-0cgyE9FZ1606xo0eo8gw10SfwQwSw8SiE0Ri0bBCyQ3W483ww4awQwVwau1rw59wb26kKimqObK7UAy-qqHorzAdx12HxOHyFFU2mG8P5mlzXwLDy82My9bBUhiG4BJq9juABFbaAHK_bG0iG0IdwAgbaKgwlhyQVr8KvB-mtXVfGFmnmiA98mi7S08ng5G1_wvAEggj4U6u0hOcwo8dHjw46K3G1byotwWwgo2DxB6wMwwwg-0IuiLwXw9d0bu1cwsPVJdN62eE6e1Zq80Doc42yE2owBxe1wzUixS9waO1fw9S32Rg10K26E4V02Ho2jg2mxS4ieq786O0yVVAloeE2Pp9o6R08e1xBwbqK786C744U4uy0NwjE9o26w4cxC9ga8Iw3hw5nwhlRmS9BGaGi4oix1ilqGah82LKrgkQ5VUC5u4rwkE2mG0z4m8CrK0z80DK3p02jo76E4bw8G0KUhxu0jKGl02jE6ijws85e5lgrKu08KQ3i16xQheVlgO15wPwFwcKbwBgC682RxG2O4Q4a_tamp1S8wjFUS1mw5zK4olxa6am0MWhUhw5pyElCxYMWUO0a_g22w9i1Axq3iUgG4m6E',\n",
    "        '__req': 'k',\n",
    "        '__hs': '19091.HYP:comet_loggedout_pkg.2.0.0.0.',\n",
    "        'dpr': '1',\n",
    "        '__ccg': 'EXCELLENT',\n",
    "        '__rev': '1005329756',\n",
    "        '__s': 'zq0c5t:i2wcsl:zmjdas',\n",
    "        '__hsi': '7084573315501141106-0',\n",
    "        '__comet_req': '1',\n",
    "        'lsd': 'AVqJ6-MyvT8',\n",
    "        'jazoest': '2893',\n",
    "        '__spin_r': '1005329756',\n",
    "        '__spin_b': 'trunk',\n",
    "        '__spin_t': '1649505765',\n",
    "        'fb_api_caller_class': 'RelayModern',\n",
    "        'fb_api_req_friendly_name': 'CometModernPageFeedPaginationQuery',\n",
    "        'variables': str({\"UFI2CommentsProvider_commentsKey\":\"CometSinglePageContentContainerFeedQuery\",\n",
    "                          \"count\":'3',\n",
    "                          \"cursor\":\"AQHRiCtn5aYnwsoyGtUJOGIjmoEV2N8Jf7eiyvNY8d1M01vaK1cmhnDb2wZAK2CnZjup7QNTgwZpq54qnqx3S2IPsb5-Glbi3n2_dDuwpwuu0ZXZc3wK-u5H9iYlEl8MxIjl\",\n",
    "                          \"displayCommentsContextEnableComment\":'',\n",
    "                          \"displayCommentsContextIsAdPreview\":'',\n",
    "                          \"displayCommentsContextIsAggregatedShare\":'',\n",
    "                          \"displayCommentsContextIsStorySet\":'',\n",
    "                          \"displayCommentsFeedbackContext\":'',\n",
    "                          \"feedLocation\":\"PAGE_TIMELINE\",\n",
    "                          \"feedbackSource\":'22',\n",
    "                          \"focusCommentID\":'',\n",
    "                          \"privacySelectorRenderLocation\":\"COMET_STREAM\",\n",
    "                          \"renderLocation\":\"timeline\",\n",
    "                          \"scale\":'1',\n",
    "                          \"useDefaultActor\":'false',\n",
    "                          \"id\":\"114062348679049\"}),\n",
    "        'server_timestamps': 'true',\n",
    "        'doc_id': '7623918717633186'}\n",
    "resp = requests.post(url=url, headers=headers, data=data)\n",
    "print(resp.json().keys())\n",
    "resp.text[:3000]"
   ]
  },
  {
   "cell_type": "markdown",
   "id": "99b40414-ba70-4096-a61a-fe85e8a269b7",
   "metadata": {
    "execution": {
     "iopub.execute_input": "2022-03-27T06:55:32.629474Z",
     "iopub.status.busy": "2022-03-27T06:55:32.629024Z",
     "iopub.status.idle": "2022-03-27T06:55:32.632383Z",
     "shell.execute_reply": "2022-03-27T06:55:32.631598Z",
     "shell.execute_reply.started": "2022-03-27T06:55:32.629457Z"
    }
   },
   "source": [
    "#### 簡化1st\n",
    "- 終於能成功取得資料了!\n",
    "- 接著嘗試逐步移除參數，讓我們後續在開發爬蟲時的程式能更簡潔，也幫我們聚焦在調整必要的參數即可!\n",
    "- 測試一個一個把參數移除"
   ]
  },
  {
   "cell_type": "code",
   "execution_count": 6,
   "id": "faa74cc5-5e07-48a2-adf5-87a5bd310ebd",
   "metadata": {
    "execution": {
     "iopub.execute_input": "2022-04-09T12:25:56.599272Z",
     "iopub.status.busy": "2022-04-09T12:25:56.598793Z",
     "iopub.status.idle": "2022-04-09T12:25:57.336139Z",
     "shell.execute_reply": "2022-04-09T12:25:57.335383Z",
     "shell.execute_reply.started": "2022-04-09T12:25:56.599252Z"
    },
    "tags": []
   },
   "outputs": [
    {
     "name": "stdout",
     "output_type": "stream",
     "text": [
      "dict_keys(['data', 'errors', 'extensions'])\n"
     ]
    },
    {
     "data": {
      "text/plain": [
       "'{\"data\":{\"node\":{\"__typename\":\"Page\",\"timeline_feed_units\":{\"edges\":[{\"node\":{\"__typename\":\"Story\",\"__isFeedUnit\":\"Story\",\"debug_info\":null,\"id\":\"UzpfSTExNDA2MjM0ODY3OTA0OTo0OTg2OTc4MjU4MDU0MDc2\",\"sponsored_data\":null,\"feedback\":{\"associated_group\":null,\"id\":\"ZmVlZGJhY2s6NDk4Njk3ODI1ODA1NDA3Ng==\"},\"is_story_civic\":false,\"matched_terms\":[],\"cix_screen\":null,\"attached_story\":null,\"bumpers\":null,\"comet_sections\":{\"content\":{\"__typename\":\"CometFeedStoryDefaultContentStrategy\",\"__isICometStorySection\":\"CometFeedStoryDefaultContentStrategy\",\"is_prod_eligible\":true,\"story\":{\"feedback\":{\"id\":\"ZmVlZGJhY2s6NDk4Njk3ODI1ODA1NDA3Ng==\"},\"comet_sections\":{\"above_message\":null,\"info_icon\":null,\"attachment_overlay\":null,\"attached_story\":null,\"message\":{\"__typename\":\"CometFeedStoryDefaultMessageRenderingStrategy\",\"__isICometStorySection\":\"CometFeedStoryDefaultMessageRenderingStrategy\",\"is_prod_eligible\":true,\"story\":{\"is_text_only_story\":false,\"message\":{\"delight_ranges\":[],\"image_ranges\":[],\"inline_style_ranges\":[],\"aggregated_ranges\":[],\"ranges\":[],\"color_ranges\":[],\"text\":\"\\\\u770b\\\\u8457\\\\u624b\\\\u4e0a\\\\u7684\\\\u91d1\\\\u878d\\\\u80a1\\\\u771f\\\\u4e0d\\\\u77e5\\\\u8a72\\\\u7e7c\\\\u7e8c\\\\u5b58\\\\u80a1\\\\u9084\\\\u662f\\\\u8ce3\\\\u4e86\\\\u8cfa\\\\u50f9\\\\u5dee\\\\u597d\\\\ud83d\\\\ude05\"},\"message_truncation_line_limit\":null,\"id\":\"UzpfSTExNDA2MjM0ODY3OTA0OTo0OTg2OTc4MjU4MDU0MDc2\"},\"__module_operation_CometFeedStoryMessageSection_story\":{\"__dr\":\"CometFeedStoryDefaultMessageRenderingStrategy_message$normalization.graphql\"},\"__module_component_CometFeedStoryMessageSection_story\":{\"__dr\":\"CometFeedStoryDefaultMessageRenderingStrategy.react\"}},\"message_suffix\":null,\"message_container\":{\"__typename\":\"CometFeedStoryMessageContainerRenderingStrategy\",\"__isICometStorySection\":\"CometFeedStoryMessageContainerRenderingStrategy\",\"is_prod_eligible\":true,\"story\":{\"message\":{\"text\":\"\\\\u770b\\\\u8457\\\\u624b\\\\u4e0a\\\\u7684\\\\u91d1\\\\u878d\\\\u80a1\\\\u771f\\\\u4e0d\\\\u77e5\\\\u8a72\\\\u7e7c\\\\u7e8c\\\\u5b58\\\\u80a1\\\\u9084\\\\u662f\\\\u8ce3\\\\u4e86\\\\u8cfa\\\\u50f9\\\\u5dee\\\\u597d\\\\ud83d\\\\ude05\"},\"referenced_sticker\":null,\"attachments\":[{\"style_list\":[\"share\",\"fallback\"]}],\"text_format_metadata\":null,\"comet_sections\":{\"message\":null},\"id\":\"UzpfSTExNDA2MjM0ODY3OTA0OTo0OTg2OTc4MjU4MDU0MDc2\"},\"__module_operation_CometFeedStoryMessageContainerSection_story\":{\"__dr\":\"CometFeedStoryMessageContainerRenderingStrategy_messageContainer$normalization.graphql\"},\"__module_component_CometFeedStoryMessageContainerSection_story\":{\"__dr\":\"CometFeedStoryMessageContainerRenderingStrategy.react\"}},\"message_sticker\":null,\"aggregated_stories\":null},\"encrypted_tracking\":\"AZXhZr76neGZ-p_J3yXPnjHkdxXNspHkg7vuERmqiOJJ2FdScn-GTQYnGvJqSldyDoWrR3aQtGzpu70tRm8_WiCgX7W1Gl5IUEAUfpJDUzy4jrOoLEeW6qvDamOclwM2RnqN1_E5rHduysFJN61M_R8X23OnnG4QZbD3R0eZK9K_M3bGzd99PVe_MAWTKXqoFANJ2UDUh173cYpvj6xgdVTtelk2wO4CQohCZySe6ylRI6__IZYq5P5ZAT0Orq7BOToRtdhxANGoOE6Eyw_ikIw_-j5i7_04j6NXbqyLD5JSOPlFecsZYeoqJx4MhfLnVRyS0YJyvLiy7FcmYfu9eCVWyfKpW64q9P5442qISFa56aDEaGvvINuzUOBALrcX5d1Jns6XO2HWvqsLi1o-TsFlJ5eHrs92nRzDq1ySndNGlapk9pBSN00M29nha13AA_YsAO'"
      ]
     },
     "execution_count": 6,
     "metadata": {},
     "output_type": "execute_result"
    }
   ],
   "source": [
    "url = 'https://www.facebook.com/api/graphql/'\n",
    "headers = {#'accept': '*/*',\n",
    "           #'accept-encoding': 'gzip, deflate, br',\n",
    "           #'accept-language': 'en',\n",
    "           #'content-length': '2320',\n",
    "           #'content-type': 'application/x-www-form-urlencoded',\n",
    "           'cookie': 'dpr=1.190000057220459; datr=5XVRYlXdxW77tUAoA0AKGgQo',\n",
    "           #'dnt': '1',\n",
    "           #'origin': 'https://www.facebook.com',\n",
    "           #'referer': 'https://www.facebook.com/YahooTWFinance/',\n",
    "           #'sec-ch-prefers-color-scheme': 'dark',\n",
    "           #'sec-ch-ua': '\" Not A;Brand\";v=\"99\", \"Chromium\";v=\"100\", \"Microsoft Edge\";v=\"100\"',\n",
    "           #'sec-ch-ua-mobile': '?0',\n",
    "           #'sec-ch-ua-platform': \"Windows\",\n",
    "           #'sec-fetch-dest': 'empty',\n",
    "           #'sec-fetch-mode': 'cors',\n",
    "           #'sec-fetch-site': 'same-origin',\n",
    "           #'user-agent': 'Mozilla/5.0 (Windows NT 10.0; Win64; x64) AppleWebKit/537.36 (KHTML, like Gecko) Chrome/100.0.4896.75 Safari/537.36 Edg/100.0.1185.36',\n",
    "           #'x-fb-friendly-name': 'CometModernPageFeedPaginationQuery',\n",
    "           #'x-fb-lsd': 'AVqJ6-MyvT8'\n",
    "            }\n",
    "data = {#'av': '0',\n",
    "        #'__user': '0',\n",
    "        #'__a': '1',\n",
    "        #'__dyn': '7xeUmwlEnwn8K2WnFw9-2i5U4e0yoW3q322aew9G2S0zU2lwUx60gu0luq1ew65xO0FE2awgolzUO0-E4a3aUS2G3i0Boy1PwBgao6C0Mo5W3S1lwlE-UqwsUkxe2Gew9O222SUbEaU2eUlDw-waCm7-8w4ywJwSyES0QEcU2ZwhF8-4U',\n",
    "        #'__csr': 'gmNQp2qkIAWdWOmCAGFRbAQCIFWAhGA__GAiSA-p7Bgy-UICWKaxvZ4AAGivjxmVmDDB-9DFoyeGqElGFF-m8GHwAwAy8yiEy8K-4kcGEtBx2jDVUkBXh9F899Qvw4tw4nwVxO1Byo0xS3G2eq6U5e7U0yC2G8w8S1iwrojFa0iHwno1D81ZUy12p9VFawfu483oz86-3279p8_wFrO5y6A1bwzG0GWx107EwmEhw9G0h2aG6Q4knwmoy9Ao8oiHgCJAhogw5bz61Lw2NE4m0y-5uEZ385i4o1BE1AE198eo4-0cgyE9FZ1606xo0eo8gw10SfwQwSw8SiE0Ri0bBCyQ3W483ww4awQwVwau1rw59wb26kKimqObK7UAy-qqHorzAdx12HxOHyFFU2mG8P5mlzXwLDy82My9bBUhiG4BJq9juABFbaAHK_bG0iG0IdwAgbaKgwlhyQVr8KvB-mtXVfGFmnmiA98mi7S08ng5G1_wvAEggj4U6u0hOcwo8dHjw46K3G1byotwWwgo2DxB6wMwwwg-0IuiLwXw9d0bu1cwsPVJdN62eE6e1Zq80Doc42yE2owBxe1wzUixS9waO1fw9S32Rg10K26E4V02Ho2jg2mxS4ieq786O0yVVAloeE2Pp9o6R08e1xBwbqK786C744U4uy0NwjE9o26w4cxC9ga8Iw3hw5nwhlRmS9BGaGi4oix1ilqGah82LKrgkQ5VUC5u4rwkE2mG0z4m8CrK0z80DK3p02jo76E4bw8G0KUhxu0jKGl02jE6ijws85e5lgrKu08KQ3i16xQheVlgO15wPwFwcKbwBgC682RxG2O4Q4a_tamp1S8wjFUS1mw5zK4olxa6am0MWhUhw5pyElCxYMWUO0a_g22w9i1Axq3iUgG4m6E',\n",
    "        #'__req': 'k',\n",
    "        #'__hs': '19091.HYP:comet_loggedout_pkg.2.0.0.0.',\n",
    "        #'dpr': '1',\n",
    "        #'__ccg': 'EXCELLENT',\n",
    "        #'__rev': '1005329756',\n",
    "        #'__s': 'zq0c5t:i2wcsl:zmjdas',\n",
    "        #'__hsi': '7084573315501141106-0',\n",
    "        #'__comet_req': '1',\n",
    "        #'lsd': 'AVqJ6-MyvT8',\n",
    "        #'jazoest': '2893',\n",
    "        #'__spin_r': '1005329756',\n",
    "        #'__spin_b': 'trunk',\n",
    "        #'__spin_t': '1649505765',\n",
    "        #'fb_api_caller_class': 'RelayModern',\n",
    "        #'fb_api_req_friendly_name': 'CometModernPageFeedPaginationQuery',\n",
    "        'variables': str({\"UFI2CommentsProvider_commentsKey\":\"CometSinglePageContentContainerFeedQuery\",\n",
    "                          \"count\":'3',\n",
    "                          \"cursor\":\"AQHRiCtn5aYnwsoyGtUJOGIjmoEV2N8Jf7eiyvNY8d1M01vaK1cmhnDb2wZAK2CnZjup7QNTgwZpq54qnqx3S2IPsb5-Glbi3n2_dDuwpwuu0ZXZc3wK-u5H9iYlEl8MxIjl\",\n",
    "                          \"displayCommentsContextEnableComment\":'',\n",
    "                          \"displayCommentsContextIsAdPreview\":'',\n",
    "                          \"displayCommentsContextIsAggregatedShare\":'',\n",
    "                          \"displayCommentsContextIsStorySet\":'',\n",
    "                          \"displayCommentsFeedbackContext\":'',\n",
    "                          \"feedLocation\":\"PAGE_TIMELINE\",\n",
    "                          \"feedbackSource\":'22',\n",
    "                          \"focusCommentID\":'',\n",
    "                          \"privacySelectorRenderLocation\":\"COMET_STREAM\",\n",
    "                          \"renderLocation\":\"timeline\",\n",
    "                          \"scale\":'1',\n",
    "                          \"useDefaultActor\":'false',\n",
    "                          \"id\":\"114062348679049\"}),\n",
    "        #'server_timestamps': 'true',\n",
    "        'doc_id': '7623918717633186'}\n",
    "resp = requests.post(url=url, headers=headers, data=data)\n",
    "print(resp.json().keys())\n",
    "resp.text[:3000]"
   ]
  },
  {
   "cell_type": "markdown",
   "id": "01ee9ab1-94d4-4d96-9022-9a1c2b20d968",
   "metadata": {},
   "source": [
    "#### 簡化2nd\n",
    "- Variable是必要的，那裡面的每個參數都是必要的嗎?\n",
    "- 接著繼續把 variables 裡面的參數移除掉"
   ]
  },
  {
   "cell_type": "code",
   "execution_count": 7,
   "id": "3661e329-f483-4c03-b8e8-4e35f3bd414f",
   "metadata": {
    "execution": {
     "iopub.execute_input": "2022-04-09T12:25:57.465523Z",
     "iopub.status.busy": "2022-04-09T12:25:57.464955Z",
     "iopub.status.idle": "2022-04-09T12:25:58.366615Z",
     "shell.execute_reply": "2022-04-09T12:25:58.365987Z",
     "shell.execute_reply.started": "2022-04-09T12:25:57.465489Z"
    },
    "tags": []
   },
   "outputs": [
    {
     "name": "stdout",
     "output_type": "stream",
     "text": [
      "dict_keys(['data', 'errors', 'extensions'])\n"
     ]
    },
    {
     "data": {
      "text/plain": [
       "'{\"data\":{\"node\":{\"__typename\":\"Page\",\"timeline_feed_units\":{\"edges\":[{\"node\":{\"__typename\":\"Story\",\"__isFeedUnit\":\"Story\",\"debug_info\":null,\"id\":\"UzpfSTExNDA2MjM0ODY3OTA0OTo0OTg2OTc4MjU4MDU0MDc2\",\"sponsored_data\":null,\"feedback\":{\"associated_group\":null,\"id\":\"ZmVlZGJhY2s6NDk4Njk3ODI1ODA1NDA3Ng==\"},\"is_story_civic\":false,\"matched_terms\":[],\"cix_screen\":null,\"attached_story\":null,\"bumpers\":null,\"comet_sections\":{\"content\":{\"__typename\":\"CometFeedStoryDefaultContentStrategy\",\"__isICometStorySection\":\"CometFeedStoryDefaultContentStrategy\",\"is_prod_eligible\":true,\"story\":{\"feedback\":{\"id\":\"ZmVlZGJhY2s6NDk4Njk3ODI1ODA1NDA3Ng==\"},\"comet_sections\":{\"above_message\":null,\"info_icon\":null,\"attachment_overlay\":null,\"attached_story\":null,\"message\":{\"__typename\":\"CometFeedStoryDefaultMessageRenderingStrategy\",\"__isICometStorySection\":\"CometFeedStoryDefaultMessageRenderingStrategy\",\"is_prod_eligible\":true,\"story\":{\"is_text_only_story\":false,\"message\":{\"delight_ranges\":[],\"image_ranges\":[],\"inline_style_ranges\":[],\"aggregated_ranges\":[],\"ranges\":[],\"color_ranges\":[],\"text\":\"\\\\u770b\\\\u8457\\\\u624b\\\\u4e0a\\\\u7684\\\\u91d1\\\\u878d\\\\u80a1\\\\u771f\\\\u4e0d\\\\u77e5\\\\u8a72\\\\u7e7c\\\\u7e8c\\\\u5b58\\\\u80a1\\\\u9084\\\\u662f\\\\u8ce3\\\\u4e86\\\\u8cfa\\\\u50f9\\\\u5dee\\\\u597d\\\\ud83d\\\\ude05\"},\"message_truncation_line_limit\":null,\"id\":\"UzpfSTExNDA2MjM0ODY3OTA0OTo0OTg2OTc4MjU4MDU0MDc2\"},\"__module_operation_CometFeedStoryMessageSection_story\":{\"__dr\":\"CometFeedStoryDefaultMessageRenderingStrategy_message$normalization.graphql\"},\"__module_component_CometFeedStoryMessageSection_story\":{\"__dr\":\"CometFeedStoryDefaultMessageRenderingStrategy.react\"}},\"message_suffix\":null,\"message_container\":{\"__typename\":\"CometFeedStoryMessageContainerRenderingStrategy\",\"__isICometStorySection\":\"CometFeedStoryMessageContainerRenderingStrategy\",\"is_prod_eligible\":true,\"story\":{\"message\":{\"text\":\"\\\\u770b\\\\u8457\\\\u624b\\\\u4e0a\\\\u7684\\\\u91d1\\\\u878d\\\\u80a1\\\\u771f\\\\u4e0d\\\\u77e5\\\\u8a72\\\\u7e7c\\\\u7e8c\\\\u5b58\\\\u80a1\\\\u9084\\\\u662f\\\\u8ce3\\\\u4e86\\\\u8cfa\\\\u50f9\\\\u5dee\\\\u597d\\\\ud83d\\\\ude05\"},\"referenced_sticker\":null,\"attachments\":[{\"style_list\":[\"share\",\"fallback\"]}],\"text_format_metadata\":null,\"comet_sections\":{\"message\":null},\"id\":\"UzpfSTExNDA2MjM0ODY3OTA0OTo0OTg2OTc4MjU4MDU0MDc2\"},\"__module_operation_CometFeedStoryMessageContainerSection_story\":{\"__dr\":\"CometFeedStoryMessageContainerRenderingStrategy_messageContainer$normalization.graphql\"},\"__module_component_CometFeedStoryMessageContainerSection_story\":{\"__dr\":\"CometFeedStoryMessageContainerRenderingStrategy.react\"}},\"message_sticker\":null,\"aggregated_stories\":null},\"encrypted_tracking\":\"AZVr6m7Ou294xpdR4tpDc4o1rXIH1NLswie-VAdQo12cJcolLsYXyUyqZkINC7Vwp2cP3WRC40rQ77DrYfwOd6RaITVSnjZC1R1esW_Cy9yvswqDpBZXtUAciJgqyaVLJnkq4ywE5MWCMLDUDPRS43ABaugVZG8Zhch3HT9qgD8ztvzV01uqtN0O9_ZWV5A67EAm6MTQls25xguUwLkbtHliuNiX1wY-zzBi0PHQG-31ARkmraZbwGBV2kaCS_SgUZXU9ELy64bjdngRgodfbk2bgx_mjKOd08iA-GzbGvdtb7IGhMVeLknRCjLmBy4r6vE6TqMj1jzK1clutzOAFM6RslLhUuQid9Z8l6TH-Kf3jP49_8DoqTeWcGmByGSI71SyCyhUby0bIHLiRHJa7BTJaHVMmwHjyT8sjGwuQoPtHnu4id82d7BSjAjr03YW85vfeQ'"
      ]
     },
     "execution_count": 7,
     "metadata": {},
     "output_type": "execute_result"
    }
   ],
   "source": [
    "url = 'https://www.facebook.com/api/graphql/'\n",
    "headers = {#'accept': '*/*',\n",
    "           #'accept-encoding': 'gzip, deflate, br',\n",
    "           #'accept-language': 'en',\n",
    "           #'content-length': '2320',\n",
    "           #'content-type': 'application/x-www-form-urlencoded',\n",
    "           'cookie': 'dpr=1.190000057220459; datr=5XVRYlXdxW77tUAoA0AKGgQo',\n",
    "           #'dnt': '1',\n",
    "           #'origin': 'https://www.facebook.com',\n",
    "           #'referer': 'https://www.facebook.com/YahooTWFinance/',\n",
    "           #'sec-ch-prefers-color-scheme': 'dark',\n",
    "           #'sec-ch-ua': '\" Not A;Brand\";v=\"99\", \"Chromium\";v=\"100\", \"Microsoft Edge\";v=\"100\"',\n",
    "           #'sec-ch-ua-mobile': '?0',\n",
    "           #'sec-ch-ua-platform': \"Windows\",\n",
    "           #'sec-fetch-dest': 'empty',\n",
    "           #'sec-fetch-mode': 'cors',\n",
    "           #'sec-fetch-site': 'same-origin',\n",
    "           #'user-agent': 'Mozilla/5.0 (Windows NT 10.0; Win64; x64) AppleWebKit/537.36 (KHTML, like Gecko) Chrome/100.0.4896.75 Safari/537.36 Edg/100.0.1185.36',\n",
    "           #'x-fb-friendly-name': 'CometModernPageFeedPaginationQuery',\n",
    "           #'x-fb-lsd': 'AVqJ6-MyvT8'\n",
    "            }\n",
    "data = {#'av': '0',\n",
    "        #'__user': '0',\n",
    "        #'__a': '1',\n",
    "        #'__dyn': '7xeUmwlEnwn8K2WnFw9-2i5U4e0yoW3q322aew9G2S0zU2lwUx60gu0luq1ew65xO0FE2awgolzUO0-E4a3aUS2G3i0Boy1PwBgao6C0Mo5W3S1lwlE-UqwsUkxe2Gew9O222SUbEaU2eUlDw-waCm7-8w4ywJwSyES0QEcU2ZwhF8-4U',\n",
    "        #'__csr': 'gmNQp2qkIAWdWOmCAGFRbAQCIFWAhGA__GAiSA-p7Bgy-UICWKaxvZ4AAGivjxmVmDDB-9DFoyeGqElGFF-m8GHwAwAy8yiEy8K-4kcGEtBx2jDVUkBXh9F899Qvw4tw4nwVxO1Byo0xS3G2eq6U5e7U0yC2G8w8S1iwrojFa0iHwno1D81ZUy12p9VFawfu483oz86-3279p8_wFrO5y6A1bwzG0GWx107EwmEhw9G0h2aG6Q4knwmoy9Ao8oiHgCJAhogw5bz61Lw2NE4m0y-5uEZ385i4o1BE1AE198eo4-0cgyE9FZ1606xo0eo8gw10SfwQwSw8SiE0Ri0bBCyQ3W483ww4awQwVwau1rw59wb26kKimqObK7UAy-qqHorzAdx12HxOHyFFU2mG8P5mlzXwLDy82My9bBUhiG4BJq9juABFbaAHK_bG0iG0IdwAgbaKgwlhyQVr8KvB-mtXVfGFmnmiA98mi7S08ng5G1_wvAEggj4U6u0hOcwo8dHjw46K3G1byotwWwgo2DxB6wMwwwg-0IuiLwXw9d0bu1cwsPVJdN62eE6e1Zq80Doc42yE2owBxe1wzUixS9waO1fw9S32Rg10K26E4V02Ho2jg2mxS4ieq786O0yVVAloeE2Pp9o6R08e1xBwbqK786C744U4uy0NwjE9o26w4cxC9ga8Iw3hw5nwhlRmS9BGaGi4oix1ilqGah82LKrgkQ5VUC5u4rwkE2mG0z4m8CrK0z80DK3p02jo76E4bw8G0KUhxu0jKGl02jE6ijws85e5lgrKu08KQ3i16xQheVlgO15wPwFwcKbwBgC682RxG2O4Q4a_tamp1S8wjFUS1mw5zK4olxa6am0MWhUhw5pyElCxYMWUO0a_g22w9i1Axq3iUgG4m6E',\n",
    "        #'__req': 'k',\n",
    "        #'__hs': '19091.HYP:comet_loggedout_pkg.2.0.0.0.',\n",
    "        #'dpr': '1',\n",
    "        #'__ccg': 'EXCELLENT',\n",
    "        #'__rev': '1005329756',\n",
    "        #'__s': 'zq0c5t:i2wcsl:zmjdas',\n",
    "        #'__hsi': '7084573315501141106-0',\n",
    "        #'__comet_req': '1',\n",
    "        #'lsd': 'AVqJ6-MyvT8',\n",
    "        #'jazoest': '2893',\n",
    "        #'__spin_r': '1005329756',\n",
    "        #'__spin_b': 'trunk',\n",
    "        #'__spin_t': '1649505765',\n",
    "        #'fb_api_caller_class': 'RelayModern',\n",
    "        #'fb_api_req_friendly_name': 'CometModernPageFeedPaginationQuery',\n",
    "        'variables': str({#\"UFI2CommentsProvider_commentsKey\":\"CometSinglePageContentContainerFeedQuery\",\n",
    "                          \"count\":'3',\n",
    "                          \"cursor\":\"AQHRiCtn5aYnwsoyGtUJOGIjmoEV2N8Jf7eiyvNY8d1M01vaK1cmhnDb2wZAK2CnZjup7QNTgwZpq54qnqx3S2IPsb5-Glbi3n2_dDuwpwuu0ZXZc3wK-u5H9iYlEl8MxIjl\",\n",
    "                          #\"displayCommentsContextEnableComment\":'',\n",
    "                          #\"displayCommentsContextIsAdPreview\":'',\n",
    "                          #\"displayCommentsContextIsAggregatedShare\":'',\n",
    "                          #\"displayCommentsContextIsStorySet\":'',\n",
    "                          #\"displayCommentsFeedbackContext\":'',\n",
    "                          #\"feedLocation\":\"PAGE_TIMELINE\",\n",
    "                          #\"feedbackSource\":'22',\n",
    "                          #\"focusCommentID\":'',\n",
    "                          #\"privacySelectorRenderLocation\":\"COMET_STREAM\",\n",
    "                          #\"renderLocation\":\"timeline\",\n",
    "                          #\"scale\":'1',\n",
    "                          #\"useDefaultActor\":'false',\n",
    "                          \"id\":\"114062348679049\"}),\n",
    "        #'server_timestamps': 'true',\n",
    "        'doc_id': '7623918717633186'}\n",
    "resp = requests.post(url=url, headers=headers, data=data)\n",
    "print(resp.json().keys())\n",
    "resp.text[:3000]"
   ]
  },
  {
   "cell_type": "markdown",
   "id": "ba6447c5-549a-4ece-9f87-1ce1da38da8d",
   "metadata": {},
   "source": [
    "#### 簡化後的參數"
   ]
  },
  {
   "cell_type": "code",
   "execution_count": 8,
   "id": "07cc548b-4a87-40c1-98ed-c983f10e3ce2",
   "metadata": {
    "execution": {
     "iopub.execute_input": "2022-04-09T12:25:58.488786Z",
     "iopub.status.busy": "2022-04-09T12:25:58.488261Z",
     "iopub.status.idle": "2022-04-09T12:25:59.408135Z",
     "shell.execute_reply": "2022-04-09T12:25:59.407486Z",
     "shell.execute_reply.started": "2022-04-09T12:25:58.488768Z"
    },
    "tags": []
   },
   "outputs": [
    {
     "name": "stdout",
     "output_type": "stream",
     "text": [
      "dict_keys(['data', 'errors', 'extensions'])\n"
     ]
    },
    {
     "data": {
      "text/plain": [
       "'{\"data\":{\"node\":{\"__typename\":\"Page\",\"timeline_feed_units\":{\"edges\":[{\"node\":{\"__typename\":\"Story\",\"__isFeedUnit\":\"Story\",\"debug_info\":null,\"id\":\"UzpfSTExNDA2MjM0ODY3OTA0OTo0OTg2OTc4MjU4MDU0MDc2\",\"sponsored_data\":null,\"feedback\":{\"associated_group\":null,\"id\":\"ZmVlZGJhY2s6NDk4Njk3ODI1ODA1NDA3Ng==\"},\"is_story_civic\":false,\"matched_terms\":[],\"cix_screen\":null,\"attached_story\":null,\"bumpers\":null,\"comet_sections\":{\"content\":{\"__typename\":\"CometFeedStoryDefaultContentStrategy\",\"__isICometStorySection\":\"CometFeedStoryDefaultContentStrategy\",\"is_prod_eligible\":true,\"story\":{\"feedback\":{\"id\":\"ZmVlZGJhY2s6NDk4Njk3ODI1ODA1NDA3Ng==\"},\"comet_sections\":{\"above_message\":null,\"info_icon\":null,\"attachment_overlay\":null,\"attached_story\":null,\"message\":{\"__typename\":\"CometFeedStoryDefaultMessageRenderingStrategy\",\"__isICometStorySection\":\"CometFeedStoryDefaultMessageRenderingStrategy\",\"is_prod_eligible\":true,\"story\":{\"is_text_only_story\":false,\"message\":{\"delight_ranges\":[],\"image_ranges\":[],\"inline_style_ranges\":[],\"aggregated_ranges\":[],\"ranges\":[],\"color_ranges\":[],\"text\":\"\\\\u770b\\\\u8457\\\\u624b\\\\u4e0a\\\\u7684\\\\u91d1\\\\u878d\\\\u80a1\\\\u771f\\\\u4e0d\\\\u77e5\\\\u8a72\\\\u7e7c\\\\u7e8c\\\\u5b58\\\\u80a1\\\\u9084\\\\u662f\\\\u8ce3\\\\u4e86\\\\u8cfa\\\\u50f9\\\\u5dee\\\\u597d\\\\ud83d\\\\ude05\"},\"message_truncation_line_limit\":null,\"id\":\"UzpfSTExNDA2MjM0ODY3OTA0OTo0OTg2OTc4MjU4MDU0MDc2\"},\"__module_operation_CometFeedStoryMessageSection_story\":{\"__dr\":\"CometFeedStoryDefaultMessageRenderingStrategy_message$normalization.graphql\"},\"__module_component_CometFeedStoryMessageSection_story\":{\"__dr\":\"CometFeedStoryDefaultMessageRenderingStrategy.react\"}},\"message_suffix\":null,\"message_container\":{\"__typename\":\"CometFeedStoryMessageContainerRenderingStrategy\",\"__isICometStorySection\":\"CometFeedStoryMessageContainerRenderingStrategy\",\"is_prod_eligible\":true,\"story\":{\"message\":{\"text\":\"\\\\u770b\\\\u8457\\\\u624b\\\\u4e0a\\\\u7684\\\\u91d1\\\\u878d\\\\u80a1\\\\u771f\\\\u4e0d\\\\u77e5\\\\u8a72\\\\u7e7c\\\\u7e8c\\\\u5b58\\\\u80a1\\\\u9084\\\\u662f\\\\u8ce3\\\\u4e86\\\\u8cfa\\\\u50f9\\\\u5dee\\\\u597d\\\\ud83d\\\\ude05\"},\"referenced_sticker\":null,\"attachments\":[{\"style_list\":[\"share\",\"fallback\"]}],\"text_format_metadata\":null,\"comet_sections\":{\"message\":null},\"id\":\"UzpfSTExNDA2MjM0ODY3OTA0OTo0OTg2OTc4MjU4MDU0MDc2\"},\"__module_operation_CometFeedStoryMessageContainerSection_story\":{\"__dr\":\"CometFeedStoryMessageContainerRenderingStrategy_messageContainer$normalization.graphql\"},\"__module_component_CometFeedStoryMessageContainerSection_story\":{\"__dr\":\"CometFeedStoryMessageContainerRenderingStrategy.react\"}},\"message_sticker\":null,\"aggregated_stories\":null},\"encrypted_tracking\":\"AZWrN7TnShpBtSe0ASOIB0CoCbSyTXUYr_l-2ngbiZb061OIKI2cX3cwevM4c8JaF6sDG4RktAg1It0rXig34NAQ9fLKTO7RjvIsHxyIiIonWYE_VuBGchZP4S-MeQo7-uOvx-jaNJH77hH9sudeTj1gLr-H4pW8gm0s9TIAaoT52Hs7WLjEJqUYoJqrdOSo8wDGOplPr9m36OdSbToXn_ZQ2FVBkZPo6zmsUiNm51iWLyD3dC_3oynW1ufBUGr2G5PxqSc6piwvknQmnAru1tnkseTqg0JlmVO2QjEmf3EJv1AQqndU1bbUtnCIrAmr-0849liUdBEUmPTC0HpU2rNO1XAK6fcAwwyUQsKBYAYp-lnRqw2Bv7DGl_wgNNY0p_eEyF8MrRroR3tAVmchGkqSutMi8mS4a0KJRBxJxz9-tCeLWB_cNQCzQWkJBrx0n47MWb'"
      ]
     },
     "execution_count": 8,
     "metadata": {},
     "output_type": "execute_result"
    }
   ],
   "source": [
    "url = 'https://www.facebook.com/api/graphql/'\n",
    "headers = {'cookie': 'dpr=1.190000057220459; datr=5XVRYlXdxW77tUAoA0AKGgQo'}\n",
    "data = {'variables': str({\"count\":'3',\n",
    "                          \"cursor\":\"AQHRiCtn5aYnwsoyGtUJOGIjmoEV2N8Jf7eiyvNY8d1M01vaK1cmhnDb2wZAK2CnZjup7QNTgwZpq54qnqx3S2IPsb5-Glbi3n2_dDuwpwuu0ZXZc3wK-u5H9iYlEl8MxIjl\",\n",
    "                          \"id\":\"114062348679049\"}),\n",
    "        'doc_id': '7623918717633186'}\n",
    "resp = requests.post(url=url, headers=headers, data=data)\n",
    "print(resp.json().keys())\n",
    "resp.text[:3000]"
   ]
  },
  {
   "cell_type": "markdown",
   "id": "7fddf19c-0fd3-492e-9b0a-bff716477866",
   "metadata": {},
   "source": [
    "#### 嘗試: 可以一次抓10篇嗎?"
   ]
  },
  {
   "cell_type": "markdown",
   "id": "bf4eb42d-b3ed-4df8-9beb-f6361d131791",
   "metadata": {},
   "source": [
    "### Parsing\n",
    "- 如何 Parsing json 裡面的資料?\n",
    "- 讓學生找看看這些key中分別有哪些資料?\n",
    "- 如果資料太多可以再往下一層細分keys\n",
    "- 練習: 資料在哪裡，怎麼取出來?"
   ]
  },
  {
   "cell_type": "code",
   "execution_count": 9,
   "id": "70660ff6-46c3-40c4-ac1e-93329957b98b",
   "metadata": {
    "execution": {
     "iopub.execute_input": "2022-04-09T12:26:23.319002Z",
     "iopub.status.busy": "2022-04-09T12:26:23.318671Z",
     "iopub.status.idle": "2022-04-09T12:26:23.326130Z",
     "shell.execute_reply": "2022-04-09T12:26:23.325221Z",
     "shell.execute_reply.started": "2022-04-09T12:26:23.318976Z"
    }
   },
   "outputs": [
    {
     "data": {
      "text/plain": [
       "dict_keys(['data', 'errors', 'extensions'])"
      ]
     },
     "execution_count": 9,
     "metadata": {},
     "output_type": "execute_result"
    }
   ],
   "source": [
    "resp.json().keys()"
   ]
  },
  {
   "cell_type": "code",
   "execution_count": 10,
   "id": "4a6cd5e8-b831-4b4d-980f-d2db0a33c0de",
   "metadata": {
    "execution": {
     "iopub.execute_input": "2022-04-09T12:28:24.566362Z",
     "iopub.status.busy": "2022-04-09T12:28:24.565963Z",
     "iopub.status.idle": "2022-04-09T12:28:24.573736Z",
     "shell.execute_reply": "2022-04-09T12:28:24.572894Z",
     "shell.execute_reply.started": "2022-04-09T12:28:24.566344Z"
    },
    "tags": []
   },
   "outputs": [
    {
     "data": {
      "text/plain": [
       "dict_keys(['node'])"
      ]
     },
     "execution_count": 10,
     "metadata": {},
     "output_type": "execute_result"
    }
   ],
   "source": [
    "# \n",
    "resp.json()['data'].keys()"
   ]
  },
  {
   "cell_type": "code",
   "execution_count": 11,
   "id": "b4ba0bd2-f6ff-4e19-adcc-1d714b5f7000",
   "metadata": {
    "execution": {
     "iopub.execute_input": "2022-04-09T12:28:35.775735Z",
     "iopub.status.busy": "2022-04-09T12:28:35.775115Z",
     "iopub.status.idle": "2022-04-09T12:28:35.784259Z",
     "shell.execute_reply": "2022-04-09T12:28:35.783483Z",
     "shell.execute_reply.started": "2022-04-09T12:28:35.775709Z"
    }
   },
   "outputs": [
    {
     "data": {
      "text/plain": [
       "dict_keys(['__typename', 'timeline_feed_units', 'id'])"
      ]
     },
     "execution_count": 11,
     "metadata": {},
     "output_type": "execute_result"
    }
   ],
   "source": [
    "resp.json()['data']['node'].keys()"
   ]
  },
  {
   "cell_type": "code",
   "execution_count": 12,
   "id": "4d0a334a-5879-4e99-b38c-815cc3592149",
   "metadata": {
    "execution": {
     "iopub.execute_input": "2022-04-09T12:28:52.025864Z",
     "iopub.status.busy": "2022-04-09T12:28:52.025568Z",
     "iopub.status.idle": "2022-04-09T12:28:52.033206Z",
     "shell.execute_reply": "2022-04-09T12:28:52.032439Z",
     "shell.execute_reply.started": "2022-04-09T12:28:52.025846Z"
    }
   },
   "outputs": [
    {
     "data": {
      "text/plain": [
       "'Page'"
      ]
     },
     "execution_count": 12,
     "metadata": {},
     "output_type": "execute_result"
    }
   ],
   "source": [
    "resp.json()['data']['node']['__typename']"
   ]
  },
  {
   "cell_type": "code",
   "execution_count": 13,
   "id": "605f6af3-d69b-402b-8061-ae0027e1bdf2",
   "metadata": {
    "execution": {
     "iopub.execute_input": "2022-04-09T12:29:11.017518Z",
     "iopub.status.busy": "2022-04-09T12:29:11.017299Z",
     "iopub.status.idle": "2022-04-09T12:29:11.024691Z",
     "shell.execute_reply": "2022-04-09T12:29:11.024009Z",
     "shell.execute_reply.started": "2022-04-09T12:29:11.017502Z"
    },
    "tags": []
   },
   "outputs": [
    {
     "data": {
      "text/plain": [
       "'114062348679049'"
      ]
     },
     "execution_count": 13,
     "metadata": {},
     "output_type": "execute_result"
    }
   ],
   "source": [
    "resp.json()['data']['node']['id']"
   ]
  },
  {
   "cell_type": "code",
   "execution_count": 14,
   "id": "e24d9835-21d5-42f4-a842-7828ed38ac78",
   "metadata": {
    "execution": {
     "iopub.execute_input": "2022-04-09T12:29:13.853801Z",
     "iopub.status.busy": "2022-04-09T12:29:13.853466Z",
     "iopub.status.idle": "2022-04-09T12:29:13.861103Z",
     "shell.execute_reply": "2022-04-09T12:29:13.860201Z",
     "shell.execute_reply.started": "2022-04-09T12:29:13.853779Z"
    }
   },
   "outputs": [
    {
     "data": {
      "text/plain": [
       "dict_keys(['edges', 'page_info'])"
      ]
     },
     "execution_count": 14,
     "metadata": {},
     "output_type": "execute_result"
    }
   ],
   "source": [
    "resp.json()['data']['node']['timeline_feed_units'].keys()"
   ]
  },
  {
   "cell_type": "code",
   "execution_count": 15,
   "id": "1dd0c1c2-90ec-4872-809e-3c9e38b2dace",
   "metadata": {
    "execution": {
     "iopub.execute_input": "2022-04-09T12:29:24.354751Z",
     "iopub.status.busy": "2022-04-09T12:29:24.354242Z",
     "iopub.status.idle": "2022-04-09T12:29:24.362052Z",
     "shell.execute_reply": "2022-04-09T12:29:24.361277Z",
     "shell.execute_reply.started": "2022-04-09T12:29:24.354729Z"
    }
   },
   "outputs": [
    {
     "data": {
      "text/plain": [
       "{'has_next_page': True,\n",
       " 'end_cursor': 'AQHROijgdx944Y2MqrnGbyt5zvn9NbpqlKu6PVr0rDpCddhOMDOrHb7fYAHZMpKLtB2h5McosBYrX66o4Pshdl1gcbDCnV0c_rNIot88Bl7KCSkxERKlTGj3Z72BGx1fLIRv'}"
      ]
     },
     "execution_count": 15,
     "metadata": {},
     "output_type": "execute_result"
    }
   ],
   "source": [
    "resp.json()['data']['node']['timeline_feed_units']['page_info']"
   ]
  },
  {
   "cell_type": "code",
   "execution_count": 16,
   "id": "55f76713-ac58-4838-8139-8863c35f06e4",
   "metadata": {
    "execution": {
     "iopub.execute_input": "2022-04-09T12:29:43.039846Z",
     "iopub.status.busy": "2022-04-09T12:29:43.039472Z",
     "iopub.status.idle": "2022-04-09T12:29:43.047368Z",
     "shell.execute_reply": "2022-04-09T12:29:43.046697Z",
     "shell.execute_reply.started": "2022-04-09T12:29:43.039829Z"
    },
    "tags": []
   },
   "outputs": [
    {
     "data": {
      "text/plain": [
       "3"
      ]
     },
     "execution_count": 16,
     "metadata": {},
     "output_type": "execute_result"
    }
   ],
   "source": [
    "len(resp.json()['data']['node']['timeline_feed_units']['edges'])"
   ]
  },
  {
   "cell_type": "code",
   "execution_count": 17,
   "id": "3e568904-6108-474f-b0f9-f84d0eac9480",
   "metadata": {
    "execution": {
     "iopub.execute_input": "2022-04-09T12:30:00.536431Z",
     "iopub.status.busy": "2022-04-09T12:30:00.536074Z",
     "iopub.status.idle": "2022-04-09T12:30:00.543669Z",
     "shell.execute_reply": "2022-04-09T12:30:00.542945Z",
     "shell.execute_reply.started": "2022-04-09T12:30:00.536412Z"
    },
    "tags": []
   },
   "outputs": [
    {
     "data": {
      "text/plain": [
       "dict_keys(['node', 'cursor'])"
      ]
     },
     "execution_count": 17,
     "metadata": {},
     "output_type": "execute_result"
    }
   ],
   "source": [
    "resp.json()['data']['node']['timeline_feed_units']['edges'][0].keys()"
   ]
  },
  {
   "cell_type": "code",
   "execution_count": 18,
   "id": "03fc02c1-e9a1-44da-99c3-e45577450543",
   "metadata": {
    "execution": {
     "iopub.execute_input": "2022-04-09T12:30:21.789342Z",
     "iopub.status.busy": "2022-04-09T12:30:21.788995Z",
     "iopub.status.idle": "2022-04-09T12:30:21.798858Z",
     "shell.execute_reply": "2022-04-09T12:30:21.797878Z",
     "shell.execute_reply.started": "2022-04-09T12:30:21.789322Z"
    },
    "tags": []
   },
   "outputs": [
    {
     "data": {
      "text/plain": [
       "'AQHRYR66FKhEWCpdSMet3cohgSK3wtkMB65Cta7ldU-8RINtdkvYyeRHIRZ1sfiqydyMS2N_8Dfbx9rna6HEZZ7esotiy1T3BI56XVSDNJkMJfT6EPlQhGL22B-tseC8Sqw8'"
      ]
     },
     "execution_count": 18,
     "metadata": {},
     "output_type": "execute_result"
    }
   ],
   "source": [
    "resp.json()['data']['node']['timeline_feed_units']['edges'][0]['cursor']"
   ]
  },
  {
   "cell_type": "code",
   "execution_count": 19,
   "id": "f4c3dc79",
   "metadata": {},
   "outputs": [
    {
     "data": {
      "text/plain": [
       "'AQHRHgkkNuhGRC0y4tXoKAyfuC6SuxeGOW89NlqG7tUK5L6s9jtLMDycEpk4g5i4NZIKiHQJ64nf9zV_gP-6W-ZNTzm-BwCLWYTm2FSwSeMjhfrb3BpVme8cltERaDli1_qw'"
      ]
     },
     "execution_count": 19,
     "metadata": {},
     "output_type": "execute_result"
    }
   ],
   "source": [
    "resp.json()['data']['node']['timeline_feed_units']['edges'][1]['cursor']"
   ]
  },
  {
   "cell_type": "code",
   "execution_count": 20,
   "id": "feb2c44d",
   "metadata": {},
   "outputs": [
    {
     "data": {
      "text/plain": [
       "'AQHRXwhyT7nHyRb7ki--yJB3DYEbdxKJmAojDaxR2kx2_rKH7MO903TFIhP1ZItKy9flArVLxLNuKn-F94bw94T0AQXmXSqFfHCYR7N7xaAvAnsn7KFxKkzyB3IYEW_VGzG4'"
      ]
     },
     "execution_count": 20,
     "metadata": {},
     "output_type": "execute_result"
    }
   ],
   "source": [
    "resp.json()['data']['node']['timeline_feed_units']['edges'][2]['cursor']"
   ]
  },
  {
   "cell_type": "markdown",
   "id": "fedfab0b-22e6-433f-9282-6203ffb78e39",
   "metadata": {},
   "source": [
    "#### 活動1\n",
    "- 讓學生嘗試找一下能不能找到這個階層\n",
    "- 找到後嘗試檢視裡面有哪些東西"
   ]
  },
  {
   "cell_type": "code",
   "execution_count": 21,
   "id": "f116bded-8dcc-4aad-bee0-c6d7da996983",
   "metadata": {
    "execution": {
     "iopub.execute_input": "2022-04-09T12:30:38.415738Z",
     "iopub.status.busy": "2022-04-09T12:30:38.415435Z",
     "iopub.status.idle": "2022-04-09T12:30:38.471898Z",
     "shell.execute_reply": "2022-04-09T12:30:38.470986Z",
     "shell.execute_reply.started": "2022-04-09T12:30:38.415720Z"
    },
    "tags": []
   },
   "outputs": [
    {
     "data": {
      "text/plain": [
       "dict_keys(['__typename', '__isFeedUnit', 'debug_info', 'id', 'sponsored_data', 'feedback', 'is_story_civic', 'matched_terms', 'cix_screen', 'attached_story', 'bumpers', 'comet_sections', 'encrypted_tracking', 'should_host_actor_link_in_watch', 'whatsapp_ad_context', 'schema_context', 'click_tracking_linkshim_cb', 'encrypted_click_tracking', '__module_operation_CometFeedUnitContainerSection_feedUnit', '__module_component_CometFeedUnitContainerSection_feedUnit', '__isTrackableFeedUnit', 'trackingdata', 'viewability_config', 'client_view_config', '__isNode'])"
      ]
     },
     "execution_count": 21,
     "metadata": {},
     "output_type": "execute_result"
    }
   ],
   "source": [
    "resp.json()['data']['node']['timeline_feed_units']['edges'][0]['node'].keys()"
   ]
  },
  {
   "cell_type": "code",
   "execution_count": 1,
   "id": "aa0936c8-c94b-4842-b472-29cfeaa53bb6",
   "metadata": {
    "execution": {
     "iopub.execute_input": "2022-04-17T10:55:32.708695Z",
     "iopub.status.busy": "2022-04-17T10:55:32.708342Z",
     "iopub.status.idle": "2022-04-17T10:55:32.712080Z",
     "shell.execute_reply": "2022-04-17T10:55:32.711353Z",
     "shell.execute_reply.started": "2022-04-17T10:55:32.708636Z"
    },
    "tags": []
   },
   "outputs": [],
   "source": [
    "resp.json()['data']['node']['timeline_feed_units']['edges'][0]['node']['comet_sections']"
   ]
  },
  {
   "cell_type": "markdown",
   "id": "c72433b1-6219-4285-9df1-e5128946af77",
   "metadata": {},
   "source": [
    "#### 活動2\n",
    "- 嘗試從 comet_sections 中找到以下資訊\n",
    "  - pagename\n",
    "  - pageid\n",
    "  - postid\n",
    "  - sharecount\n",
    "  - commentcount\n",
    "  - displaycommentcount\n",
    "  - reactors\n",
    "  - reaction\n",
    "  - top_reactions\n",
    "  - time\n",
    "  - message\n",
    "  - url\n",
    "- 為了方便，我們先將 resp.json()['data']['node']['timeline_feed_units']['edges'][0]['node']['comet_sections'] 命名為 comet_sections"
   ]
  },
  {
   "cell_type": "code",
   "execution_count": 23,
   "id": "685e6cb5-7172-4720-a3a4-d272b75b6edc",
   "metadata": {
    "execution": {
     "iopub.execute_input": "2022-04-09T12:47:30.467492Z",
     "iopub.status.busy": "2022-04-09T12:47:30.467219Z",
     "iopub.status.idle": "2022-04-09T12:47:30.475030Z",
     "shell.execute_reply": "2022-04-09T12:47:30.474315Z",
     "shell.execute_reply.started": "2022-04-09T12:47:30.467476Z"
    },
    "tags": []
   },
   "outputs": [
    {
     "data": {
      "text/plain": [
       "dict_keys(['content', 'layout', 'copyright_violation_header', 'header', 'context_layout', 'aymt_footer', 'footer', 'feedback', 'outer_footer', 'call_to_action', 'post_inform_treatment'])"
      ]
     },
     "execution_count": 23,
     "metadata": {},
     "output_type": "execute_result"
    }
   ],
   "source": [
    "comet_sections = resp.json()['data']['node']['timeline_feed_units']['edges'][0]['node']['comet_sections']\n",
    "comet_sections.keys()"
   ]
  },
  {
   "cell_type": "code",
   "execution_count": 24,
   "id": "1c31e1a4-4b9a-4b21-bd75-7ce078a03039",
   "metadata": {
    "execution": {
     "iopub.execute_input": "2022-04-09T12:47:31.090577Z",
     "iopub.status.busy": "2022-04-09T12:47:31.090025Z",
     "iopub.status.idle": "2022-04-09T12:47:31.094641Z",
     "shell.execute_reply": "2022-04-09T12:47:31.093796Z",
     "shell.execute_reply.started": "2022-04-09T12:47:31.090554Z"
    },
    "tags": []
   },
   "outputs": [
    {
     "data": {
      "text/plain": [
       "'Yahoo奇摩股市理財'"
      ]
     },
     "execution_count": 24,
     "metadata": {},
     "output_type": "execute_result"
    }
   ],
   "source": [
    "# name\n",
    "comet_sections['context_layout']['story']['comet_sections']['actor_photo']['story']['actors'][0]['name']"
   ]
  },
  {
   "cell_type": "code",
   "execution_count": 25,
   "id": "c0bce055-c21c-4e15-92af-13099b4a28e5",
   "metadata": {
    "execution": {
     "iopub.execute_input": "2022-04-09T12:47:34.501516Z",
     "iopub.status.busy": "2022-04-09T12:47:34.501185Z",
     "iopub.status.idle": "2022-04-09T12:47:34.506968Z",
     "shell.execute_reply": "2022-04-09T12:47:34.506044Z",
     "shell.execute_reply.started": "2022-04-09T12:47:34.501491Z"
    },
    "tags": []
   },
   "outputs": [
    {
     "data": {
      "text/plain": [
       "'114062348679049'"
      ]
     },
     "execution_count": 25,
     "metadata": {},
     "output_type": "execute_result"
    }
   ],
   "source": [
    "# id\n",
    "comet_sections['context_layout']['story']['comet_sections']['actor_photo']['story']['actors'][0]['id']"
   ]
  },
  {
   "cell_type": "code",
   "execution_count": 26,
   "id": "049a4355-2a05-43cd-87da-7befed3c7c23",
   "metadata": {
    "execution": {
     "iopub.execute_input": "2022-04-09T12:47:41.380593Z",
     "iopub.status.busy": "2022-04-09T12:47:41.380275Z",
     "iopub.status.idle": "2022-04-09T12:47:41.385019Z",
     "shell.execute_reply": "2022-04-09T12:47:41.384330Z",
     "shell.execute_reply.started": "2022-04-09T12:47:41.380574Z"
    },
    "tags": []
   },
   "outputs": [
    {
     "data": {
      "text/plain": [
       "'4986978258054076'"
      ]
     },
     "execution_count": 26,
     "metadata": {},
     "output_type": "execute_result"
    }
   ],
   "source": [
    "# postid\n",
    "comet_sections['feedback']['story']['feedback_context']['feedback_target_with_context']['ufi_renderer']['feedback']['subscription_target_id']"
   ]
  },
  {
   "cell_type": "code",
   "execution_count": 27,
   "id": "1715e2a5-072f-429a-8697-9b1380f655b4",
   "metadata": {
    "execution": {
     "iopub.execute_input": "2022-04-09T12:47:53.367241Z",
     "iopub.status.busy": "2022-04-09T12:47:53.366909Z",
     "iopub.status.idle": "2022-04-09T12:47:53.371611Z",
     "shell.execute_reply": "2022-04-09T12:47:53.370923Z",
     "shell.execute_reply.started": "2022-04-09T12:47:53.367222Z"
    }
   },
   "outputs": [
    {
     "data": {
      "text/plain": [
       "30"
      ]
     },
     "execution_count": 27,
     "metadata": {},
     "output_type": "execute_result"
    }
   ],
   "source": [
    "# share_count\n",
    "comet_sections['feedback']['story']['feedback_context']['feedback_target_with_context']['ufi_renderer']['feedback']['comet_ufi_summary_and_actions_renderer']['feedback']['share_count']['count']"
   ]
  },
  {
   "cell_type": "code",
   "execution_count": 28,
   "id": "62bf134b-f8ca-4899-a95a-9ff32390a30e",
   "metadata": {
    "execution": {
     "iopub.execute_input": "2022-04-09T12:48:08.442743Z",
     "iopub.status.busy": "2022-04-09T12:48:08.442260Z",
     "iopub.status.idle": "2022-04-09T12:48:08.446973Z",
     "shell.execute_reply": "2022-04-09T12:48:08.446347Z",
     "shell.execute_reply.started": "2022-04-09T12:48:08.442723Z"
    }
   },
   "outputs": [
    {
     "data": {
      "text/plain": [
       "240"
      ]
     },
     "execution_count": 28,
     "metadata": {},
     "output_type": "execute_result"
    }
   ],
   "source": [
    "# reaction_count\n",
    "comet_sections['feedback']['story']['feedback_context']['feedback_target_with_context']['ufi_renderer']['feedback']['comet_ufi_summary_and_actions_renderer']['feedback']['reaction_count']['count']"
   ]
  },
  {
   "cell_type": "code",
   "execution_count": 29,
   "id": "62623693-35da-4c41-847a-d28c521f54b7",
   "metadata": {
    "execution": {
     "iopub.execute_input": "2022-04-09T12:48:49.701639Z",
     "iopub.status.busy": "2022-04-09T12:48:49.701233Z",
     "iopub.status.idle": "2022-04-09T12:48:49.706077Z",
     "shell.execute_reply": "2022-04-09T12:48:49.705272Z",
     "shell.execute_reply.started": "2022-04-09T12:48:49.701603Z"
    }
   },
   "outputs": [
    {
     "data": {
      "text/plain": [
       "[{'reaction_count': 237,\n",
       "  'node': {'id': '1635855486666999', 'localized_name': '讚'},\n",
       "  'i18n_reaction_count': '237'},\n",
       " {'reaction_count': 3,\n",
       "  'node': {'id': '115940658764963', 'localized_name': '哈'},\n",
       "  'i18n_reaction_count': '3'}]"
      ]
     },
     "execution_count": 29,
     "metadata": {},
     "output_type": "execute_result"
    }
   ],
   "source": [
    "# top_reactions\n",
    "comet_sections['feedback']['story']['feedback_context']['feedback_target_with_context']['ufi_renderer']['feedback']['comet_ufi_summary_and_actions_renderer']['feedback']['cannot_see_top_custom_reactions']['top_reactions']['edges']"
   ]
  },
  {
   "cell_type": "code",
   "execution_count": 30,
   "id": "d641f2ef",
   "metadata": {
    "execution": {
     "iopub.execute_input": "2022-04-09T12:49:28.807931Z",
     "iopub.status.busy": "2022-04-09T12:49:28.807442Z",
     "iopub.status.idle": "2022-04-09T12:49:28.812021Z",
     "shell.execute_reply": "2022-04-09T12:49:28.811259Z",
     "shell.execute_reply.started": "2022-04-09T12:49:28.807911Z"
    },
    "tags": []
   },
   "outputs": [
    {
     "data": {
      "text/plain": [
       "'https://www.facebook.com/YahooTWFinance/'"
      ]
     },
     "execution_count": 30,
     "metadata": {},
     "output_type": "execute_result"
    }
   ],
   "source": [
    "# url\n",
    "comet_sections['context_layout']['story']['comet_sections']['actor_photo']['story']['actors'][0]['url']"
   ]
  },
  {
   "cell_type": "code",
   "execution_count": 31,
   "id": "2e611b1b-bb3d-42c2-aaa7-e83adda8ab31",
   "metadata": {
    "execution": {
     "iopub.execute_input": "2022-04-09T12:50:18.509847Z",
     "iopub.status.busy": "2022-04-09T12:50:18.509305Z",
     "iopub.status.idle": "2022-04-09T12:50:18.514136Z",
     "shell.execute_reply": "2022-04-09T12:50:18.513304Z",
     "shell.execute_reply.started": "2022-04-09T12:50:18.509823Z"
    },
    "tags": []
   },
   "outputs": [
    {
     "data": {
      "text/plain": [
       "21"
      ]
     },
     "execution_count": 31,
     "metadata": {},
     "output_type": "execute_result"
    }
   ],
   "source": [
    "# comment_count\n",
    "comet_sections['feedback']['story']['feedback_context']['feedback_target_with_context']['ufi_renderer']['feedback']['comment_count']['total_count']"
   ]
  },
  {
   "cell_type": "code",
   "execution_count": 32,
   "id": "91c656c8-05f9-46eb-81e3-36a9ef828691",
   "metadata": {
    "execution": {
     "iopub.execute_input": "2022-04-09T12:50:33.695772Z",
     "iopub.status.busy": "2022-04-09T12:50:33.695456Z",
     "iopub.status.idle": "2022-04-09T12:50:33.699844Z",
     "shell.execute_reply": "2022-04-09T12:50:33.699190Z",
     "shell.execute_reply.started": "2022-04-09T12:50:33.695755Z"
    },
    "tags": []
   },
   "outputs": [
    {
     "data": {
      "text/plain": [
       "9"
      ]
     },
     "execution_count": 32,
     "metadata": {},
     "output_type": "execute_result"
    }
   ],
   "source": [
    "# toplevel_comment_count\n",
    "comet_sections['feedback']['story']['feedback_context']['feedback_target_with_context']['ufi_renderer']['feedback']['toplevel_comment_count']['count']"
   ]
  },
  {
   "cell_type": "code",
   "execution_count": 33,
   "id": "bfebcf6d-3678-406d-bc38-06a78840ac9f",
   "metadata": {
    "execution": {
     "iopub.execute_input": "2022-04-09T12:54:18.564631Z",
     "iopub.status.busy": "2022-04-09T12:54:18.564301Z",
     "iopub.status.idle": "2022-04-09T12:54:18.569333Z",
     "shell.execute_reply": "2022-04-09T12:54:18.568182Z",
     "shell.execute_reply.started": "2022-04-09T12:54:18.564612Z"
    }
   },
   "outputs": [
    {
     "data": {
      "text/plain": [
       "1649477222"
      ]
     },
     "execution_count": 33,
     "metadata": {},
     "output_type": "execute_result"
    }
   ],
   "source": [
    "# creation_time\n",
    "comet_sections['context_layout']['story']['comet_sections']['metadata'][0]['story']['creation_time']"
   ]
  },
  {
   "cell_type": "code",
   "execution_count": 34,
   "id": "1c8172c9-08f4-4363-961f-54d3a4c4b588",
   "metadata": {
    "execution": {
     "iopub.execute_input": "2022-04-09T12:58:50.429126Z",
     "iopub.status.busy": "2022-04-09T12:58:50.428764Z",
     "iopub.status.idle": "2022-04-09T12:58:50.433859Z",
     "shell.execute_reply": "2022-04-09T12:58:50.432941Z",
     "shell.execute_reply.started": "2022-04-09T12:58:50.429099Z"
    }
   },
   "outputs": [
    {
     "data": {
      "text/plain": [
       "'看著手上的金融股真不知該繼續存股還是賣了賺價差好😅'"
      ]
     },
     "execution_count": 34,
     "metadata": {},
     "output_type": "execute_result"
    }
   ],
   "source": [
    "# 貼文內容\n",
    "comet_sections['content']['story']['comet_sections']['message']['story']['message']['text']"
   ]
  },
  {
   "cell_type": "markdown",
   "id": "800aabd9-bf99-499d-a93d-ddad7a98a6c8",
   "metadata": {
    "execution": {
     "iopub.execute_input": "2022-04-09T12:51:12.451302Z",
     "iopub.status.busy": "2022-04-09T12:51:12.450848Z",
     "iopub.status.idle": "2022-04-09T12:51:12.464955Z",
     "shell.execute_reply": "2022-04-09T12:51:12.463856Z",
     "shell.execute_reply.started": "2022-04-09T12:51:12.451280Z"
    }
   },
   "source": [
    "活動3\n",
    "- 寫個function幫我們parsing資料"
   ]
  },
  {
   "cell_type": "code",
   "execution_count": 7,
   "id": "316099c7-8af6-4d34-b7df-41c97974b802",
   "metadata": {
    "execution": {
     "iopub.execute_input": "2022-04-17T10:57:01.323679Z",
     "iopub.status.busy": "2022-04-17T10:57:01.323395Z",
     "iopub.status.idle": "2022-04-17T10:57:01.330215Z",
     "shell.execute_reply": "2022-04-17T10:57:01.329455Z",
     "shell.execute_reply.started": "2022-04-17T10:57:01.323663Z"
    },
    "tags": []
   },
   "outputs": [],
   "source": [
    "def __parsing_comet_sections__(comet_sections):\n",
    "    name = comet_sections['context_layout']['story']['comet_sections']['actor_photo']['story']['actors'][0]['name']\n",
    "    pageid = comet_sections['context_layout']['story']['comet_sections']['actor_photo']['story']['actors'][0]['id']\n",
    "    postid = comet_sections['feedback']['story']['feedback_context']['feedback_target_with_context']['ufi_renderer']['feedback']['subscription_target_id']\n",
    "    share_count = comet_sections['feedback']['story']['feedback_context']['feedback_target_with_context']['ufi_renderer']['feedback']['comet_ufi_summary_and_actions_renderer']['feedback']['share_count']['count']\n",
    "    reaction_count = comet_sections['feedback']['story']['feedback_context']['feedback_target_with_context']['ufi_renderer']['feedback']['comet_ufi_summary_and_actions_renderer']['feedback']['reaction_count']['count']\n",
    "    top_reactions = comet_sections['feedback']['story']['feedback_context']['feedback_target_with_context']['ufi_renderer']['feedback']['comet_ufi_summary_and_actions_renderer']['feedback']['cannot_see_top_custom_reactions']['top_reactions']['edges']\n",
    "    url = comet_sections['context_layout']['story']['comet_sections']['actor_photo']['story']['actors'][0]['url']\n",
    "    comment_count = comet_sections['feedback']['story']['feedback_context']['feedback_target_with_context']['ufi_renderer']['feedback']['comment_count']['total_count']\n",
    "    toplevel_comment_count = comet_sections['feedback']['story']['feedback_context']['feedback_target_with_context']['ufi_renderer']['feedback']['toplevel_comment_count']['count']\n",
    "    creation_time = comet_sections['context_layout']['story']['comet_sections']['metadata'][0]['story']['creation_time']\n",
    "    message = comet_sections['content']['story']['comet_sections']['message']['story']['message']['text']\n",
    "    return [name, creation_time, message, postid, pageid, comment_count, reaction_count, share_count, toplevel_comment_count, url, top_reactions]"
   ]
  },
  {
   "cell_type": "code",
   "execution_count": 36,
   "id": "4ca61dfd-c045-4fe7-9031-bfaf848208f2",
   "metadata": {
    "execution": {
     "iopub.execute_input": "2022-04-09T13:03:49.343103Z",
     "iopub.status.busy": "2022-04-09T13:03:49.342719Z",
     "iopub.status.idle": "2022-04-09T13:03:49.350838Z",
     "shell.execute_reply": "2022-04-09T13:03:49.349889Z",
     "shell.execute_reply.started": "2022-04-09T13:03:49.343086Z"
    },
    "tags": []
   },
   "outputs": [
    {
     "data": {
      "text/plain": [
       "['Yahoo奇摩股市理財',\n",
       " 1649477222,\n",
       " '看著手上的金融股真不知該繼續存股還是賣了賺價差好😅',\n",
       " '4986978258054076',\n",
       " '114062348679049',\n",
       " 21,\n",
       " 240,\n",
       " 30,\n",
       " 9,\n",
       " 'https://www.facebook.com/YahooTWFinance/',\n",
       " [{'reaction_count': 237,\n",
       "   'node': {'id': '1635855486666999', 'localized_name': '讚'},\n",
       "   'i18n_reaction_count': '237'},\n",
       "  {'reaction_count': 3,\n",
       "   'node': {'id': '115940658764963', 'localized_name': '哈'},\n",
       "   'i18n_reaction_count': '3'}]]"
      ]
     },
     "execution_count": 36,
     "metadata": {},
     "output_type": "execute_result"
    }
   ],
   "source": [
    "comet_sections = resp.json()['data']['node']['timeline_feed_units']['edges'][0]['node']['comet_sections']\n",
    "__parsing_comet_sections__(comet_sections)"
   ]
  },
  {
   "cell_type": "code",
   "execution_count": 37,
   "id": "a10f4bf5-4d4f-449f-872c-602a4dd2ee2d",
   "metadata": {
    "execution": {
     "iopub.execute_input": "2022-04-09T13:04:08.471001Z",
     "iopub.status.busy": "2022-04-09T13:04:08.470483Z",
     "iopub.status.idle": "2022-04-09T13:04:08.479650Z",
     "shell.execute_reply": "2022-04-09T13:04:08.478987Z",
     "shell.execute_reply.started": "2022-04-09T13:04:08.470977Z"
    },
    "tags": []
   },
   "outputs": [
    {
     "data": {
      "text/plain": [
       "['Yahoo奇摩股市理財',\n",
       " 1649432164,\n",
       " '只能說.....快逃啊～～😱😱😱😱',\n",
       " '4984140865004482',\n",
       " '114062348679049',\n",
       " 0,\n",
       " 3,\n",
       " 1,\n",
       " 0,\n",
       " 'https://www.facebook.com/YahooTWFinance/',\n",
       " [{'reaction_count': 3,\n",
       "   'node': {'id': '1635855486666999', 'localized_name': '讚'},\n",
       "   'i18n_reaction_count': '3'}]]"
      ]
     },
     "execution_count": 37,
     "metadata": {},
     "output_type": "execute_result"
    }
   ],
   "source": [
    "comet_sections = resp.json()['data']['node']['timeline_feed_units']['edges'][1]['node']['comet_sections']\n",
    "__parsing_comet_sections__(comet_sections)"
   ]
  },
  {
   "cell_type": "code",
   "execution_count": 38,
   "id": "28e9418a-a9e2-48e2-b9ab-8c6246be51dc",
   "metadata": {
    "execution": {
     "iopub.execute_input": "2022-04-09T13:04:08.763960Z",
     "iopub.status.busy": "2022-04-09T13:04:08.763613Z",
     "iopub.status.idle": "2022-04-09T13:04:08.772503Z",
     "shell.execute_reply": "2022-04-09T13:04:08.771726Z",
     "shell.execute_reply.started": "2022-04-09T13:04:08.763940Z"
    },
    "tags": []
   },
   "outputs": [
    {
     "data": {
      "text/plain": [
       "['Yahoo奇摩股市理財',\n",
       " 1649430361,\n",
       " '與其抱怨，不如起而創造你想要的人生！太勵志啦～',\n",
       " '4986636491421586',\n",
       " '114062348679049',\n",
       " 8,\n",
       " 293,\n",
       " 28,\n",
       " 7,\n",
       " 'https://www.facebook.com/YahooTWFinance/',\n",
       " [{'reaction_count': 290,\n",
       "   'node': {'id': '1635855486666999', 'localized_name': '讚'},\n",
       "   'i18n_reaction_count': '290'},\n",
       "  {'reaction_count': 2,\n",
       "   'node': {'id': '1678524932434102', 'localized_name': '大心'},\n",
       "   'i18n_reaction_count': '2'},\n",
       "  {'reaction_count': 1,\n",
       "   'node': {'id': '478547315650144', 'localized_name': '哇'},\n",
       "   'i18n_reaction_count': '1'}]]"
      ]
     },
     "execution_count": 38,
     "metadata": {},
     "output_type": "execute_result"
    }
   ],
   "source": [
    "comet_sections = resp.json()['data']['node']['timeline_feed_units']['edges'][2]['node']['comet_sections']\n",
    "__parsing_comet_sections__(comet_sections)"
   ]
  },
  {
   "cell_type": "markdown",
   "id": "5500567e-4cb1-4fa1-aecc-60b56a67efbd",
   "metadata": {
    "execution": {
     "iopub.execute_input": "2022-03-29T04:31:20.753851Z",
     "iopub.status.busy": "2022-03-29T04:31:20.753187Z",
     "iopub.status.idle": "2022-03-29T04:31:20.760634Z",
     "shell.execute_reply": "2022-03-29T04:31:20.759821Z",
     "shell.execute_reply.started": "2022-03-29T04:31:20.753825Z"
    },
    "tags": []
   },
   "source": [
    "#### 講解3\n",
    "- end_cursor 是爬取貼文的進度，如果拿掉這個參數會從最新的貼文開始抓取\n",
    "- 相同的，我們只需要每次記錄下來抓取的進度，就可以不斷抓到更多貼文"
   ]
  },
  {
   "cell_type": "code",
   "execution_count": 39,
   "id": "b6fb465e-822e-4805-85ac-ece23caab450",
   "metadata": {
    "execution": {
     "iopub.execute_input": "2022-04-09T13:05:28.625764Z",
     "iopub.status.busy": "2022-04-09T13:05:28.625448Z",
     "iopub.status.idle": "2022-04-09T13:05:28.633286Z",
     "shell.execute_reply": "2022-04-09T13:05:28.632490Z",
     "shell.execute_reply.started": "2022-04-09T13:05:28.625746Z"
    },
    "tags": []
   },
   "outputs": [
    {
     "data": {
      "text/plain": [
       "'AQHROijgdx944Y2MqrnGbyt5zvn9NbpqlKu6PVr0rDpCddhOMDOrHb7fYAHZMpKLtB2h5McosBYrX66o4Pshdl1gcbDCnV0c_rNIot88Bl7KCSkxERKlTGj3Z72BGx1fLIRv'"
      ]
     },
     "execution_count": 39,
     "metadata": {},
     "output_type": "execute_result"
    }
   ],
   "source": [
    "resp.json()['data']['node']['timeline_feed_units']['page_info']['end_cursor']"
   ]
  },
  {
   "cell_type": "markdown",
   "id": "added4a8-a097-4e94-815e-f43cbca7ba03",
   "metadata": {},
   "source": [
    "#### 活動4\n",
    "開發一個 parsing response 的 function, 方便我們剖析資料"
   ]
  },
  {
   "cell_type": "code",
   "execution_count": 3,
   "id": "b1f0aec9-9ca9-44c8-8c27-ea759a0a0373",
   "metadata": {
    "execution": {
     "iopub.execute_input": "2022-04-17T10:56:38.530323Z",
     "iopub.status.busy": "2022-04-17T10:56:38.530039Z",
     "iopub.status.idle": "2022-04-17T10:56:38.536640Z",
     "shell.execute_reply": "2022-04-17T10:56:38.535969Z",
     "shell.execute_reply.started": "2022-04-17T10:56:38.530307Z"
    },
    "tags": []
   },
   "outputs": [],
   "source": [
    "def __parsing_resp__(resp):\n",
    "    content_list = []\n",
    "    for edge in resp.json()['data']['node']['timeline_feed_units']['edges']:\n",
    "        comet_sections = edge['node']['comet_sections']\n",
    "        content_list.append(__parsing_comet_sections__(comet_sections))\n",
    "    end_cursor = resp.json()['data']['node']['timeline_feed_units']['page_info']['end_cursor']\n",
    "    return content_list, end_cursor"
   ]
  },
  {
   "cell_type": "code",
   "execution_count": 41,
   "id": "83a53de4",
   "metadata": {
    "execution": {
     "iopub.execute_input": "2022-04-09T13:10:27.314564Z",
     "iopub.status.busy": "2022-04-09T13:10:27.314178Z",
     "iopub.status.idle": "2022-04-09T13:10:27.323408Z",
     "shell.execute_reply": "2022-04-09T13:10:27.322682Z",
     "shell.execute_reply.started": "2022-04-09T13:10:27.314545Z"
    },
    "tags": []
   },
   "outputs": [],
   "source": [
    "content_list, end_cursor = __parsing_resp__(resp)"
   ]
  },
  {
   "cell_type": "code",
   "execution_count": 42,
   "id": "b0dfe922-210f-4d4b-989f-4213f10d2779",
   "metadata": {
    "execution": {
     "iopub.execute_input": "2022-04-09T13:11:35.988715Z",
     "iopub.status.busy": "2022-04-09T13:11:35.988492Z",
     "iopub.status.idle": "2022-04-09T13:11:36.001104Z",
     "shell.execute_reply": "2022-04-09T13:11:36.000416Z",
     "shell.execute_reply.started": "2022-04-09T13:11:35.988696Z"
    },
    "tags": []
   },
   "outputs": [
    {
     "data": {
      "text/html": [
       "<div>\n",
       "<style scoped>\n",
       "    .dataframe tbody tr th:only-of-type {\n",
       "        vertical-align: middle;\n",
       "    }\n",
       "\n",
       "    .dataframe tbody tr th {\n",
       "        vertical-align: top;\n",
       "    }\n",
       "\n",
       "    .dataframe thead th {\n",
       "        text-align: right;\n",
       "    }\n",
       "</style>\n",
       "<table border=\"1\" class=\"dataframe\">\n",
       "  <thead>\n",
       "    <tr style=\"text-align: right;\">\n",
       "      <th></th>\n",
       "      <th>name</th>\n",
       "      <th>creation_time</th>\n",
       "      <th>message</th>\n",
       "      <th>postid</th>\n",
       "      <th>pageid</th>\n",
       "      <th>comment_count</th>\n",
       "      <th>reaction_count</th>\n",
       "      <th>share_count</th>\n",
       "      <th>toplevel_comment_count</th>\n",
       "      <th>url</th>\n",
       "      <th>top_reactions</th>\n",
       "    </tr>\n",
       "  </thead>\n",
       "  <tbody>\n",
       "    <tr>\n",
       "      <th>0</th>\n",
       "      <td>Yahoo奇摩股市理財</td>\n",
       "      <td>1649477222</td>\n",
       "      <td>看著手上的金融股真不知該繼續存股還是賣了賺價差好😅</td>\n",
       "      <td>4986978258054076</td>\n",
       "      <td>114062348679049</td>\n",
       "      <td>21</td>\n",
       "      <td>240</td>\n",
       "      <td>30</td>\n",
       "      <td>9</td>\n",
       "      <td>https://www.facebook.com/YahooTWFinance/</td>\n",
       "      <td>[{'reaction_count': 237, 'node': {'id': '16358...</td>\n",
       "    </tr>\n",
       "    <tr>\n",
       "      <th>1</th>\n",
       "      <td>Yahoo奇摩股市理財</td>\n",
       "      <td>1649432164</td>\n",
       "      <td>只能說.....快逃啊～～😱😱😱😱</td>\n",
       "      <td>4984140865004482</td>\n",
       "      <td>114062348679049</td>\n",
       "      <td>0</td>\n",
       "      <td>3</td>\n",
       "      <td>1</td>\n",
       "      <td>0</td>\n",
       "      <td>https://www.facebook.com/YahooTWFinance/</td>\n",
       "      <td>[{'reaction_count': 3, 'node': {'id': '1635855...</td>\n",
       "    </tr>\n",
       "    <tr>\n",
       "      <th>2</th>\n",
       "      <td>Yahoo奇摩股市理財</td>\n",
       "      <td>1649430361</td>\n",
       "      <td>與其抱怨，不如起而創造你想要的人生！太勵志啦～</td>\n",
       "      <td>4986636491421586</td>\n",
       "      <td>114062348679049</td>\n",
       "      <td>8</td>\n",
       "      <td>293</td>\n",
       "      <td>28</td>\n",
       "      <td>7</td>\n",
       "      <td>https://www.facebook.com/YahooTWFinance/</td>\n",
       "      <td>[{'reaction_count': 290, 'node': {'id': '16358...</td>\n",
       "    </tr>\n",
       "  </tbody>\n",
       "</table>\n",
       "</div>"
      ],
      "text/plain": [
       "          name  creation_time                    message            postid  \\\n",
       "0  Yahoo奇摩股市理財     1649477222  看著手上的金融股真不知該繼續存股還是賣了賺價差好😅  4986978258054076   \n",
       "1  Yahoo奇摩股市理財     1649432164          只能說.....快逃啊～～😱😱😱😱  4984140865004482   \n",
       "2  Yahoo奇摩股市理財     1649430361    與其抱怨，不如起而創造你想要的人生！太勵志啦～  4986636491421586   \n",
       "\n",
       "            pageid  comment_count  reaction_count  share_count  \\\n",
       "0  114062348679049             21             240           30   \n",
       "1  114062348679049              0               3            1   \n",
       "2  114062348679049              8             293           28   \n",
       "\n",
       "   toplevel_comment_count                                       url  \\\n",
       "0                       9  https://www.facebook.com/YahooTWFinance/   \n",
       "1                       0  https://www.facebook.com/YahooTWFinance/   \n",
       "2                       7  https://www.facebook.com/YahooTWFinance/   \n",
       "\n",
       "                                       top_reactions  \n",
       "0  [{'reaction_count': 237, 'node': {'id': '16358...  \n",
       "1  [{'reaction_count': 3, 'node': {'id': '1635855...  \n",
       "2  [{'reaction_count': 290, 'node': {'id': '16358...  "
      ]
     },
     "execution_count": 42,
     "metadata": {},
     "output_type": "execute_result"
    }
   ],
   "source": [
    "pd.DataFrame(content_list, \n",
    "             columns = ['name', 'creation_time', 'message', 'postid', 'pageid', 'comment_count', 'reaction_count', 'share_count', 'toplevel_comment_count', 'url', 'top_reactions'])"
   ]
  },
  {
   "cell_type": "code",
   "execution_count": 43,
   "id": "1b70bb7a",
   "metadata": {
    "execution": {
     "iopub.execute_input": "2022-04-09T13:11:42.314665Z",
     "iopub.status.busy": "2022-04-09T13:11:42.314329Z",
     "iopub.status.idle": "2022-04-09T13:11:42.318893Z",
     "shell.execute_reply": "2022-04-09T13:11:42.318141Z",
     "shell.execute_reply.started": "2022-04-09T13:11:42.314650Z"
    },
    "tags": []
   },
   "outputs": [
    {
     "data": {
      "text/plain": [
       "'AQHROijgdx944Y2MqrnGbyt5zvn9NbpqlKu6PVr0rDpCddhOMDOrHb7fYAHZMpKLtB2h5McosBYrX66o4Pshdl1gcbDCnV0c_rNIot88Bl7KCSkxERKlTGj3Z72BGx1fLIRv'"
      ]
     },
     "execution_count": 43,
     "metadata": {},
     "output_type": "execute_result"
    }
   ],
   "source": [
    "end_cursor"
   ]
  },
  {
   "cell_type": "markdown",
   "id": "f9216f79-f6b1-4a1b-a0eb-0845c149be89",
   "metadata": {
    "execution": {
     "iopub.execute_input": "2022-03-29T04:32:03.937384Z",
     "iopub.status.busy": "2022-03-29T04:32:03.936902Z",
     "iopub.status.idle": "2022-03-29T04:32:03.944656Z",
     "shell.execute_reply": "2022-03-29T04:32:03.943935Z",
     "shell.execute_reply.started": "2022-03-29T04:32:03.937362Z"
    },
    "tags": []
   },
   "source": [
    "#### 活動5\n",
    "- 如何抓取更多資料?"
   ]
  },
  {
   "cell_type": "code",
   "execution_count": 1,
   "id": "fbe7bcd7-e20b-44e2-b8f3-3b56826433c8",
   "metadata": {
    "execution": {
     "iopub.execute_input": "2022-04-17T11:05:03.017319Z",
     "iopub.status.busy": "2022-04-17T11:05:03.016739Z",
     "iopub.status.idle": "2022-04-17T11:05:03.020748Z",
     "shell.execute_reply": "2022-04-17T11:05:03.020162Z",
     "shell.execute_reply.started": "2022-04-17T11:05:03.017260Z"
    },
    "scrolled": true,
    "tags": []
   },
   "outputs": [],
   "source": [
    "url = 'https://www.facebook.com/api/graphql/'\n",
    "headers = {'cookie': 'dpr=1.190000057220459; datr=5XVRYlXdxW77tUAoA0AKGgQo'}\n",
    "end_cursor = ''\n",
    "contents = []\n",
    "pageid = '114062348679049'\n",
    "docid = '7623918717633186'\n",
    "\n",
    "for i in range(20):\n",
    "    print(i)\n",
    "    time.sleep(1)\n",
    "    data = {'variables': str({\"count\":'3',\n",
    "                              \"cursor\":end_cursor,\n",
    "                              \"id\":pageid}),\n",
    "            'doc_id': docid}\n",
    "    print('pageid:{}, docid:{}, end_cursor:{}'.format('pageid', docid, end_cursor))\n",
    "    resp = requests.post(url=url, headers=headers, data=data)\n",
    "    content_list, end_cursor = __parsing_resp__(resp)\n",
    "    contents.append(content_list)"
   ]
  },
  {
   "cell_type": "markdown",
   "id": "917abc99-2b05-4a2a-9334-5757c8482b53",
   "metadata": {},
   "source": [
    "#### 除錯\n",
    "- 怎麼會出現錯誤QAQ\n",
    "- 確認裡面的內容後，發現我們要的資料在第一個resp，所以調整 parsing_resp 的function如下"
   ]
  },
  {
   "cell_type": "code",
   "execution_count": 45,
   "id": "a15debc6-9b21-43ab-8463-7e814c08d902",
   "metadata": {
    "execution": {
     "iopub.execute_input": "2022-04-09T13:22:28.986903Z",
     "iopub.status.busy": "2022-04-09T13:22:28.986641Z",
     "iopub.status.idle": "2022-04-09T13:22:28.991639Z",
     "shell.execute_reply": "2022-04-09T13:22:28.990884Z",
     "shell.execute_reply.started": "2022-04-09T13:22:28.986888Z"
    },
    "tags": []
   },
   "outputs": [
    {
     "data": {
      "text/plain": [
       "4"
      ]
     },
     "execution_count": 45,
     "metadata": {},
     "output_type": "execute_result"
    }
   ],
   "source": [
    "len(resp.text.split('\\n'))"
   ]
  },
  {
   "cell_type": "code",
   "execution_count": 2,
   "id": "8b748d53-a4b6-4703-a225-d8983d042a00",
   "metadata": {
    "execution": {
     "iopub.execute_input": "2022-04-17T10:55:56.676736Z",
     "iopub.status.busy": "2022-04-17T10:55:56.676483Z",
     "iopub.status.idle": "2022-04-17T10:55:56.679489Z",
     "shell.execute_reply": "2022-04-17T10:55:56.678835Z",
     "shell.execute_reply.started": "2022-04-17T10:55:56.676715Z"
    },
    "tags": []
   },
   "outputs": [],
   "source": [
    "# resp.text.split('\\n')[1]"
   ]
  },
  {
   "cell_type": "markdown",
   "id": "6adbd7d0-cfb9-460c-8940-6107efb0cd43",
   "metadata": {},
   "source": [
    "#### 活動6\n",
    "- 調整好程式後再接著試試看"
   ]
  },
  {
   "cell_type": "code",
   "execution_count": 47,
   "id": "c5b30754-f654-4857-b61a-1a3edddd29e1",
   "metadata": {
    "execution": {
     "iopub.execute_input": "2022-04-09T13:27:58.311806Z",
     "iopub.status.busy": "2022-04-09T13:27:58.311489Z",
     "iopub.status.idle": "2022-04-09T13:27:58.315831Z",
     "shell.execute_reply": "2022-04-09T13:27:58.314982Z",
     "shell.execute_reply.started": "2022-04-09T13:27:58.311788Z"
    },
    "tags": []
   },
   "outputs": [],
   "source": [
    "def __parsing_resp__(resp):\n",
    "    content_list = []\n",
    "    resp = resp.text.split('\\n', -1)[0]\n",
    "        \n",
    "    for edge in json.loads(resp)['data']['node']['timeline_feed_units']['edges']:\n",
    "        comet_sections = edge['node']['comet_sections']\n",
    "        content_list.append(__parsing_comet_sections__(comet_sections))\n",
    "    end_cursor = json.loads(resp)['data']['node']['timeline_feed_units']['page_info']['end_cursor']\n",
    "    return content_list, end_cursor"
   ]
  },
  {
   "cell_type": "code",
   "execution_count": 48,
   "id": "84c162c1-ea78-442a-bfbd-1ecbbda6b5cb",
   "metadata": {
    "execution": {
     "iopub.execute_input": "2022-04-09T13:29:48.504903Z",
     "iopub.status.busy": "2022-04-09T13:29:48.504518Z",
     "iopub.status.idle": "2022-04-09T13:30:26.140772Z",
     "shell.execute_reply": "2022-04-09T13:30:26.140248Z",
     "shell.execute_reply.started": "2022-04-09T13:29:48.504884Z"
    },
    "tags": []
   },
   "outputs": [
    {
     "name": "stdout",
     "output_type": "stream",
     "text": [
      "0\n",
      "pageid:pageid, docid:7623918717633186, end_cursor:\n",
      "1\n",
      "pageid:pageid, docid:7623918717633186, end_cursor:AQHRgB3HlzEjQX756HFLbznTD9wdBvoEIpSl7PS5ZF85nKbcZvtcfege--EHbdlLBmPTtODu73mFmMI77Rpjc-_DD-EsFsgRasdCl_lBtAXGMpJEL2et8GjJep88QGTur6qU\n",
      "2\n",
      "pageid:pageid, docid:7623918717633186, end_cursor:AQHREiJOKCQSG38WtY93Q6G2W_9yBkG4p4RwhPdqmD_CT7htt2ityzfgvpkUhsmHKDYxQOZ-gbofuxeCGpcQxcf2gIZgI9P0glMY2WM9w0H1AR012Bkj82nxy_zGQWhr9TYD\n",
      "3\n",
      "pageid:pageid, docid:7623918717633186, end_cursor:AQHR_WymyAWSjS0nm8OWrYR9bDvtUog2jIxNYCg5NTaeJ0oMe3atFhC4rXBVtPEKCVMtpkIAKWNj7DUQqOJFdCi9kdQuoS_9Jq9PnONB5mveGOTNgD9e6QHGYJ-XskM_a6Sx\n",
      "4\n",
      "pageid:pageid, docid:7623918717633186, end_cursor:AQHRho0xmzHpAHp4-WXyGr3fwnk1RkU3pmXF98K6YuUZqQQftzNbz4FCrbyflGMpy9sUqVsrKmhy-o2NsGQ1i4e0kRWGkLNB0eLJYXjytooJr2qvg0ddlmbX-j6swIU95NJ2\n",
      "5\n",
      "pageid:pageid, docid:7623918717633186, end_cursor:AQHRYu8nCgamHm1LbMCW5_lA9Y80DtyMYPUHXx1zmbHUPZl5b5DD6shuPpKdzlIZvcLLnNT2K0UYRAlRW_XYzMU_vhuEy-45GFz1nF0ycbIdNfzQ4x0B610o2cksMyM8GXY4\n",
      "6\n",
      "pageid:pageid, docid:7623918717633186, end_cursor:AQHRt4F6xK01yuUExQvJ_hl6jk0slqtOnnwGNmzf6AsKO32P2ByC90Wqob2T7Saj8LS5o7R_lz8FgkEYdPQvTVNZzwyH18mz2Dqyr2-J-5aNQ4sx9ZhQWHJ9OAbs-F3pNYSq\n",
      "7\n",
      "pageid:pageid, docid:7623918717633186, end_cursor:AQHRkTnkwlxE1HqUxFva8p2GVipRkw7QBwgoIqLnMSMzKuwjOLk5FMPPrLLK4SBCtOY6wdkxrx9idnBSEyMo8LJ0hsG5LxVhkUcu3QzPwF1leG8_aBloG-2QyN0du7TNuKSc\n",
      "8\n",
      "pageid:pageid, docid:7623918717633186, end_cursor:AQHRHLe09MiNZLpRVSA0DdQOSh7_NCP26u8LBKSWrfXZ44bG0NB7rc5VseQoDzFCit4lgx30Winfp5zC5M06oYYZbWnNhNuWjv3JeiG83LFXGuQmwNJGslDNHk7_whF2Qdn1\n",
      "9\n",
      "pageid:pageid, docid:7623918717633186, end_cursor:AQHRpXoYR51RENjxKPaG6sbFNq3eYLxBpdTpKACqMU-_IiA0XAVTdR-rbVsUECPitiKkZzmR9y4M2mNgC8rOaWxL0nAkkc1nRwmvOJt6evAoMIycEJAACiwhKmceNn0HWE8Q\n",
      "10\n",
      "pageid:pageid, docid:7623918717633186, end_cursor:AQHRps3gDMW_eHy_qr_XTPa-r6zsOaSTxzMRrJCD6Zuc6x2n3jRZEt5Ss3BI38cXsTooF1UlrYxqzBuVmIPbim6hOXC2BPvqYS5fT7nGXNdpWllThoik3vrV2ttIjTt2GVQl\n",
      "11\n",
      "pageid:pageid, docid:7623918717633186, end_cursor:AQHRIg6xPLLxD8ijevZaAiuMrqaNEsfh_2tkap2045CHSFCfG9V5O6pjeXXFepiNe-uS__r6H26JFjxokIhByG8i_2LgKgZgsVL7Ef-SkmfI9iM4g1iUiP0SI-OimKTXpRv_\n",
      "12\n",
      "pageid:pageid, docid:7623918717633186, end_cursor:AQHRDQ24eP1LoSVolEdy88JUSFsOzNVUnRoiF9e2yJOjFm0INYmDzadnf57TEQZQgMOdaYUdOOWQsKStOwIGJ4b2uHy3GSx_08yWt7bpuX_8TMg9wc3uaMZhBA33qw-rB3HY\n",
      "13\n",
      "pageid:pageid, docid:7623918717633186, end_cursor:AQHRpUuAE9mZpo-EH2X3e_MR2EIvSh0YVZwstosAU8VoLH8Td_4KYrrhkZVwT2kR_3fLitWFclIpEe6htH8LTmYs6uH8-8ulMqV1y9TLilWrRJubMliuSZlFCkiXBKomCes9\n",
      "14\n",
      "pageid:pageid, docid:7623918717633186, end_cursor:AQHR-XqqcX1-Q2zqb9p0l3q2xlRX9FlO6hpxN-NrkDRK7W4B3oAtPuJpGkzSczywzIFMeGiWeMAY60hERGnC3_FTAawvFXhSFvS5X-XNdAocHuGwvWPsSVkkUd8l0-l_s5xK\n",
      "15\n",
      "pageid:pageid, docid:7623918717633186, end_cursor:AQHRTbsbsvEqtaiogRhBibFKlzsAoJdZr20mu5YftEd7h43gcW4FzXdi4Fo4FJR6z8N98Z3R42zw-yWg8MelqmNgMSOZFwOFtiE2oFI5yI3fzI5wsFrTpCCrSHXkFYvc1TTM\n",
      "16\n",
      "pageid:pageid, docid:7623918717633186, end_cursor:AQHRdkx2zt5_iRiZgL1UkXpkN5Kj-QvK5kZTIfbCNja2D1HruRnxVYeIGIRDZ_900o65DpmoQ9XdFuQ6HrkqAYWvaNZwBDC3ScF_E7EocmlFO7Z_dMXrwNDBgNQAcH34lL7f\n",
      "17\n",
      "pageid:pageid, docid:7623918717633186, end_cursor:AQHRV1az6m_ML10C0Ugws9RES45BQx344G_zHDH9WjPOAbmww_qvSaALotRlkw6f1SjLO29XS8B9K77wtoLMaJVdIFgObkpiidzj8M-cX6m3mkUYgVNZlHLfy5p-jucTkkKM\n",
      "18\n",
      "pageid:pageid, docid:7623918717633186, end_cursor:AQHRv0nSif-Jq2UPGa4SRLThqkdQWgc3ZXiEnonUtQz7x_6VjZYrgsxmApA8m_RHQBh1m5FaLfayPoTeBh8DMSPikA8rVvK8TQyO1LclAlG9krRovPNgkRNXXx9lknqOt09n\n",
      "19\n",
      "pageid:pageid, docid:7623918717633186, end_cursor:AQHRg-xpL7S6h8CDvDEguRV6fQXh-LlHhDpT2w4JnM6BrmmW_tYlzAKMA1CIED8edAZM4o2ttZ5_3oXppO_rKNgoMyejj1Wp9-RvynuTuuPFzOQcNk50xSkp8TBYzi0yk-3B\n"
     ]
    }
   ],
   "source": [
    "url = 'https://www.facebook.com/api/graphql/'\n",
    "headers = {'cookie': 'dpr=1.190000057220459; datr=5XVRYlXdxW77tUAoA0AKGgQo'}\n",
    "end_cursor = ''\n",
    "contents = []\n",
    "pageid = '114062348679049'\n",
    "docid = '7623918717633186'\n",
    "\n",
    "for i in range(20):\n",
    "    print(i)\n",
    "    time.sleep(1)\n",
    "    data = {'variables': str({\"count\":'3',\n",
    "                              \"cursor\":end_cursor,\n",
    "                              \"id\":pageid}),\n",
    "            'doc_id': docid}\n",
    "    print('pageid:{}, docid:{}, end_cursor:{}'.format('pageid', docid, end_cursor))\n",
    "    resp = requests.post(url=url, headers=headers, data=data)\n",
    "    content_list, end_cursor = __parsing_resp__(resp)\n",
    "    contents = contents + content_list"
   ]
  },
  {
   "cell_type": "code",
   "execution_count": 49,
   "id": "55943741",
   "metadata": {
    "execution": {
     "iopub.execute_input": "2022-04-09T13:31:14.370809Z",
     "iopub.status.busy": "2022-04-09T13:31:14.370365Z",
     "iopub.status.idle": "2022-04-09T13:31:14.437334Z",
     "shell.execute_reply": "2022-04-09T13:31:14.436689Z",
     "shell.execute_reply.started": "2022-04-09T13:31:14.370792Z"
    },
    "tags": []
   },
   "outputs": [
    {
     "data": {
      "text/html": [
       "<div>\n",
       "<style scoped>\n",
       "    .dataframe tbody tr th:only-of-type {\n",
       "        vertical-align: middle;\n",
       "    }\n",
       "\n",
       "    .dataframe tbody tr th {\n",
       "        vertical-align: top;\n",
       "    }\n",
       "\n",
       "    .dataframe thead th {\n",
       "        text-align: right;\n",
       "    }\n",
       "</style>\n",
       "<table border=\"1\" class=\"dataframe\">\n",
       "  <thead>\n",
       "    <tr style=\"text-align: right;\">\n",
       "      <th></th>\n",
       "      <th>name</th>\n",
       "      <th>creation_time</th>\n",
       "      <th>message</th>\n",
       "      <th>postid</th>\n",
       "      <th>pageid</th>\n",
       "      <th>comment_count</th>\n",
       "      <th>reaction_count</th>\n",
       "      <th>share_count</th>\n",
       "      <th>toplevel_comment_count</th>\n",
       "      <th>url</th>\n",
       "      <th>top_reactions</th>\n",
       "    </tr>\n",
       "  </thead>\n",
       "  <tbody>\n",
       "    <tr>\n",
       "      <th>0</th>\n",
       "      <td>Yahoo奇摩股市理財</td>\n",
       "      <td>2022-04-13 20:31:34</td>\n",
       "      <td>藝人副業也不是每個都金雞母很成功的呢🥺</td>\n",
       "      <td>4999793203439248</td>\n",
       "      <td>114062348679049</td>\n",
       "      <td>0</td>\n",
       "      <td>0</td>\n",
       "      <td>0</td>\n",
       "      <td>0</td>\n",
       "      <td>https://www.facebook.com/YahooTWFinance/</td>\n",
       "      <td>[]</td>\n",
       "    </tr>\n",
       "    <tr>\n",
       "      <th>1</th>\n",
       "      <td>Yahoo奇摩股市理財</td>\n",
       "      <td>2022-04-13 20:07:02</td>\n",
       "      <td>元宇宙看起來好可愛，也好想辦一個身分玩玩看喔，大家也期待嗎 😻 #YFR</td>\n",
       "      <td>5000824500002785</td>\n",
       "      <td>114062348679049</td>\n",
       "      <td>1</td>\n",
       "      <td>1</td>\n",
       "      <td>0</td>\n",
       "      <td>1</td>\n",
       "      <td>https://www.facebook.com/YahooTWFinance/</td>\n",
       "      <td>[{'reaction_count': 1, 'node': {'id': '1635855...</td>\n",
       "    </tr>\n",
       "    <tr>\n",
       "      <th>2</th>\n",
       "      <td>Yahoo奇摩股市理財</td>\n",
       "      <td>2022-04-13 20:07:00</td>\n",
       "      <td>台股好不容易不跌了…第2季該撿什麼股？\\n#YFR</td>\n",
       "      <td>5000676076684294</td>\n",
       "      <td>114062348679049</td>\n",
       "      <td>1</td>\n",
       "      <td>2</td>\n",
       "      <td>1</td>\n",
       "      <td>1</td>\n",
       "      <td>https://www.facebook.com/YahooTWFinance/</td>\n",
       "      <td>[{'reaction_count': 2, 'node': {'id': '1635855...</td>\n",
       "    </tr>\n",
       "    <tr>\n",
       "      <th>3</th>\n",
       "      <td>Yahoo奇摩股市理財</td>\n",
       "      <td>2022-04-13 20:01:31</td>\n",
       "      <td>隨著戰爭持續影響著供應端，肥料價格恐怕易漲難跌。\\n#YPRO</td>\n",
       "      <td>4999808620104373</td>\n",
       "      <td>114062348679049</td>\n",
       "      <td>1</td>\n",
       "      <td>1</td>\n",
       "      <td>0</td>\n",
       "      <td>1</td>\n",
       "      <td>https://www.facebook.com/YahooTWFinance/</td>\n",
       "      <td>[{'reaction_count': 1, 'node': {'id': '1635855...</td>\n",
       "    </tr>\n",
       "    <tr>\n",
       "      <th>4</th>\n",
       "      <td>Yahoo奇摩股市理財</td>\n",
       "      <td>2022-04-13 19:35:00</td>\n",
       "      <td>岡拉克說，「Fed仍在談論2%通膨、實在可笑.....每個人都知道勞工薪資上升是一種具僵固性...</td>\n",
       "      <td>4999814593437109</td>\n",
       "      <td>114062348679049</td>\n",
       "      <td>0</td>\n",
       "      <td>2</td>\n",
       "      <td>0</td>\n",
       "      <td>0</td>\n",
       "      <td>https://www.facebook.com/YahooTWFinance/</td>\n",
       "      <td>[{'reaction_count': 2, 'node': {'id': '1635855...</td>\n",
       "    </tr>\n",
       "    <tr>\n",
       "      <th>5</th>\n",
       "      <td>Yahoo奇摩股市理財</td>\n",
       "      <td>2022-04-13 19:24:00</td>\n",
       "      <td>每次都回「基本面佳終究會買」，外資一直賣，今天不回應外資終於買了…這…</td>\n",
       "      <td>5000691343349434</td>\n",
       "      <td>114062348679049</td>\n",
       "      <td>0</td>\n",
       "      <td>1</td>\n",
       "      <td>0</td>\n",
       "      <td>0</td>\n",
       "      <td>https://www.facebook.com/YahooTWFinance/</td>\n",
       "      <td>[{'reaction_count': 1, 'node': {'id': '1159406...</td>\n",
       "    </tr>\n",
       "    <tr>\n",
       "      <th>6</th>\n",
       "      <td>Yahoo奇摩股市理財</td>\n",
       "      <td>2022-04-13 19:18:04</td>\n",
       "      <td>感覺2%以上還是一堆人搶著貸呀…#YFR</td>\n",
       "      <td>5000684723350096</td>\n",
       "      <td>114062348679049</td>\n",
       "      <td>0</td>\n",
       "      <td>2</td>\n",
       "      <td>0</td>\n",
       "      <td>0</td>\n",
       "      <td>https://www.facebook.com/YahooTWFinance/</td>\n",
       "      <td>[{'reaction_count': 2, 'node': {'id': '1635855...</td>\n",
       "    </tr>\n",
       "    <tr>\n",
       "      <th>7</th>\n",
       "      <td>Yahoo奇摩股市理財</td>\n",
       "      <td>2022-04-13 19:06:00</td>\n",
       "      <td>時薪400徵煮飯阿姨\\n一看工作內容直搖頭</td>\n",
       "      <td>4999996283418940</td>\n",
       "      <td>114062348679049</td>\n",
       "      <td>1</td>\n",
       "      <td>6</td>\n",
       "      <td>0</td>\n",
       "      <td>1</td>\n",
       "      <td>https://www.facebook.com/YahooTWFinance/</td>\n",
       "      <td>[{'reaction_count': 6, 'node': {'id': '1635855...</td>\n",
       "    </tr>\n",
       "    <tr>\n",
       "      <th>8</th>\n",
       "      <td>Yahoo奇摩股市理財</td>\n",
       "      <td>2022-04-13 18:35:33</td>\n",
       "      <td>晴天備傘！有想過老共萬一要制裁台灣央行，會出什麼招嗎？…全部人民幣結算，可以1：1換嗎？\\n...</td>\n",
       "      <td>5000653000019935</td>\n",
       "      <td>114062348679049</td>\n",
       "      <td>1</td>\n",
       "      <td>3</td>\n",
       "      <td>0</td>\n",
       "      <td>1</td>\n",
       "      <td>https://www.facebook.com/YahooTWFinance/</td>\n",
       "      <td>[{'reaction_count': 2, 'node': {'id': '1635855...</td>\n",
       "    </tr>\n",
       "    <tr>\n",
       "      <th>9</th>\n",
       "      <td>Yahoo奇摩股市理財</td>\n",
       "      <td>2022-04-13 18:32:00</td>\n",
       "      <td>他強調：「你可以發現，我的持股裡沒有電子股，這樣波動才會小。」😎</td>\n",
       "      <td>4999712190114016</td>\n",
       "      <td>114062348679049</td>\n",
       "      <td>0</td>\n",
       "      <td>8</td>\n",
       "      <td>3</td>\n",
       "      <td>0</td>\n",
       "      <td>https://www.facebook.com/YahooTWFinance/</td>\n",
       "      <td>[{'reaction_count': 8, 'node': {'id': '1635855...</td>\n",
       "    </tr>\n",
       "    <tr>\n",
       "      <th>10</th>\n",
       "      <td>Yahoo奇摩股市理財</td>\n",
       "      <td>2022-04-13 18:16:00</td>\n",
       "      <td>有個發40個月年終的極端值，難怪海洋水運業榮登第一！</td>\n",
       "      <td>5000513220033913</td>\n",
       "      <td>114062348679049</td>\n",
       "      <td>0</td>\n",
       "      <td>3</td>\n",
       "      <td>0</td>\n",
       "      <td>0</td>\n",
       "      <td>https://www.facebook.com/YahooTWFinance/</td>\n",
       "      <td>[{'reaction_count': 3, 'node': {'id': '1635855...</td>\n",
       "    </tr>\n",
       "    <tr>\n",
       "      <th>11</th>\n",
       "      <td>Yahoo奇摩股市理財</td>\n",
       "      <td>2022-04-13 18:11:13</td>\n",
       "      <td>現在下訂有瀏海的 MacBook 還來得及嗎 🥺 #YFR</td>\n",
       "      <td>5000610233357545</td>\n",
       "      <td>114062348679049</td>\n",
       "      <td>0</td>\n",
       "      <td>3</td>\n",
       "      <td>0</td>\n",
       "      <td>0</td>\n",
       "      <td>https://www.facebook.com/YahooTWFinance/</td>\n",
       "      <td>[{'reaction_count': 3, 'node': {'id': '1635855...</td>\n",
       "    </tr>\n",
       "    <tr>\n",
       "      <th>12</th>\n",
       "      <td>Yahoo奇摩股市理財</td>\n",
       "      <td>2022-04-13 18:05:00</td>\n",
       "      <td>22年前，念中正法律系的弟弟挪騙家裡提供的碩士班補習費，一頭栽進球鞋蒐藏網拍；哥哥後來也放棄...</td>\n",
       "      <td>4999989273419641</td>\n",
       "      <td>114062348679049</td>\n",
       "      <td>0</td>\n",
       "      <td>4</td>\n",
       "      <td>0</td>\n",
       "      <td>0</td>\n",
       "      <td>https://www.facebook.com/YahooTWFinance/</td>\n",
       "      <td>[{'reaction_count': 4, 'node': {'id': '1635855...</td>\n",
       "    </tr>\n",
       "    <tr>\n",
       "      <th>13</th>\n",
       "      <td>Yahoo奇摩股市理財</td>\n",
       "      <td>2022-04-13 17:44:00</td>\n",
       "      <td>好不容易提升的薪水全都被物價漲幅吃掉了！！</td>\n",
       "      <td>5000507143367854</td>\n",
       "      <td>114062348679049</td>\n",
       "      <td>1</td>\n",
       "      <td>5</td>\n",
       "      <td>1</td>\n",
       "      <td>1</td>\n",
       "      <td>https://www.facebook.com/YahooTWFinance/</td>\n",
       "      <td>[{'reaction_count': 5, 'node': {'id': '1635855...</td>\n",
       "    </tr>\n",
       "    <tr>\n",
       "      <th>14</th>\n",
       "      <td>Yahoo奇摩股市理財</td>\n",
       "      <td>2022-04-13 17:34:04</td>\n",
       "      <td>有送寵物險的，感覺很划算😍</td>\n",
       "      <td>4999684936783408</td>\n",
       "      <td>114062348679049</td>\n",
       "      <td>0</td>\n",
       "      <td>2</td>\n",
       "      <td>0</td>\n",
       "      <td>0</td>\n",
       "      <td>https://www.facebook.com/YahooTWFinance/</td>\n",
       "      <td>[{'reaction_count': 2, 'node': {'id': '1635855...</td>\n",
       "    </tr>\n",
       "    <tr>\n",
       "      <th>15</th>\n",
       "      <td>Yahoo奇摩股市理財</td>\n",
       "      <td>2022-04-13 17:03:00</td>\n",
       "      <td>就當是繳學費學經驗囉....☹☹</td>\n",
       "      <td>4999667646785137</td>\n",
       "      <td>114062348679049</td>\n",
       "      <td>0</td>\n",
       "      <td>5</td>\n",
       "      <td>0</td>\n",
       "      <td>0</td>\n",
       "      <td>https://www.facebook.com/YahooTWFinance/</td>\n",
       "      <td>[{'reaction_count': 5, 'node': {'id': '1635855...</td>\n",
       "    </tr>\n",
       "    <tr>\n",
       "      <th>16</th>\n",
       "      <td>Yahoo奇摩股市理財</td>\n",
       "      <td>2022-04-13 16:36:05</td>\n",
       "      <td>通膨持續加溫，匯市投資該往哪邊走？</td>\n",
       "      <td>4986691781416057</td>\n",
       "      <td>114062348679049</td>\n",
       "      <td>0</td>\n",
       "      <td>3</td>\n",
       "      <td>0</td>\n",
       "      <td>0</td>\n",
       "      <td>https://www.facebook.com/YahooTWFinance/</td>\n",
       "      <td>[{'reaction_count': 3, 'node': {'id': '1635855...</td>\n",
       "    </tr>\n",
       "    <tr>\n",
       "      <th>17</th>\n",
       "      <td>Yahoo奇摩股市理財</td>\n",
       "      <td>2022-04-13 16:01:01</td>\n",
       "      <td>近期張國華槓上姊夫鄭深池，強調張家兄弟協商不需要透過外人.....</td>\n",
       "      <td>4999687676783134</td>\n",
       "      <td>114062348679049</td>\n",
       "      <td>0</td>\n",
       "      <td>3</td>\n",
       "      <td>0</td>\n",
       "      <td>0</td>\n",
       "      <td>https://www.facebook.com/YahooTWFinance/</td>\n",
       "      <td>[{'reaction_count': 3, 'node': {'id': '1635855...</td>\n",
       "    </tr>\n",
       "    <tr>\n",
       "      <th>18</th>\n",
       "      <td>Yahoo奇摩股市理財</td>\n",
       "      <td>2022-04-13 15:32:00</td>\n",
       "      <td>今日在台積電、聯發科回神反彈之下，帶動加權指數漲回萬七大關之上，以17,301.65點作收，...</td>\n",
       "      <td>5000310693387499</td>\n",
       "      <td>114062348679049</td>\n",
       "      <td>0</td>\n",
       "      <td>2</td>\n",
       "      <td>0</td>\n",
       "      <td>0</td>\n",
       "      <td>https://www.facebook.com/YahooTWFinance/</td>\n",
       "      <td>[{'reaction_count': 2, 'node': {'id': '1635855...</td>\n",
       "    </tr>\n",
       "    <tr>\n",
       "      <th>19</th>\n",
       "      <td>Yahoo奇摩股市理財</td>\n",
       "      <td>2022-04-13 15:02:05</td>\n",
       "      <td>相較去年全年天然氣虧損1,048億元，等於今年首季天然氣凍漲的虧損已達去年全年的一半....</td>\n",
       "      <td>4999707670114468</td>\n",
       "      <td>114062348679049</td>\n",
       "      <td>0</td>\n",
       "      <td>3</td>\n",
       "      <td>0</td>\n",
       "      <td>0</td>\n",
       "      <td>https://www.facebook.com/YahooTWFinance/</td>\n",
       "      <td>[{'reaction_count': 3, 'node': {'id': '1635855...</td>\n",
       "    </tr>\n",
       "    <tr>\n",
       "      <th>20</th>\n",
       "      <td>Yahoo奇摩股市理財</td>\n",
       "      <td>2022-04-13 14:47:02</td>\n",
       "      <td>不想說~不能說~還是不敢說~~</td>\n",
       "      <td>5000072170078018</td>\n",
       "      <td>114062348679049</td>\n",
       "      <td>1</td>\n",
       "      <td>19</td>\n",
       "      <td>0</td>\n",
       "      <td>1</td>\n",
       "      <td>https://www.facebook.com/YahooTWFinance/</td>\n",
       "      <td>[{'reaction_count': 15, 'node': {'id': '163585...</td>\n",
       "    </tr>\n",
       "    <tr>\n",
       "      <th>21</th>\n",
       "      <td>Yahoo奇摩股市理財</td>\n",
       "      <td>2022-04-13 14:40:38</td>\n",
       "      <td>無嘴貓要飛去外太空了嗎？#YFR</td>\n",
       "      <td>5000264930058742</td>\n",
       "      <td>114062348679049</td>\n",
       "      <td>0</td>\n",
       "      <td>4</td>\n",
       "      <td>0</td>\n",
       "      <td>0</td>\n",
       "      <td>https://www.facebook.com/YahooTWFinance/</td>\n",
       "      <td>[{'reaction_count': 4, 'node': {'id': '1635855...</td>\n",
       "    </tr>\n",
       "    <tr>\n",
       "      <th>22</th>\n",
       "      <td>Yahoo奇摩股市理財</td>\n",
       "      <td>2022-04-13 14:32:01</td>\n",
       "      <td>現在大家集體逢低撿便宜？🤔</td>\n",
       "      <td>4999653316786570</td>\n",
       "      <td>114062348679049</td>\n",
       "      <td>0</td>\n",
       "      <td>6</td>\n",
       "      <td>0</td>\n",
       "      <td>0</td>\n",
       "      <td>https://www.facebook.com/YahooTWFinance/</td>\n",
       "      <td>[{'reaction_count': 4, 'node': {'id': '1635855...</td>\n",
       "    </tr>\n",
       "    <tr>\n",
       "      <th>23</th>\n",
       "      <td>Yahoo奇摩股市理財</td>\n",
       "      <td>2022-04-13 14:02:52</td>\n",
       "      <td>買了防疫保單，千萬要懂什麼條件下才會出險😔</td>\n",
       "      <td>4999946036757298</td>\n",
       "      <td>114062348679049</td>\n",
       "      <td>0</td>\n",
       "      <td>6</td>\n",
       "      <td>1</td>\n",
       "      <td>0</td>\n",
       "      <td>https://www.facebook.com/YahooTWFinance/</td>\n",
       "      <td>[{'reaction_count': 6, 'node': {'id': '1635855...</td>\n",
       "    </tr>\n",
       "    <tr>\n",
       "      <th>24</th>\n",
       "      <td>Yahoo奇摩股市理財</td>\n",
       "      <td>2022-04-13 14:02:49</td>\n",
       "      <td>前同事被調去台積電美國廠，而且是攜家帶眷一起去，不到1個月就買車買房😲</td>\n",
       "      <td>4999796050105630</td>\n",
       "      <td>114062348679049</td>\n",
       "      <td>0</td>\n",
       "      <td>18</td>\n",
       "      <td>0</td>\n",
       "      <td>0</td>\n",
       "      <td>https://www.facebook.com/YahooTWFinance/</td>\n",
       "      <td>[{'reaction_count': 16, 'node': {'id': '163585...</td>\n",
       "    </tr>\n",
       "    <tr>\n",
       "      <th>25</th>\n",
       "      <td>Yahoo奇摩股市理財</td>\n",
       "      <td>2022-04-13 13:36:23</td>\n",
       "      <td>還在直接買黃金！大家都挖金礦啦🤭</td>\n",
       "      <td>4999802623438306</td>\n",
       "      <td>114062348679049</td>\n",
       "      <td>0</td>\n",
       "      <td>3</td>\n",
       "      <td>0</td>\n",
       "      <td>0</td>\n",
       "      <td>https://www.facebook.com/YahooTWFinance/</td>\n",
       "      <td>[{'reaction_count': 3, 'node': {'id': '1635855...</td>\n",
       "    </tr>\n",
       "    <tr>\n",
       "      <th>26</th>\n",
       "      <td>Yahoo奇摩股市理財</td>\n",
       "      <td>2022-04-13 13:17:01</td>\n",
       "      <td>偏偏那些漲很多的項目都是大家日常會買的東西.....</td>\n",
       "      <td>5000064656745436</td>\n",
       "      <td>114062348679049</td>\n",
       "      <td>1</td>\n",
       "      <td>3</td>\n",
       "      <td>0</td>\n",
       "      <td>1</td>\n",
       "      <td>https://www.facebook.com/YahooTWFinance/</td>\n",
       "      <td>[{'reaction_count': 2, 'node': {'id': '1635855...</td>\n",
       "    </tr>\n",
       "    <tr>\n",
       "      <th>27</th>\n",
       "      <td>Yahoo奇摩股市理財</td>\n",
       "      <td>2022-04-13 13:01:02</td>\n",
       "      <td>每年都在虧錢怎麼40個月年終，電火球要說到做到耶</td>\n",
       "      <td>4999805736771328</td>\n",
       "      <td>114062348679049</td>\n",
       "      <td>16</td>\n",
       "      <td>31</td>\n",
       "      <td>0</td>\n",
       "      <td>12</td>\n",
       "      <td>https://www.facebook.com/YahooTWFinance/</td>\n",
       "      <td>[{'reaction_count': 16, 'node': {'id': '163585...</td>\n",
       "    </tr>\n",
       "    <tr>\n",
       "      <th>28</th>\n",
       "      <td>Yahoo奇摩股市理財</td>\n",
       "      <td>2022-04-13 12:31:22</td>\n",
       "      <td>超優惠的1%優惠要結束了😭這意味著不再需要紓困了是嗎</td>\n",
       "      <td>4999790423439526</td>\n",
       "      <td>114062348679049</td>\n",
       "      <td>1</td>\n",
       "      <td>6</td>\n",
       "      <td>0</td>\n",
       "      <td>0</td>\n",
       "      <td>https://www.facebook.com/YahooTWFinance/</td>\n",
       "      <td>[{'reaction_count': 6, 'node': {'id': '1635855...</td>\n",
       "    </tr>\n",
       "    <tr>\n",
       "      <th>29</th>\n",
       "      <td>Yahoo奇摩股市理財</td>\n",
       "      <td>2022-04-13 12:05:31</td>\n",
       "      <td>今天股價反彈，但法說好像哪裡怪怪的～（漲價漲不動是？）🧐🤨\\n\\n#YFR</td>\n",
       "      <td>5000000866751815</td>\n",
       "      <td>114062348679049</td>\n",
       "      <td>4</td>\n",
       "      <td>40</td>\n",
       "      <td>0</td>\n",
       "      <td>3</td>\n",
       "      <td>https://www.facebook.com/YahooTWFinance/</td>\n",
       "      <td>[{'reaction_count': 38, 'node': {'id': '163585...</td>\n",
       "    </tr>\n",
       "    <tr>\n",
       "      <th>30</th>\n",
       "      <td>Yahoo奇摩股市理財</td>\n",
       "      <td>2022-04-13 12:04:11</td>\n",
       "      <td>現在還來得及當鋼鐵人嗎🤩🤩</td>\n",
       "      <td>4999813376770564</td>\n",
       "      <td>114062348679049</td>\n",
       "      <td>0</td>\n",
       "      <td>1</td>\n",
       "      <td>0</td>\n",
       "      <td>0</td>\n",
       "      <td>https://www.facebook.com/YahooTWFinance/</td>\n",
       "      <td>[{'reaction_count': 1, 'node': {'id': '1635855...</td>\n",
       "    </tr>\n",
       "    <tr>\n",
       "      <th>31</th>\n",
       "      <td>Yahoo奇摩股市理財</td>\n",
       "      <td>2022-04-13 11:36:01</td>\n",
       "      <td>她分享自己的飲食開銷，「工作日時平均一天只花100～150在吃飯上，能夠這麼省就是因為我常常...</td>\n",
       "      <td>4999688316783070</td>\n",
       "      <td>114062348679049</td>\n",
       "      <td>1</td>\n",
       "      <td>2</td>\n",
       "      <td>0</td>\n",
       "      <td>0</td>\n",
       "      <td>https://www.facebook.com/YahooTWFinance/</td>\n",
       "      <td>[{'reaction_count': 2, 'node': {'id': '1635855...</td>\n",
       "    </tr>\n",
       "    <tr>\n",
       "      <th>32</th>\n",
       "      <td>Yahoo奇摩股市理財</td>\n",
       "      <td>2022-04-13 11:15:00</td>\n",
       "      <td>波動穩定的慢慢貶（！？</td>\n",
       "      <td>4999839066767995</td>\n",
       "      <td>114062348679049</td>\n",
       "      <td>5</td>\n",
       "      <td>26</td>\n",
       "      <td>0</td>\n",
       "      <td>3</td>\n",
       "      <td>https://www.facebook.com/YahooTWFinance/</td>\n",
       "      <td>[{'reaction_count': 21, 'node': {'id': '163585...</td>\n",
       "    </tr>\n",
       "    <tr>\n",
       "      <th>33</th>\n",
       "      <td>Yahoo奇摩股市理財</td>\n",
       "      <td>2022-04-13 11:03:05</td>\n",
       "      <td>不會又要改名鮭魚才能領吧😂</td>\n",
       "      <td>4999820443436524</td>\n",
       "      <td>114062348679049</td>\n",
       "      <td>2</td>\n",
       "      <td>3</td>\n",
       "      <td>0</td>\n",
       "      <td>1</td>\n",
       "      <td>https://www.facebook.com/YahooTWFinance/</td>\n",
       "      <td>[{'reaction_count': 3, 'node': {'id': '1635855...</td>\n",
       "    </tr>\n",
       "    <tr>\n",
       "      <th>34</th>\n",
       "      <td>Yahoo奇摩股市理財</td>\n",
       "      <td>2022-04-13 10:32:03</td>\n",
       "      <td>菜籃族跟高所得族群，各有不同報稅法可以省錢喔😃</td>\n",
       "      <td>4999681233450445</td>\n",
       "      <td>114062348679049</td>\n",
       "      <td>2</td>\n",
       "      <td>4</td>\n",
       "      <td>0</td>\n",
       "      <td>1</td>\n",
       "      <td>https://www.facebook.com/YahooTWFinance/</td>\n",
       "      <td>[{'reaction_count': 4, 'node': {'id': '1635855...</td>\n",
       "    </tr>\n",
       "    <tr>\n",
       "      <th>35</th>\n",
       "      <td>Yahoo奇摩股市理財</td>\n",
       "      <td>2022-04-13 10:04:00</td>\n",
       "      <td>小編也查過...勞退帳戶裡的錢錢少得可憐🥺</td>\n",
       "      <td>4997486843669884</td>\n",
       "      <td>114062348679049</td>\n",
       "      <td>4</td>\n",
       "      <td>11</td>\n",
       "      <td>2</td>\n",
       "      <td>2</td>\n",
       "      <td>https://www.facebook.com/YahooTWFinance/</td>\n",
       "      <td>[{'reaction_count': 11, 'node': {'id': '163585...</td>\n",
       "    </tr>\n",
       "    <tr>\n",
       "      <th>36</th>\n",
       "      <td>Yahoo奇摩股市理財</td>\n",
       "      <td>2022-04-13 09:36:00</td>\n",
       "      <td>李日東小時候家境困苦，14歲那年，因為進了台南市遠東百貨的「鑽石樓」粵菜館，才與餐飲業產生邂...</td>\n",
       "      <td>4997177610367474</td>\n",
       "      <td>114062348679049</td>\n",
       "      <td>0</td>\n",
       "      <td>6</td>\n",
       "      <td>0</td>\n",
       "      <td>0</td>\n",
       "      <td>https://www.facebook.com/YahooTWFinance/</td>\n",
       "      <td>[{'reaction_count': 6, 'node': {'id': '1635855...</td>\n",
       "    </tr>\n",
       "    <tr>\n",
       "      <th>37</th>\n",
       "      <td>Yahoo奇摩股市理財</td>\n",
       "      <td>2022-04-13 08:47:42</td>\n",
       "      <td>美CPI飆上40年新高，台股ADR全倒！萬海抄底買台積電，水手喊「完了」！</td>\n",
       "      <td>4999653466786555</td>\n",
       "      <td>114062348679049</td>\n",
       "      <td>0</td>\n",
       "      <td>6</td>\n",
       "      <td>0</td>\n",
       "      <td>0</td>\n",
       "      <td>https://www.facebook.com/YahooTWFinance/</td>\n",
       "      <td>[{'reaction_count': 6, 'node': {'id': '1635855...</td>\n",
       "    </tr>\n",
       "    <tr>\n",
       "      <th>38</th>\n",
       "      <td>Yahoo奇摩股市理財</td>\n",
       "      <td>2022-04-13 08:03:00</td>\n",
       "      <td>這波疫情防不了啊.....☹️☹️☹️</td>\n",
       "      <td>4997090733709495</td>\n",
       "      <td>114062348679049</td>\n",
       "      <td>0</td>\n",
       "      <td>5</td>\n",
       "      <td>1</td>\n",
       "      <td>0</td>\n",
       "      <td>https://www.facebook.com/YahooTWFinance/</td>\n",
       "      <td>[{'reaction_count': 3, 'node': {'id': '1635855...</td>\n",
       "    </tr>\n",
       "    <tr>\n",
       "      <th>39</th>\n",
       "      <td>Yahoo奇摩股市理財</td>\n",
       "      <td>2022-04-12 23:36:04</td>\n",
       "      <td>養育一名小孩到成年工作所費不貲。這個問題似乎在世界各國都有，那他們又是如何解決的？</td>\n",
       "      <td>4994753663943202</td>\n",
       "      <td>114062348679049</td>\n",
       "      <td>3</td>\n",
       "      <td>5</td>\n",
       "      <td>0</td>\n",
       "      <td>3</td>\n",
       "      <td>https://www.facebook.com/YahooTWFinance/</td>\n",
       "      <td>[{'reaction_count': 4, 'node': {'id': '1635855...</td>\n",
       "    </tr>\n",
       "    <tr>\n",
       "      <th>40</th>\n",
       "      <td>Yahoo奇摩股市理財</td>\n",
       "      <td>2022-04-12 23:04:00</td>\n",
       "      <td>受惠營收增加、產品組合改善及成本控制得宜，去年環球晶營收611億元，再創歷史新高！！</td>\n",
       "      <td>4997601833658385</td>\n",
       "      <td>114062348679049</td>\n",
       "      <td>2</td>\n",
       "      <td>18</td>\n",
       "      <td>0</td>\n",
       "      <td>2</td>\n",
       "      <td>https://www.facebook.com/YahooTWFinance/</td>\n",
       "      <td>[{'reaction_count': 15, 'node': {'id': '163585...</td>\n",
       "    </tr>\n",
       "    <tr>\n",
       "      <th>41</th>\n",
       "      <td>Yahoo奇摩股市理財</td>\n",
       "      <td>2022-04-12 22:33:00</td>\n",
       "      <td>存股就只能夠領股利而已？今年EPS成長且股價表現逆勢大盤的公司有哪些？🤔\\n\\n#定存 #股利</td>\n",
       "      <td>4997102787041623</td>\n",
       "      <td>114062348679049</td>\n",
       "      <td>1</td>\n",
       "      <td>8</td>\n",
       "      <td>0</td>\n",
       "      <td>1</td>\n",
       "      <td>https://www.facebook.com/YahooTWFinance/</td>\n",
       "      <td>[{'reaction_count': 7, 'node': {'id': '1635855...</td>\n",
       "    </tr>\n",
       "    <tr>\n",
       "      <th>42</th>\n",
       "      <td>Yahoo奇摩股市理財</td>\n",
       "      <td>2022-04-12 22:03:00</td>\n",
       "      <td>大學畢業就買房當包租婆，15年來海內外投資7間不動產👍👍</td>\n",
       "      <td>4997615840323651</td>\n",
       "      <td>114062348679049</td>\n",
       "      <td>0</td>\n",
       "      <td>5</td>\n",
       "      <td>0</td>\n",
       "      <td>0</td>\n",
       "      <td>https://www.facebook.com/YahooTWFinance/</td>\n",
       "      <td>[{'reaction_count': 4, 'node': {'id': '1635855...</td>\n",
       "    </tr>\n",
       "    <tr>\n",
       "      <th>43</th>\n",
       "      <td>Yahoo奇摩股市理財</td>\n",
       "      <td>2022-04-12 21:32:50</td>\n",
       "      <td>小編每次看到美福倉儲大火的新聞都覺得飄來了一股....(太地獄吧)</td>\n",
       "      <td>4997183823700186</td>\n",
       "      <td>114062348679049</td>\n",
       "      <td>0</td>\n",
       "      <td>7</td>\n",
       "      <td>0</td>\n",
       "      <td>0</td>\n",
       "      <td>https://www.facebook.com/YahooTWFinance/</td>\n",
       "      <td>[{'reaction_count': 7, 'node': {'id': '1635855...</td>\n",
       "    </tr>\n",
       "    <tr>\n",
       "      <th>44</th>\n",
       "      <td>Yahoo奇摩股市理財</td>\n",
       "      <td>2022-04-12 21:05:00</td>\n",
       "      <td>券商二年多光20元手續費就賺9億元呀！真的聚沙成塔…我想當莊家。\\n#YFR</td>\n",
       "      <td>4997966266955275</td>\n",
       "      <td>114062348679049</td>\n",
       "      <td>1</td>\n",
       "      <td>11</td>\n",
       "      <td>0</td>\n",
       "      <td>1</td>\n",
       "      <td>https://www.facebook.com/YahooTWFinance/</td>\n",
       "      <td>[{'reaction_count': 9, 'node': {'id': '1635855...</td>\n",
       "    </tr>\n",
       "    <tr>\n",
       "      <th>45</th>\n",
       "      <td>Yahoo奇摩股市理財</td>\n",
       "      <td>2022-04-12 21:01:53</td>\n",
       "      <td>是什麼「不治之症」讓他想放棄高薪出逃🧐</td>\n",
       "      <td>4997176307034271</td>\n",
       "      <td>114062348679049</td>\n",
       "      <td>0</td>\n",
       "      <td>3</td>\n",
       "      <td>0</td>\n",
       "      <td>0</td>\n",
       "      <td>https://www.facebook.com/YahooTWFinance/</td>\n",
       "      <td>[{'reaction_count': 3, 'node': {'id': '1635855...</td>\n",
       "    </tr>\n",
       "    <tr>\n",
       "      <th>46</th>\n",
       "      <td>Yahoo奇摩股市理財</td>\n",
       "      <td>2022-04-12 20:45:12</td>\n",
       "      <td>越跌空手的小編越開心（？\\n#YFR</td>\n",
       "      <td>4998294066922495</td>\n",
       "      <td>114062348679049</td>\n",
       "      <td>0</td>\n",
       "      <td>6</td>\n",
       "      <td>0</td>\n",
       "      <td>0</td>\n",
       "      <td>https://www.facebook.com/YahooTWFinance/</td>\n",
       "      <td>[{'reaction_count': 6, 'node': {'id': '1635855...</td>\n",
       "    </tr>\n",
       "    <tr>\n",
       "      <th>47</th>\n",
       "      <td>Yahoo奇摩股市理財</td>\n",
       "      <td>2022-04-12 20:32:15</td>\n",
       "      <td>鬼不可怕，窮才可怕啊！😭</td>\n",
       "      <td>4997189697032932</td>\n",
       "      <td>114062348679049</td>\n",
       "      <td>0</td>\n",
       "      <td>5</td>\n",
       "      <td>0</td>\n",
       "      <td>0</td>\n",
       "      <td>https://www.facebook.com/YahooTWFinance/</td>\n",
       "      <td>[{'reaction_count': 5, 'node': {'id': '1635855...</td>\n",
       "    </tr>\n",
       "    <tr>\n",
       "      <th>48</th>\n",
       "      <td>Yahoo奇摩股市理財</td>\n",
       "      <td>2022-04-12 20:01:18</td>\n",
       "      <td>你知道除了台積電外，台灣還是有很多好公司的。🙂\\n\\n#YPRO</td>\n",
       "      <td>4997169980368237</td>\n",
       "      <td>114062348679049</td>\n",
       "      <td>1</td>\n",
       "      <td>6</td>\n",
       "      <td>0</td>\n",
       "      <td>0</td>\n",
       "      <td>https://www.facebook.com/YahooTWFinance/</td>\n",
       "      <td>[{'reaction_count': 6, 'node': {'id': '1635855...</td>\n",
       "    </tr>\n",
       "    <tr>\n",
       "      <th>49</th>\n",
       "      <td>Yahoo奇摩股市理財</td>\n",
       "      <td>2022-04-12 19:36:30</td>\n",
       "      <td>環保署長張子敬昨受訪說，盼今年完成立法、明年建立子法制度，擬於二○二四年開徵碳費。😅\\n#環...</td>\n",
       "      <td>4997309853687583</td>\n",
       "      <td>114062348679049</td>\n",
       "      <td>1</td>\n",
       "      <td>5</td>\n",
       "      <td>0</td>\n",
       "      <td>0</td>\n",
       "      <td>https://www.facebook.com/YahooTWFinance/</td>\n",
       "      <td>[{'reaction_count': 5, 'node': {'id': '1635855...</td>\n",
       "    </tr>\n",
       "    <tr>\n",
       "      <th>50</th>\n",
       "      <td>Yahoo奇摩股市理財</td>\n",
       "      <td>2022-04-12 19:32:08</td>\n",
       "      <td>除了冷氣以外，還有幾款家電是「隱形耗電大戶」😱😱</td>\n",
       "      <td>4997968686955033</td>\n",
       "      <td>114062348679049</td>\n",
       "      <td>1</td>\n",
       "      <td>5</td>\n",
       "      <td>1</td>\n",
       "      <td>0</td>\n",
       "      <td>https://www.facebook.com/YahooTWFinance/</td>\n",
       "      <td>[{'reaction_count': 5, 'node': {'id': '1635855...</td>\n",
       "    </tr>\n",
       "    <tr>\n",
       "      <th>51</th>\n",
       "      <td>Yahoo奇摩股市理財</td>\n",
       "      <td>2022-04-12 19:05:00</td>\n",
       "      <td>果然有錢就是任性😂\\nhttps://tw.stock.yahoo.com/news/%E9...</td>\n",
       "      <td>4997482287003673</td>\n",
       "      <td>114062348679049</td>\n",
       "      <td>0</td>\n",
       "      <td>4</td>\n",
       "      <td>0</td>\n",
       "      <td>0</td>\n",
       "      <td>https://www.facebook.com/YahooTWFinance/</td>\n",
       "      <td>[{'reaction_count': 4, 'node': {'id': '1635855...</td>\n",
       "    </tr>\n",
       "    <tr>\n",
       "      <th>52</th>\n",
       "      <td>Yahoo奇摩股市理財</td>\n",
       "      <td>2022-04-12 19:04:00</td>\n",
       "      <td>都電腦化的時代了…台灣還要預扣款擺3~7天又沒利息有點落伍呀\\n#YFR</td>\n",
       "      <td>4997963176955584</td>\n",
       "      <td>114062348679049</td>\n",
       "      <td>0</td>\n",
       "      <td>3</td>\n",
       "      <td>0</td>\n",
       "      <td>0</td>\n",
       "      <td>https://www.facebook.com/YahooTWFinance/</td>\n",
       "      <td>[{'reaction_count': 3, 'node': {'id': '1635855...</td>\n",
       "    </tr>\n",
       "    <tr>\n",
       "      <th>53</th>\n",
       "      <td>Yahoo奇摩股市理財</td>\n",
       "      <td>2022-04-12 18:32:01</td>\n",
       "      <td>陳唯泰-跟著我擇機入市 觀察，近期鋼鐵類股的成交比重不到5%，跟去年10%以上的盛況相比，現...</td>\n",
       "      <td>4997703963648172</td>\n",
       "      <td>114062348679049</td>\n",
       "      <td>0</td>\n",
       "      <td>4</td>\n",
       "      <td>0</td>\n",
       "      <td>0</td>\n",
       "      <td>https://www.facebook.com/YahooTWFinance/</td>\n",
       "      <td>[{'reaction_count': 4, 'node': {'id': '1635855...</td>\n",
       "    </tr>\n",
       "    <tr>\n",
       "      <th>54</th>\n",
       "      <td>Yahoo奇摩股市理財</td>\n",
       "      <td>2022-04-12 18:10:07</td>\n",
       "      <td>誰來跟小編解釋一下元宇宙到底是什麼…？\\n#YFR</td>\n",
       "      <td>4998005396951362</td>\n",
       "      <td>114062348679049</td>\n",
       "      <td>0</td>\n",
       "      <td>2</td>\n",
       "      <td>0</td>\n",
       "      <td>0</td>\n",
       "      <td>https://www.facebook.com/YahooTWFinance/</td>\n",
       "      <td>[{'reaction_count': 2, 'node': {'id': '1635855...</td>\n",
       "    </tr>\n",
       "    <tr>\n",
       "      <th>55</th>\n",
       "      <td>Yahoo奇摩股市理財</td>\n",
       "      <td>2022-04-12 18:09:03</td>\n",
       "      <td>小編是沒錢抽綠界  但台股量縮所有股票都下跌 我也是受害者ㄋㄟ\\n#YFR</td>\n",
       "      <td>4997955090289726</td>\n",
       "      <td>114062348679049</td>\n",
       "      <td>0</td>\n",
       "      <td>14</td>\n",
       "      <td>0</td>\n",
       "      <td>0</td>\n",
       "      <td>https://www.facebook.com/YahooTWFinance/</td>\n",
       "      <td>[{'reaction_count': 14, 'node': {'id': '163585...</td>\n",
       "    </tr>\n",
       "    <tr>\n",
       "      <th>56</th>\n",
       "      <td>Yahoo奇摩股市理財</td>\n",
       "      <td>2022-04-12 18:04:02</td>\n",
       "      <td>找出自己適合的尋寶模式，股市隱者歸納出三種：「價值投資」、「波動操作」和「短線交易」😃</td>\n",
       "      <td>4997418507010051</td>\n",
       "      <td>114062348679049</td>\n",
       "      <td>0</td>\n",
       "      <td>4</td>\n",
       "      <td>1</td>\n",
       "      <td>0</td>\n",
       "      <td>https://www.facebook.com/YahooTWFinance/</td>\n",
       "      <td>[{'reaction_count': 4, 'node': {'id': '1635855...</td>\n",
       "    </tr>\n",
       "    <tr>\n",
       "      <th>57</th>\n",
       "      <td>Yahoo奇摩股市理財</td>\n",
       "      <td>2022-04-12 17:55:00</td>\n",
       "      <td>阿就沒錢才玩沖……浪呀（喂~）是說這行情也不想沖\\n#YFR</td>\n",
       "      <td>4997946310290604</td>\n",
       "      <td>114062348679049</td>\n",
       "      <td>1</td>\n",
       "      <td>1</td>\n",
       "      <td>0</td>\n",
       "      <td>1</td>\n",
       "      <td>https://www.facebook.com/YahooTWFinance/</td>\n",
       "      <td>[{'reaction_count': 1, 'node': {'id': '1635855...</td>\n",
       "    </tr>\n",
       "    <tr>\n",
       "      <th>58</th>\n",
       "      <td>Yahoo奇摩股市理財</td>\n",
       "      <td>2022-04-12 17:34:00</td>\n",
       "      <td>目前在台股掛牌的元大金融，自今年以來漲幅高達11.3%(截至4/8)，打敗所有台股ETF🥰\\...</td>\n",
       "      <td>4997472087004693</td>\n",
       "      <td>114062348679049</td>\n",
       "      <td>0</td>\n",
       "      <td>3</td>\n",
       "      <td>1</td>\n",
       "      <td>0</td>\n",
       "      <td>https://www.facebook.com/YahooTWFinance/</td>\n",
       "      <td>[{'reaction_count': 3, 'node': {'id': '1635855...</td>\n",
       "    </tr>\n",
       "    <tr>\n",
       "      <th>59</th>\n",
       "      <td>Yahoo奇摩股市理財</td>\n",
       "      <td>2022-04-12 17:30:41</td>\n",
       "      <td>國泰世華銀ATM已經有夠多了吧…感覺罰得不重耶\\n#YFR</td>\n",
       "      <td>4997940610291174</td>\n",
       "      <td>114062348679049</td>\n",
       "      <td>0</td>\n",
       "      <td>21</td>\n",
       "      <td>2</td>\n",
       "      <td>0</td>\n",
       "      <td>https://www.facebook.com/YahooTWFinance/</td>\n",
       "      <td>[{'reaction_count': 21, 'node': {'id': '163585...</td>\n",
       "    </tr>\n",
       "  </tbody>\n",
       "</table>\n",
       "</div>"
      ],
      "text/plain": [
       "           name        creation_time  \\\n",
       "0   Yahoo奇摩股市理財  2022-04-13 20:31:34   \n",
       "1   Yahoo奇摩股市理財  2022-04-13 20:07:02   \n",
       "2   Yahoo奇摩股市理財  2022-04-13 20:07:00   \n",
       "3   Yahoo奇摩股市理財  2022-04-13 20:01:31   \n",
       "4   Yahoo奇摩股市理財  2022-04-13 19:35:00   \n",
       "5   Yahoo奇摩股市理財  2022-04-13 19:24:00   \n",
       "6   Yahoo奇摩股市理財  2022-04-13 19:18:04   \n",
       "7   Yahoo奇摩股市理財  2022-04-13 19:06:00   \n",
       "8   Yahoo奇摩股市理財  2022-04-13 18:35:33   \n",
       "9   Yahoo奇摩股市理財  2022-04-13 18:32:00   \n",
       "10  Yahoo奇摩股市理財  2022-04-13 18:16:00   \n",
       "11  Yahoo奇摩股市理財  2022-04-13 18:11:13   \n",
       "12  Yahoo奇摩股市理財  2022-04-13 18:05:00   \n",
       "13  Yahoo奇摩股市理財  2022-04-13 17:44:00   \n",
       "14  Yahoo奇摩股市理財  2022-04-13 17:34:04   \n",
       "15  Yahoo奇摩股市理財  2022-04-13 17:03:00   \n",
       "16  Yahoo奇摩股市理財  2022-04-13 16:36:05   \n",
       "17  Yahoo奇摩股市理財  2022-04-13 16:01:01   \n",
       "18  Yahoo奇摩股市理財  2022-04-13 15:32:00   \n",
       "19  Yahoo奇摩股市理財  2022-04-13 15:02:05   \n",
       "20  Yahoo奇摩股市理財  2022-04-13 14:47:02   \n",
       "21  Yahoo奇摩股市理財  2022-04-13 14:40:38   \n",
       "22  Yahoo奇摩股市理財  2022-04-13 14:32:01   \n",
       "23  Yahoo奇摩股市理財  2022-04-13 14:02:52   \n",
       "24  Yahoo奇摩股市理財  2022-04-13 14:02:49   \n",
       "25  Yahoo奇摩股市理財  2022-04-13 13:36:23   \n",
       "26  Yahoo奇摩股市理財  2022-04-13 13:17:01   \n",
       "27  Yahoo奇摩股市理財  2022-04-13 13:01:02   \n",
       "28  Yahoo奇摩股市理財  2022-04-13 12:31:22   \n",
       "29  Yahoo奇摩股市理財  2022-04-13 12:05:31   \n",
       "30  Yahoo奇摩股市理財  2022-04-13 12:04:11   \n",
       "31  Yahoo奇摩股市理財  2022-04-13 11:36:01   \n",
       "32  Yahoo奇摩股市理財  2022-04-13 11:15:00   \n",
       "33  Yahoo奇摩股市理財  2022-04-13 11:03:05   \n",
       "34  Yahoo奇摩股市理財  2022-04-13 10:32:03   \n",
       "35  Yahoo奇摩股市理財  2022-04-13 10:04:00   \n",
       "36  Yahoo奇摩股市理財  2022-04-13 09:36:00   \n",
       "37  Yahoo奇摩股市理財  2022-04-13 08:47:42   \n",
       "38  Yahoo奇摩股市理財  2022-04-13 08:03:00   \n",
       "39  Yahoo奇摩股市理財  2022-04-12 23:36:04   \n",
       "40  Yahoo奇摩股市理財  2022-04-12 23:04:00   \n",
       "41  Yahoo奇摩股市理財  2022-04-12 22:33:00   \n",
       "42  Yahoo奇摩股市理財  2022-04-12 22:03:00   \n",
       "43  Yahoo奇摩股市理財  2022-04-12 21:32:50   \n",
       "44  Yahoo奇摩股市理財  2022-04-12 21:05:00   \n",
       "45  Yahoo奇摩股市理財  2022-04-12 21:01:53   \n",
       "46  Yahoo奇摩股市理財  2022-04-12 20:45:12   \n",
       "47  Yahoo奇摩股市理財  2022-04-12 20:32:15   \n",
       "48  Yahoo奇摩股市理財  2022-04-12 20:01:18   \n",
       "49  Yahoo奇摩股市理財  2022-04-12 19:36:30   \n",
       "50  Yahoo奇摩股市理財  2022-04-12 19:32:08   \n",
       "51  Yahoo奇摩股市理財  2022-04-12 19:05:00   \n",
       "52  Yahoo奇摩股市理財  2022-04-12 19:04:00   \n",
       "53  Yahoo奇摩股市理財  2022-04-12 18:32:01   \n",
       "54  Yahoo奇摩股市理財  2022-04-12 18:10:07   \n",
       "55  Yahoo奇摩股市理財  2022-04-12 18:09:03   \n",
       "56  Yahoo奇摩股市理財  2022-04-12 18:04:02   \n",
       "57  Yahoo奇摩股市理財  2022-04-12 17:55:00   \n",
       "58  Yahoo奇摩股市理財  2022-04-12 17:34:00   \n",
       "59  Yahoo奇摩股市理財  2022-04-12 17:30:41   \n",
       "\n",
       "                                              message            postid  \\\n",
       "0                                 藝人副業也不是每個都金雞母很成功的呢🥺  4999793203439248   \n",
       "1                元宇宙看起來好可愛，也好想辦一個身分玩玩看喔，大家也期待嗎 😻 #YFR  5000824500002785   \n",
       "2                           台股好不容易不跌了…第2季該撿什麼股？\\n#YFR  5000676076684294   \n",
       "3                     隨著戰爭持續影響著供應端，肥料價格恐怕易漲難跌。\\n#YPRO  4999808620104373   \n",
       "4   岡拉克說，「Fed仍在談論2%通膨、實在可笑.....每個人都知道勞工薪資上升是一種具僵固性...  4999814593437109   \n",
       "5                 每次都回「基本面佳終究會買」，外資一直賣，今天不回應外資終於買了…這…  5000691343349434   \n",
       "6                                感覺2%以上還是一堆人搶著貸呀…#YFR  5000684723350096   \n",
       "7                               時薪400徵煮飯阿姨\\n一看工作內容直搖頭  4999996283418940   \n",
       "8   晴天備傘！有想過老共萬一要制裁台灣央行，會出什麼招嗎？…全部人民幣結算，可以1：1換嗎？\\n...  5000653000019935   \n",
       "9                    他強調：「你可以發現，我的持股裡沒有電子股，這樣波動才會小。」😎  4999712190114016   \n",
       "10                         有個發40個月年終的極端值，難怪海洋水運業榮登第一！  5000513220033913   \n",
       "11                      現在下訂有瀏海的 MacBook 還來得及嗎 🥺 #YFR  5000610233357545   \n",
       "12  22年前，念中正法律系的弟弟挪騙家裡提供的碩士班補習費，一頭栽進球鞋蒐藏網拍；哥哥後來也放棄...  4999989273419641   \n",
       "13                              好不容易提升的薪水全都被物價漲幅吃掉了！！  5000507143367854   \n",
       "14                                      有送寵物險的，感覺很划算😍  4999684936783408   \n",
       "15                                   就當是繳學費學經驗囉....☹☹  4999667646785137   \n",
       "16                                  通膨持續加溫，匯市投資該往哪邊走？  4986691781416057   \n",
       "17                  近期張國華槓上姊夫鄭深池，強調張家兄弟協商不需要透過外人.....  4999687676783134   \n",
       "18  今日在台積電、聯發科回神反彈之下，帶動加權指數漲回萬七大關之上，以17,301.65點作收，...  5000310693387499   \n",
       "19     相較去年全年天然氣虧損1,048億元，等於今年首季天然氣凍漲的虧損已達去年全年的一半....  4999707670114468   \n",
       "20                                    不想說~不能說~還是不敢說~~  5000072170078018   \n",
       "21                                   無嘴貓要飛去外太空了嗎？#YFR  5000264930058742   \n",
       "22                                      現在大家集體逢低撿便宜？🤔  4999653316786570   \n",
       "23                              買了防疫保單，千萬要懂什麼條件下才會出險😔  4999946036757298   \n",
       "24                前同事被調去台積電美國廠，而且是攜家帶眷一起去，不到1個月就買車買房😲  4999796050105630   \n",
       "25                                   還在直接買黃金！大家都挖金礦啦🤭  4999802623438306   \n",
       "26                         偏偏那些漲很多的項目都是大家日常會買的東西.....  5000064656745436   \n",
       "27                           每年都在虧錢怎麼40個月年終，電火球要說到做到耶  4999805736771328   \n",
       "28                         超優惠的1%優惠要結束了😭這意味著不再需要紓困了是嗎  4999790423439526   \n",
       "29              今天股價反彈，但法說好像哪裡怪怪的～（漲價漲不動是？）🧐🤨\\n\\n#YFR  5000000866751815   \n",
       "30                                      現在還來得及當鋼鐵人嗎🤩🤩  4999813376770564   \n",
       "31  她分享自己的飲食開銷，「工作日時平均一天只花100～150在吃飯上，能夠這麼省就是因為我常常...  4999688316783070   \n",
       "32                                        波動穩定的慢慢貶（！？  4999839066767995   \n",
       "33                                      不會又要改名鮭魚才能領吧😂  4999820443436524   \n",
       "34                            菜籃族跟高所得族群，各有不同報稅法可以省錢喔😃  4999681233450445   \n",
       "35                              小編也查過...勞退帳戶裡的錢錢少得可憐🥺  4997486843669884   \n",
       "36  李日東小時候家境困苦，14歲那年，因為進了台南市遠東百貨的「鑽石樓」粵菜館，才與餐飲業產生邂...  4997177610367474   \n",
       "37              美CPI飆上40年新高，台股ADR全倒！萬海抄底買台積電，水手喊「完了」！  4999653466786555   \n",
       "38                                這波疫情防不了啊.....☹️☹️☹️  4997090733709495   \n",
       "39          養育一名小孩到成年工作所費不貲。這個問題似乎在世界各國都有，那他們又是如何解決的？  4994753663943202   \n",
       "40         受惠營收增加、產品組合改善及成本控制得宜，去年環球晶營收611億元，再創歷史新高！！  4997601833658385   \n",
       "41    存股就只能夠領股利而已？今年EPS成長且股價表現逆勢大盤的公司有哪些？🤔\\n\\n#定存 #股利  4997102787041623   \n",
       "42                       大學畢業就買房當包租婆，15年來海內外投資7間不動產👍👍  4997615840323651   \n",
       "43                  小編每次看到美福倉儲大火的新聞都覺得飄來了一股....(太地獄吧)  4997183823700186   \n",
       "44             券商二年多光20元手續費就賺9億元呀！真的聚沙成塔…我想當莊家。\\n#YFR  4997966266955275   \n",
       "45                                是什麼「不治之症」讓他想放棄高薪出逃🧐  4997176307034271   \n",
       "46                                 越跌空手的小編越開心（？\\n#YFR  4998294066922495   \n",
       "47                                       鬼不可怕，窮才可怕啊！😭  4997189697032932   \n",
       "48                   你知道除了台積電外，台灣還是有很多好公司的。🙂\\n\\n#YPRO  4997169980368237   \n",
       "49  環保署長張子敬昨受訪說，盼今年完成立法、明年建立子法制度，擬於二○二四年開徵碳費。😅\\n#環...  4997309853687583   \n",
       "50                           除了冷氣以外，還有幾款家電是「隱形耗電大戶」😱😱  4997968686955033   \n",
       "51  果然有錢就是任性😂\\nhttps://tw.stock.yahoo.com/news/%E9...  4997482287003673   \n",
       "52               都電腦化的時代了…台灣還要預扣款擺3~7天又沒利息有點落伍呀\\n#YFR  4997963176955584   \n",
       "53  陳唯泰-跟著我擇機入市 觀察，近期鋼鐵類股的成交比重不到5%，跟去年10%以上的盛況相比，現...  4997703963648172   \n",
       "54                          誰來跟小編解釋一下元宇宙到底是什麼…？\\n#YFR  4998005396951362   \n",
       "55              小編是沒錢抽綠界  但台股量縮所有股票都下跌 我也是受害者ㄋㄟ\\n#YFR  4997955090289726   \n",
       "56        找出自己適合的尋寶模式，股市隱者歸納出三種：「價值投資」、「波動操作」和「短線交易」😃  4997418507010051   \n",
       "57                     阿就沒錢才玩沖……浪呀（喂~）是說這行情也不想沖\\n#YFR  4997946310290604   \n",
       "58  目前在台股掛牌的元大金融，自今年以來漲幅高達11.3%(截至4/8)，打敗所有台股ETF🥰\\...  4997472087004693   \n",
       "59                      國泰世華銀ATM已經有夠多了吧…感覺罰得不重耶\\n#YFR  4997940610291174   \n",
       "\n",
       "             pageid  comment_count  reaction_count  share_count  \\\n",
       "0   114062348679049              0               0            0   \n",
       "1   114062348679049              1               1            0   \n",
       "2   114062348679049              1               2            1   \n",
       "3   114062348679049              1               1            0   \n",
       "4   114062348679049              0               2            0   \n",
       "5   114062348679049              0               1            0   \n",
       "6   114062348679049              0               2            0   \n",
       "7   114062348679049              1               6            0   \n",
       "8   114062348679049              1               3            0   \n",
       "9   114062348679049              0               8            3   \n",
       "10  114062348679049              0               3            0   \n",
       "11  114062348679049              0               3            0   \n",
       "12  114062348679049              0               4            0   \n",
       "13  114062348679049              1               5            1   \n",
       "14  114062348679049              0               2            0   \n",
       "15  114062348679049              0               5            0   \n",
       "16  114062348679049              0               3            0   \n",
       "17  114062348679049              0               3            0   \n",
       "18  114062348679049              0               2            0   \n",
       "19  114062348679049              0               3            0   \n",
       "20  114062348679049              1              19            0   \n",
       "21  114062348679049              0               4            0   \n",
       "22  114062348679049              0               6            0   \n",
       "23  114062348679049              0               6            1   \n",
       "24  114062348679049              0              18            0   \n",
       "25  114062348679049              0               3            0   \n",
       "26  114062348679049              1               3            0   \n",
       "27  114062348679049             16              31            0   \n",
       "28  114062348679049              1               6            0   \n",
       "29  114062348679049              4              40            0   \n",
       "30  114062348679049              0               1            0   \n",
       "31  114062348679049              1               2            0   \n",
       "32  114062348679049              5              26            0   \n",
       "33  114062348679049              2               3            0   \n",
       "34  114062348679049              2               4            0   \n",
       "35  114062348679049              4              11            2   \n",
       "36  114062348679049              0               6            0   \n",
       "37  114062348679049              0               6            0   \n",
       "38  114062348679049              0               5            1   \n",
       "39  114062348679049              3               5            0   \n",
       "40  114062348679049              2              18            0   \n",
       "41  114062348679049              1               8            0   \n",
       "42  114062348679049              0               5            0   \n",
       "43  114062348679049              0               7            0   \n",
       "44  114062348679049              1              11            0   \n",
       "45  114062348679049              0               3            0   \n",
       "46  114062348679049              0               6            0   \n",
       "47  114062348679049              0               5            0   \n",
       "48  114062348679049              1               6            0   \n",
       "49  114062348679049              1               5            0   \n",
       "50  114062348679049              1               5            1   \n",
       "51  114062348679049              0               4            0   \n",
       "52  114062348679049              0               3            0   \n",
       "53  114062348679049              0               4            0   \n",
       "54  114062348679049              0               2            0   \n",
       "55  114062348679049              0              14            0   \n",
       "56  114062348679049              0               4            1   \n",
       "57  114062348679049              1               1            0   \n",
       "58  114062348679049              0               3            1   \n",
       "59  114062348679049              0              21            2   \n",
       "\n",
       "    toplevel_comment_count                                       url  \\\n",
       "0                        0  https://www.facebook.com/YahooTWFinance/   \n",
       "1                        1  https://www.facebook.com/YahooTWFinance/   \n",
       "2                        1  https://www.facebook.com/YahooTWFinance/   \n",
       "3                        1  https://www.facebook.com/YahooTWFinance/   \n",
       "4                        0  https://www.facebook.com/YahooTWFinance/   \n",
       "5                        0  https://www.facebook.com/YahooTWFinance/   \n",
       "6                        0  https://www.facebook.com/YahooTWFinance/   \n",
       "7                        1  https://www.facebook.com/YahooTWFinance/   \n",
       "8                        1  https://www.facebook.com/YahooTWFinance/   \n",
       "9                        0  https://www.facebook.com/YahooTWFinance/   \n",
       "10                       0  https://www.facebook.com/YahooTWFinance/   \n",
       "11                       0  https://www.facebook.com/YahooTWFinance/   \n",
       "12                       0  https://www.facebook.com/YahooTWFinance/   \n",
       "13                       1  https://www.facebook.com/YahooTWFinance/   \n",
       "14                       0  https://www.facebook.com/YahooTWFinance/   \n",
       "15                       0  https://www.facebook.com/YahooTWFinance/   \n",
       "16                       0  https://www.facebook.com/YahooTWFinance/   \n",
       "17                       0  https://www.facebook.com/YahooTWFinance/   \n",
       "18                       0  https://www.facebook.com/YahooTWFinance/   \n",
       "19                       0  https://www.facebook.com/YahooTWFinance/   \n",
       "20                       1  https://www.facebook.com/YahooTWFinance/   \n",
       "21                       0  https://www.facebook.com/YahooTWFinance/   \n",
       "22                       0  https://www.facebook.com/YahooTWFinance/   \n",
       "23                       0  https://www.facebook.com/YahooTWFinance/   \n",
       "24                       0  https://www.facebook.com/YahooTWFinance/   \n",
       "25                       0  https://www.facebook.com/YahooTWFinance/   \n",
       "26                       1  https://www.facebook.com/YahooTWFinance/   \n",
       "27                      12  https://www.facebook.com/YahooTWFinance/   \n",
       "28                       0  https://www.facebook.com/YahooTWFinance/   \n",
       "29                       3  https://www.facebook.com/YahooTWFinance/   \n",
       "30                       0  https://www.facebook.com/YahooTWFinance/   \n",
       "31                       0  https://www.facebook.com/YahooTWFinance/   \n",
       "32                       3  https://www.facebook.com/YahooTWFinance/   \n",
       "33                       1  https://www.facebook.com/YahooTWFinance/   \n",
       "34                       1  https://www.facebook.com/YahooTWFinance/   \n",
       "35                       2  https://www.facebook.com/YahooTWFinance/   \n",
       "36                       0  https://www.facebook.com/YahooTWFinance/   \n",
       "37                       0  https://www.facebook.com/YahooTWFinance/   \n",
       "38                       0  https://www.facebook.com/YahooTWFinance/   \n",
       "39                       3  https://www.facebook.com/YahooTWFinance/   \n",
       "40                       2  https://www.facebook.com/YahooTWFinance/   \n",
       "41                       1  https://www.facebook.com/YahooTWFinance/   \n",
       "42                       0  https://www.facebook.com/YahooTWFinance/   \n",
       "43                       0  https://www.facebook.com/YahooTWFinance/   \n",
       "44                       1  https://www.facebook.com/YahooTWFinance/   \n",
       "45                       0  https://www.facebook.com/YahooTWFinance/   \n",
       "46                       0  https://www.facebook.com/YahooTWFinance/   \n",
       "47                       0  https://www.facebook.com/YahooTWFinance/   \n",
       "48                       0  https://www.facebook.com/YahooTWFinance/   \n",
       "49                       0  https://www.facebook.com/YahooTWFinance/   \n",
       "50                       0  https://www.facebook.com/YahooTWFinance/   \n",
       "51                       0  https://www.facebook.com/YahooTWFinance/   \n",
       "52                       0  https://www.facebook.com/YahooTWFinance/   \n",
       "53                       0  https://www.facebook.com/YahooTWFinance/   \n",
       "54                       0  https://www.facebook.com/YahooTWFinance/   \n",
       "55                       0  https://www.facebook.com/YahooTWFinance/   \n",
       "56                       0  https://www.facebook.com/YahooTWFinance/   \n",
       "57                       1  https://www.facebook.com/YahooTWFinance/   \n",
       "58                       0  https://www.facebook.com/YahooTWFinance/   \n",
       "59                       0  https://www.facebook.com/YahooTWFinance/   \n",
       "\n",
       "                                        top_reactions  \n",
       "0                                                  []  \n",
       "1   [{'reaction_count': 1, 'node': {'id': '1635855...  \n",
       "2   [{'reaction_count': 2, 'node': {'id': '1635855...  \n",
       "3   [{'reaction_count': 1, 'node': {'id': '1635855...  \n",
       "4   [{'reaction_count': 2, 'node': {'id': '1635855...  \n",
       "5   [{'reaction_count': 1, 'node': {'id': '1159406...  \n",
       "6   [{'reaction_count': 2, 'node': {'id': '1635855...  \n",
       "7   [{'reaction_count': 6, 'node': {'id': '1635855...  \n",
       "8   [{'reaction_count': 2, 'node': {'id': '1635855...  \n",
       "9   [{'reaction_count': 8, 'node': {'id': '1635855...  \n",
       "10  [{'reaction_count': 3, 'node': {'id': '1635855...  \n",
       "11  [{'reaction_count': 3, 'node': {'id': '1635855...  \n",
       "12  [{'reaction_count': 4, 'node': {'id': '1635855...  \n",
       "13  [{'reaction_count': 5, 'node': {'id': '1635855...  \n",
       "14  [{'reaction_count': 2, 'node': {'id': '1635855...  \n",
       "15  [{'reaction_count': 5, 'node': {'id': '1635855...  \n",
       "16  [{'reaction_count': 3, 'node': {'id': '1635855...  \n",
       "17  [{'reaction_count': 3, 'node': {'id': '1635855...  \n",
       "18  [{'reaction_count': 2, 'node': {'id': '1635855...  \n",
       "19  [{'reaction_count': 3, 'node': {'id': '1635855...  \n",
       "20  [{'reaction_count': 15, 'node': {'id': '163585...  \n",
       "21  [{'reaction_count': 4, 'node': {'id': '1635855...  \n",
       "22  [{'reaction_count': 4, 'node': {'id': '1635855...  \n",
       "23  [{'reaction_count': 6, 'node': {'id': '1635855...  \n",
       "24  [{'reaction_count': 16, 'node': {'id': '163585...  \n",
       "25  [{'reaction_count': 3, 'node': {'id': '1635855...  \n",
       "26  [{'reaction_count': 2, 'node': {'id': '1635855...  \n",
       "27  [{'reaction_count': 16, 'node': {'id': '163585...  \n",
       "28  [{'reaction_count': 6, 'node': {'id': '1635855...  \n",
       "29  [{'reaction_count': 38, 'node': {'id': '163585...  \n",
       "30  [{'reaction_count': 1, 'node': {'id': '1635855...  \n",
       "31  [{'reaction_count': 2, 'node': {'id': '1635855...  \n",
       "32  [{'reaction_count': 21, 'node': {'id': '163585...  \n",
       "33  [{'reaction_count': 3, 'node': {'id': '1635855...  \n",
       "34  [{'reaction_count': 4, 'node': {'id': '1635855...  \n",
       "35  [{'reaction_count': 11, 'node': {'id': '163585...  \n",
       "36  [{'reaction_count': 6, 'node': {'id': '1635855...  \n",
       "37  [{'reaction_count': 6, 'node': {'id': '1635855...  \n",
       "38  [{'reaction_count': 3, 'node': {'id': '1635855...  \n",
       "39  [{'reaction_count': 4, 'node': {'id': '1635855...  \n",
       "40  [{'reaction_count': 15, 'node': {'id': '163585...  \n",
       "41  [{'reaction_count': 7, 'node': {'id': '1635855...  \n",
       "42  [{'reaction_count': 4, 'node': {'id': '1635855...  \n",
       "43  [{'reaction_count': 7, 'node': {'id': '1635855...  \n",
       "44  [{'reaction_count': 9, 'node': {'id': '1635855...  \n",
       "45  [{'reaction_count': 3, 'node': {'id': '1635855...  \n",
       "46  [{'reaction_count': 6, 'node': {'id': '1635855...  \n",
       "47  [{'reaction_count': 5, 'node': {'id': '1635855...  \n",
       "48  [{'reaction_count': 6, 'node': {'id': '1635855...  \n",
       "49  [{'reaction_count': 5, 'node': {'id': '1635855...  \n",
       "50  [{'reaction_count': 5, 'node': {'id': '1635855...  \n",
       "51  [{'reaction_count': 4, 'node': {'id': '1635855...  \n",
       "52  [{'reaction_count': 3, 'node': {'id': '1635855...  \n",
       "53  [{'reaction_count': 4, 'node': {'id': '1635855...  \n",
       "54  [{'reaction_count': 2, 'node': {'id': '1635855...  \n",
       "55  [{'reaction_count': 14, 'node': {'id': '163585...  \n",
       "56  [{'reaction_count': 4, 'node': {'id': '1635855...  \n",
       "57  [{'reaction_count': 1, 'node': {'id': '1635855...  \n",
       "58  [{'reaction_count': 3, 'node': {'id': '1635855...  \n",
       "59  [{'reaction_count': 21, 'node': {'id': '163585...  "
      ]
     },
     "execution_count": 49,
     "metadata": {},
     "output_type": "execute_result"
    }
   ],
   "source": [
    "df = pd.DataFrame(contents,\n",
    "                  columns = ['name', 'creation_time', 'message', 'postid', 'pageid', 'comment_count', 'reaction_count', 'share_count', 'toplevel_comment_count', 'url', 'top_reactions'])\n",
    "df['creation_time'] =  df['creation_time'].apply(lambda x: datetime.datetime.fromtimestamp(int(x)).strftime(\"%Y-%m-%d %H:%M:%S\"))\n",
    "df"
   ]
  },
  {
   "cell_type": "markdown",
   "id": "0375060b-28c7-44cf-94a7-5f30c5199802",
   "metadata": {
    "execution": {
     "iopub.execute_input": "2022-04-09T13:29:29.227860Z",
     "iopub.status.busy": "2022-04-09T13:29:29.227519Z",
     "iopub.status.idle": "2022-04-09T13:29:29.249604Z",
     "shell.execute_reply": "2022-04-09T13:29:29.248785Z",
     "shell.execute_reply.started": "2022-04-09T13:29:29.227841Z"
    }
   },
   "source": [
    "### 挑戰題1\n",
    "- 如何加載更多資料?\n",
    "- 如何將程式改成直到某個時間點才停止?\n",
    "- 提示: 每次 request 都有3篇貼文，貼文中都有記錄時間"
   ]
  },
  {
   "cell_type": "code",
   "execution_count": null,
   "id": "1e147498-8c8b-4b94-ab4d-7f2560e8ba8c",
   "metadata": {},
   "outputs": [],
   "source": []
  },
  {
   "cell_type": "markdown",
   "id": "7e0416c8-1cce-4e5a-86be-eb2da92e970b",
   "metadata": {},
   "source": [
    "### 挑戰題2\n",
    "- Reaction中有各種互動表情，如何從該欄位中萃取LIKE、WOW、SAD...等等情緒?"
   ]
  },
  {
   "cell_type": "code",
   "execution_count": 32,
   "id": "05ecc573",
   "metadata": {
    "execution": {
     "iopub.execute_input": "2022-03-29T04:32:23.369386Z",
     "iopub.status.busy": "2022-03-29T04:32:23.369028Z",
     "iopub.status.idle": "2022-03-29T04:32:23.399086Z",
     "shell.execute_reply": "2022-03-29T04:32:23.398283Z",
     "shell.execute_reply.started": "2022-03-29T04:32:23.369358Z"
    }
   },
   "outputs": [
    {
     "data": {
      "text/plain": [
       "[{'reaction_count': 3577,\n",
       "  'node': {'id': '1635855486666999', 'localized_name': '讚'},\n",
       "  'i18n_reaction_count': '3,577'},\n",
       " {'reaction_count': 38,\n",
       "  'node': {'id': '478547315650144', 'localized_name': '哇'},\n",
       "  'i18n_reaction_count': '38'},\n",
       " {'reaction_count': 29,\n",
       "  'node': {'id': '115940658764963', 'localized_name': '哈'},\n",
       "  'i18n_reaction_count': '29'},\n",
       " {'reaction_count': 21,\n",
       "  'node': {'id': '1678524932434102', 'localized_name': '大心'},\n",
       "  'i18n_reaction_count': '21'},\n",
       " {'reaction_count': 6,\n",
       "  'node': {'id': '613557422527858', 'localized_name': '加油'},\n",
       "  'i18n_reaction_count': '6'},\n",
       " {'reaction_count': 3,\n",
       "  'node': {'id': '908563459236466', 'localized_name': '嗚'},\n",
       "  'i18n_reaction_count': '3'}]"
      ]
     },
     "execution_count": 32,
     "metadata": {},
     "output_type": "execute_result"
    }
   ],
   "source": []
  },
  {
   "cell_type": "markdown",
   "id": "aaf93042-7bfe-4993-9b16-1b07ee88a538",
   "metadata": {},
   "source": [
    "### 挑戰題3\n",
    "- 如何開發一個 function，讓使用者透過 url 回傳 pageid"
   ]
  },
  {
   "cell_type": "code",
   "execution_count": null,
   "id": "80b23270-071f-4e7c-ab9c-f60ec9a4d35a",
   "metadata": {},
   "outputs": [],
   "source": []
  },
  {
   "cell_type": "markdown",
   "id": "5bc1444d-11fc-4ab2-ac1a-472c373430f8",
   "metadata": {},
   "source": [
    "### 挑戰題4\n",
    "- doc_id並非固定不動，如何找到 docid?"
   ]
  },
  {
   "cell_type": "code",
   "execution_count": null,
   "id": "ff0f60a8-03f9-49e1-8306-45b068220d50",
   "metadata": {},
   "outputs": [],
   "source": []
  },
  {
   "cell_type": "markdown",
   "id": "7e4d7071-3a47-4843-9d2e-4f978754ef95",
   "metadata": {
    "tags": []
   },
   "source": [
    "## 套件\n",
    "- 如果以上聽不懂沒關係，我有寫好一個套件可以直接使用~"
   ]
  },
  {
   "cell_type": "code",
   "execution_count": 3,
   "id": "cd0cf0db-af34-4c5d-8e18-6084382bd2c3",
   "metadata": {
    "execution": {
     "iopub.execute_input": "2022-03-30T01:36:58.062354Z",
     "iopub.status.busy": "2022-03-30T01:36:58.061565Z",
     "iopub.status.idle": "2022-03-30T01:36:58.065966Z",
     "shell.execute_reply": "2022-03-30T01:36:58.065091Z",
     "shell.execute_reply.started": "2022-03-30T01:36:58.062329Z"
    },
    "tags": []
   },
   "outputs": [],
   "source": [
    "import facebook_crawler\n",
    "pageurl = 'https://www.facebook.com/anuetw/'\n",
    "df = facebook_crawler.Crawl_PagePosts(pageurl = pageurl, until_date='2022-03-01')\n",
    "df"
   ]
  }
 ],
 "metadata": {
  "kernelspec": {
   "display_name": "Python 3 (ipykernel)",
   "language": "python",
   "name": "python3"
  },
  "language_info": {
   "codemirror_mode": {
    "name": "ipython",
    "version": 3
   },
   "file_extension": ".py",
   "mimetype": "text/x-python",
   "name": "python",
   "nbconvert_exporter": "python",
   "pygments_lexer": "ipython3",
   "version": "3.8.10"
  }
 },
 "nbformat": 4,
 "nbformat_minor": 5
}
