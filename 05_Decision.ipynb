{
 "cells": [
  {
   "cell_type": "markdown",
   "id": "a1204666-5465-48f5-83e2-9f3a8acd9f10",
   "metadata": {},
   "source": [
    "# PORTFOLIO MANAGEMENT"
   ]
  },
  {
   "cell_type": "markdown",
   "id": "79e16fa1-eda0-4a14-bc7d-30f48c34d87b",
   "metadata": {},
   "source": [
    "## 決策點?\n",
    "- Pre-computation\n",
    "  - We maintain a running average and standard deviation of actual adjusted stock values of previous k days\n",
    "- Buy Decision\n",
    "  - If the predicted stock value for the next day is n stan\u0002dard deviations less than the mean, we buy the stock else we wait.\n",
    "- Sell Decision\n",
    "  - If the predicted stock value is m standard deviations more than the actual adjusted value at buy time, we sell the stock else we hold."
   ]
  },
  {
   "cell_type": "code",
   "execution_count": 1,
   "id": "0f1cc225-f2cb-4a74-89e2-0890bf0811fd",
   "metadata": {
    "execution": {
     "iopub.execute_input": "2022-04-18T10:58:06.466133Z",
     "iopub.status.busy": "2022-04-18T10:58:06.465491Z",
     "iopub.status.idle": "2022-04-18T10:58:06.469285Z",
     "shell.execute_reply": "2022-04-18T10:58:06.468568Z",
     "shell.execute_reply.started": "2022-04-18T10:58:06.466048Z"
    }
   },
   "outputs": [],
   "source": [
    "# 起始，結束點的價格\n",
    "# 透過情感分析的決策結果"
   ]
  },
  {
   "cell_type": "markdown",
   "id": "592b08d7-7eb7-47e4-a455-32c08865608b",
   "metadata": {},
   "source": [
    "## 細緻化\n",
    "- 如果要細緻到個股，怎麼處理?"
   ]
  },
  {
   "cell_type": "markdown",
   "id": "47262e7e-314c-493e-a1d9-f3e8ffc22534",
   "metadata": {},
   "source": [
    "## 優化方向\n",
    "- 收集更多來源的資料(如新聞\n",
    "- 訓練更精準的情感分類模型\n",
    "- "
   ]
  },
  {
   "cell_type": "code",
   "execution_count": 1,
   "id": "52a8369c-38f8-456a-9d66-c0ebc0f4426f",
   "metadata": {
    "execution": {
     "iopub.execute_input": "2022-04-09T05:07:14.553400Z",
     "iopub.status.busy": "2022-04-09T05:07:14.552939Z",
     "iopub.status.idle": "2022-04-09T05:07:14.556214Z",
     "shell.execute_reply": "2022-04-09T05:07:14.555535Z",
     "shell.execute_reply.started": "2022-04-09T05:07:14.553348Z"
    }
   },
   "outputs": [],
   "source": [
    "# 如何找到"
   ]
  },
  {
   "cell_type": "code",
   "execution_count": 3,
   "id": "d12ac8a0-0749-4397-81ed-5860557e2157",
   "metadata": {
    "execution": {
     "iopub.execute_input": "2022-04-09T05:39:00.969858Z",
     "iopub.status.busy": "2022-04-09T05:39:00.969611Z",
     "iopub.status.idle": "2022-04-09T05:39:00.972656Z",
     "shell.execute_reply": "2022-04-09T05:39:00.971723Z",
     "shell.execute_reply.started": "2022-04-09T05:39:00.969844Z"
    },
    "tags": []
   },
   "outputs": [],
   "source": [
    "# how to imporve the valiation?"
   ]
  },
  {
   "cell_type": "code",
   "execution_count": null,
   "id": "f4c5db6a-26a6-4733-99bc-5f1097862362",
   "metadata": {},
   "outputs": [],
   "source": []
  }
 ],
 "metadata": {
  "kernelspec": {
   "display_name": "Python 3 (ipykernel)",
   "language": "python",
   "name": "python3"
  },
  "language_info": {
   "codemirror_mode": {
    "name": "ipython",
    "version": 3
   },
   "file_extension": ".py",
   "mimetype": "text/x-python",
   "name": "python",
   "nbconvert_exporter": "python",
   "pygments_lexer": "ipython3",
   "version": "3.8.10"
  }
 },
 "nbformat": 4,
 "nbformat_minor": 5
}
