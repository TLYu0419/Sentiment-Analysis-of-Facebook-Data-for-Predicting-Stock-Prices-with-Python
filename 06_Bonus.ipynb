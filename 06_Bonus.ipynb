{
 "cells": [
  {
   "cell_type": "markdown",
   "id": "b997ebe9-2eb0-4c54-8cd5-9ae0a9a0ce7f",
   "metadata": {
    "execution": {
     "iopub.execute_input": "2022-04-09T05:07:29.821460Z",
     "iopub.status.busy": "2022-04-09T05:07:29.820696Z",
     "iopub.status.idle": "2022-04-09T05:07:29.825816Z",
     "shell.execute_reply": "2022-04-09T05:07:29.824853Z",
     "shell.execute_reply.started": "2022-04-09T05:07:29.821380Z"
    }
   },
   "source": [
    "# How to get Comments"
   ]
  },
  {
   "cell_type": "code",
   "execution_count": 3,
   "id": "0b0b9518-08ee-41f6-bdd3-ca2f614189ae",
   "metadata": {
    "execution": {
     "iopub.execute_input": "2022-04-18T05:26:29.035773Z",
     "iopub.status.busy": "2022-04-18T05:26:29.035327Z",
     "iopub.status.idle": "2022-04-18T05:26:29.340494Z",
     "shell.execute_reply": "2022-04-18T05:26:29.339943Z",
     "shell.execute_reply.started": "2022-04-18T05:26:29.035753Z"
    }
   },
   "outputs": [],
   "source": [
    "import pandas as pd"
   ]
  },
  {
   "cell_type": "code",
   "execution_count": 4,
   "id": "94f4f217-919d-43d9-8a6a-cfc49bbf6975",
   "metadata": {
    "execution": {
     "iopub.execute_input": "2022-04-18T05:26:30.253488Z",
     "iopub.status.busy": "2022-04-18T05:26:30.253146Z",
     "iopub.status.idle": "2022-04-18T05:26:30.262340Z",
     "shell.execute_reply": "2022-04-18T05:26:30.261547Z",
     "shell.execute_reply.started": "2022-04-18T05:26:30.253467Z"
    },
    "tags": []
   },
   "outputs": [],
   "source": [
    "def Get_Comments(PostID):\n",
    "    df = []\n",
    "    break_times = 0\n",
    "    fail_cnt = 1\n",
    "    offset=0\n",
    "    url = 'https://www.facebook.com/ajax/ufi/comment_fetch.php'\n",
    "    while fail_cnt <= 30:\n",
    "        try:\n",
    "            params = {'ft_ent_identifier': PostID,\n",
    "                      'offset': offset,\n",
    "                      'length': 50,\n",
    "                      '__a': 1}\n",
    "            resp = requests.get(url, params=params)\n",
    "            data = json.loads(re.sub(r'for \\(;;\\);','',resp.text))\n",
    "            id2name=pd.DataFrame(pd.DataFrame(data['jsmods']['require'])[3][0][1]['profiles']).loc[['name','gender'],:].T.reset_index()\n",
    "            id2name.columns = ['AUTHOR', 'NAME','GENDER']\n",
    "            replies = pd.DataFrame(pd.DataFrame(data['jsmods']['require'])[3][0][1]['commentlists']['replies']).loc['count',:].reset_index()\n",
    "            replies['index'] = replies['index'].apply(lambda x: x.split('_', -1)[1])\n",
    "            replies.columns = ['COMMENTID', 'REPLIES']\n",
    "\n",
    "            df2 = []\n",
    "            for i in pd.DataFrame(data['jsmods']['require'])[3][0][1]['comments']:\n",
    "                ndf = pd.DataFrame(data = [{'TYPENAME':i['__typename'],\n",
    "                                            'AUTHOR':i['author'],\n",
    "                                            'TEXT':i['body']['text'],\n",
    "                                            'POSTID': re.findall('[0-9]{1,}', i['id'])[0],\n",
    "                                            'COMMENTID': re.findall('[0-9]{1,}', i['id'])[1],\n",
    "                                            'PARENTCOMMENTAUTHORID': i['parentcommentauthorid'],\n",
    "                                            'PARENTCOMMENTID': i['parentcommentid'],\n",
    "                                            'LIKECOUNT': i['likecount'],\n",
    "                                            'TIME':datetime.datetime.fromtimestamp(int(i['timestamp']['time'])).strftime(\"%Y-%m-%d %H:%M\"),\n",
    "                                            'UPDATETIME':datetime.datetime.now().strftime(\"%Y-%m-%d %H:%M\")}],\n",
    "                                   columns=['AUTHOR', 'TIME' ,'TEXT','TYPENAME','COMMENTID','PARENTCOMMENTAUTHORID', 'PARENTCOMMENTID', 'LIKECOUNT', 'POSTID', 'UPDATETIME'])\n",
    "                df2.append(ndf)\n",
    "            # 合併資料\n",
    "            df2 = pd.concat(df2, ignore_index=True)\n",
    "            df2 = pd.merge(df2, id2name,  how='left', on='AUTHOR')\n",
    "            df2 = pd.merge(df2, replies,  how='left', on='COMMENTID')\n",
    "            df.append(df2)\n",
    "            break_times = 0\n",
    "            fail_cnt = 0\n",
    "            \n",
    "        except:\n",
    "            fail_cnt += 1\n",
    "\n",
    "        offset += 50\n",
    "    # 完成後更新\n",
    "    df = pd.concat(df,ignore_index=True)\n",
    "    df = df.loc[:,['NAME', 'AUTHOR', 'TIME', 'TEXT', 'REPLIES', 'LIKECOUNT', 'POSTID', 'COMMENTID', 'PARENTCOMMENTAUTHORID', 'PARENTCOMMENTID', 'GENDER', 'TYPENAME', 'UPDATETIME']]\n",
    "    print(df.shape)\n",
    "    return df"
   ]
  },
  {
   "cell_type": "code",
   "execution_count": 5,
   "id": "c73a8788-d5b7-48f3-a787-1e020efe6749",
   "metadata": {
    "execution": {
     "iopub.execute_input": "2022-04-18T05:26:30.761736Z",
     "iopub.status.busy": "2022-04-18T05:26:30.761430Z",
     "iopub.status.idle": "2022-04-18T05:26:30.911876Z",
     "shell.execute_reply": "2022-04-18T05:26:30.911093Z",
     "shell.execute_reply.started": "2022-04-18T05:26:30.761720Z"
    },
    "tags": []
   },
   "outputs": [
    {
     "ename": "ValueError",
     "evalue": "No objects to concatenate",
     "output_type": "error",
     "traceback": [
      "\u001b[0;31m---------------------------------------------------------------------------\u001b[0m",
      "\u001b[0;31mValueError\u001b[0m                                Traceback (most recent call last)",
      "Input \u001b[0;32mIn [5]\u001b[0m, in \u001b[0;36m<module>\u001b[0;34m\u001b[0m\n\u001b[1;32m      1\u001b[0m \u001b[38;5;66;03m# %%time\u001b[39;00m\n\u001b[0;32m----> 2\u001b[0m df \u001b[38;5;241m=\u001b[39m \u001b[43mGet_Comments\u001b[49m\u001b[43m(\u001b[49m\u001b[38;5;124;43m'\u001b[39;49m\u001b[38;5;124;43m160361789041991\u001b[39;49m\u001b[38;5;124;43m'\u001b[39;49m\u001b[43m)\u001b[49m\n\u001b[1;32m      3\u001b[0m df\n",
      "Input \u001b[0;32mIn [4]\u001b[0m, in \u001b[0;36mGet_Comments\u001b[0;34m(PostID)\u001b[0m\n\u001b[1;32m     46\u001b[0m     offset \u001b[38;5;241m+\u001b[39m\u001b[38;5;241m=\u001b[39m \u001b[38;5;241m50\u001b[39m\n\u001b[1;32m     47\u001b[0m \u001b[38;5;66;03m# 完成後更新\u001b[39;00m\n\u001b[0;32m---> 48\u001b[0m df \u001b[38;5;241m=\u001b[39m \u001b[43mpd\u001b[49m\u001b[38;5;241;43m.\u001b[39;49m\u001b[43mconcat\u001b[49m\u001b[43m(\u001b[49m\u001b[43mdf\u001b[49m\u001b[43m,\u001b[49m\u001b[43mignore_index\u001b[49m\u001b[38;5;241;43m=\u001b[39;49m\u001b[38;5;28;43;01mTrue\u001b[39;49;00m\u001b[43m)\u001b[49m\n\u001b[1;32m     49\u001b[0m df \u001b[38;5;241m=\u001b[39m df\u001b[38;5;241m.\u001b[39mloc[:,[\u001b[38;5;124m'\u001b[39m\u001b[38;5;124mNAME\u001b[39m\u001b[38;5;124m'\u001b[39m, \u001b[38;5;124m'\u001b[39m\u001b[38;5;124mAUTHOR\u001b[39m\u001b[38;5;124m'\u001b[39m, \u001b[38;5;124m'\u001b[39m\u001b[38;5;124mTIME\u001b[39m\u001b[38;5;124m'\u001b[39m, \u001b[38;5;124m'\u001b[39m\u001b[38;5;124mTEXT\u001b[39m\u001b[38;5;124m'\u001b[39m, \u001b[38;5;124m'\u001b[39m\u001b[38;5;124mREPLIES\u001b[39m\u001b[38;5;124m'\u001b[39m, \u001b[38;5;124m'\u001b[39m\u001b[38;5;124mLIKECOUNT\u001b[39m\u001b[38;5;124m'\u001b[39m, \u001b[38;5;124m'\u001b[39m\u001b[38;5;124mPOSTID\u001b[39m\u001b[38;5;124m'\u001b[39m, \u001b[38;5;124m'\u001b[39m\u001b[38;5;124mCOMMENTID\u001b[39m\u001b[38;5;124m'\u001b[39m, \u001b[38;5;124m'\u001b[39m\u001b[38;5;124mPARENTCOMMENTAUTHORID\u001b[39m\u001b[38;5;124m'\u001b[39m, \u001b[38;5;124m'\u001b[39m\u001b[38;5;124mPARENTCOMMENTID\u001b[39m\u001b[38;5;124m'\u001b[39m, \u001b[38;5;124m'\u001b[39m\u001b[38;5;124mGENDER\u001b[39m\u001b[38;5;124m'\u001b[39m, \u001b[38;5;124m'\u001b[39m\u001b[38;5;124mTYPENAME\u001b[39m\u001b[38;5;124m'\u001b[39m, \u001b[38;5;124m'\u001b[39m\u001b[38;5;124mUPDATETIME\u001b[39m\u001b[38;5;124m'\u001b[39m]]\n\u001b[1;32m     50\u001b[0m \u001b[38;5;28mprint\u001b[39m(df\u001b[38;5;241m.\u001b[39mshape)\n",
      "File \u001b[0;32m~/pyenvs/venv/lib/python3.8/site-packages/pandas/util/_decorators.py:311\u001b[0m, in \u001b[0;36mdeprecate_nonkeyword_arguments.<locals>.decorate.<locals>.wrapper\u001b[0;34m(*args, **kwargs)\u001b[0m\n\u001b[1;32m    305\u001b[0m \u001b[38;5;28;01mif\u001b[39;00m \u001b[38;5;28mlen\u001b[39m(args) \u001b[38;5;241m>\u001b[39m num_allow_args:\n\u001b[1;32m    306\u001b[0m     warnings\u001b[38;5;241m.\u001b[39mwarn(\n\u001b[1;32m    307\u001b[0m         msg\u001b[38;5;241m.\u001b[39mformat(arguments\u001b[38;5;241m=\u001b[39marguments),\n\u001b[1;32m    308\u001b[0m         \u001b[38;5;167;01mFutureWarning\u001b[39;00m,\n\u001b[1;32m    309\u001b[0m         stacklevel\u001b[38;5;241m=\u001b[39mstacklevel,\n\u001b[1;32m    310\u001b[0m     )\n\u001b[0;32m--> 311\u001b[0m \u001b[38;5;28;01mreturn\u001b[39;00m \u001b[43mfunc\u001b[49m\u001b[43m(\u001b[49m\u001b[38;5;241;43m*\u001b[39;49m\u001b[43margs\u001b[49m\u001b[43m,\u001b[49m\u001b[43m \u001b[49m\u001b[38;5;241;43m*\u001b[39;49m\u001b[38;5;241;43m*\u001b[39;49m\u001b[43mkwargs\u001b[49m\u001b[43m)\u001b[49m\n",
      "File \u001b[0;32m~/pyenvs/venv/lib/python3.8/site-packages/pandas/core/reshape/concat.py:346\u001b[0m, in \u001b[0;36mconcat\u001b[0;34m(objs, axis, join, ignore_index, keys, levels, names, verify_integrity, sort, copy)\u001b[0m\n\u001b[1;32m    142\u001b[0m \u001b[38;5;129m@deprecate_nonkeyword_arguments\u001b[39m(version\u001b[38;5;241m=\u001b[39m\u001b[38;5;28;01mNone\u001b[39;00m, allowed_args\u001b[38;5;241m=\u001b[39m[\u001b[38;5;124m\"\u001b[39m\u001b[38;5;124mobjs\u001b[39m\u001b[38;5;124m\"\u001b[39m])\n\u001b[1;32m    143\u001b[0m \u001b[38;5;28;01mdef\u001b[39;00m \u001b[38;5;21mconcat\u001b[39m(\n\u001b[1;32m    144\u001b[0m     objs: Iterable[NDFrame] \u001b[38;5;241m|\u001b[39m Mapping[Hashable, NDFrame],\n\u001b[0;32m   (...)\u001b[0m\n\u001b[1;32m    153\u001b[0m     copy: \u001b[38;5;28mbool\u001b[39m \u001b[38;5;241m=\u001b[39m \u001b[38;5;28;01mTrue\u001b[39;00m,\n\u001b[1;32m    154\u001b[0m ) \u001b[38;5;241m-\u001b[39m\u001b[38;5;241m>\u001b[39m DataFrame \u001b[38;5;241m|\u001b[39m Series:\n\u001b[1;32m    155\u001b[0m     \u001b[38;5;124;03m\"\"\"\u001b[39;00m\n\u001b[1;32m    156\u001b[0m \u001b[38;5;124;03m    Concatenate pandas objects along a particular axis with optional set logic\u001b[39;00m\n\u001b[1;32m    157\u001b[0m \u001b[38;5;124;03m    along the other axes.\u001b[39;00m\n\u001b[0;32m   (...)\u001b[0m\n\u001b[1;32m    344\u001b[0m \u001b[38;5;124;03m    ValueError: Indexes have overlapping values: ['a']\u001b[39;00m\n\u001b[1;32m    345\u001b[0m \u001b[38;5;124;03m    \"\"\"\u001b[39;00m\n\u001b[0;32m--> 346\u001b[0m     op \u001b[38;5;241m=\u001b[39m \u001b[43m_Concatenator\u001b[49m\u001b[43m(\u001b[49m\n\u001b[1;32m    347\u001b[0m \u001b[43m        \u001b[49m\u001b[43mobjs\u001b[49m\u001b[43m,\u001b[49m\n\u001b[1;32m    348\u001b[0m \u001b[43m        \u001b[49m\u001b[43maxis\u001b[49m\u001b[38;5;241;43m=\u001b[39;49m\u001b[43maxis\u001b[49m\u001b[43m,\u001b[49m\n\u001b[1;32m    349\u001b[0m \u001b[43m        \u001b[49m\u001b[43mignore_index\u001b[49m\u001b[38;5;241;43m=\u001b[39;49m\u001b[43mignore_index\u001b[49m\u001b[43m,\u001b[49m\n\u001b[1;32m    350\u001b[0m \u001b[43m        \u001b[49m\u001b[43mjoin\u001b[49m\u001b[38;5;241;43m=\u001b[39;49m\u001b[43mjoin\u001b[49m\u001b[43m,\u001b[49m\n\u001b[1;32m    351\u001b[0m \u001b[43m        \u001b[49m\u001b[43mkeys\u001b[49m\u001b[38;5;241;43m=\u001b[39;49m\u001b[43mkeys\u001b[49m\u001b[43m,\u001b[49m\n\u001b[1;32m    352\u001b[0m \u001b[43m        \u001b[49m\u001b[43mlevels\u001b[49m\u001b[38;5;241;43m=\u001b[39;49m\u001b[43mlevels\u001b[49m\u001b[43m,\u001b[49m\n\u001b[1;32m    353\u001b[0m \u001b[43m        \u001b[49m\u001b[43mnames\u001b[49m\u001b[38;5;241;43m=\u001b[39;49m\u001b[43mnames\u001b[49m\u001b[43m,\u001b[49m\n\u001b[1;32m    354\u001b[0m \u001b[43m        \u001b[49m\u001b[43mverify_integrity\u001b[49m\u001b[38;5;241;43m=\u001b[39;49m\u001b[43mverify_integrity\u001b[49m\u001b[43m,\u001b[49m\n\u001b[1;32m    355\u001b[0m \u001b[43m        \u001b[49m\u001b[43mcopy\u001b[49m\u001b[38;5;241;43m=\u001b[39;49m\u001b[43mcopy\u001b[49m\u001b[43m,\u001b[49m\n\u001b[1;32m    356\u001b[0m \u001b[43m        \u001b[49m\u001b[43msort\u001b[49m\u001b[38;5;241;43m=\u001b[39;49m\u001b[43msort\u001b[49m\u001b[43m,\u001b[49m\n\u001b[1;32m    357\u001b[0m \u001b[43m    \u001b[49m\u001b[43m)\u001b[49m\n\u001b[1;32m    359\u001b[0m     \u001b[38;5;28;01mreturn\u001b[39;00m op\u001b[38;5;241m.\u001b[39mget_result()\n",
      "File \u001b[0;32m~/pyenvs/venv/lib/python3.8/site-packages/pandas/core/reshape/concat.py:403\u001b[0m, in \u001b[0;36m_Concatenator.__init__\u001b[0;34m(self, objs, axis, join, keys, levels, names, ignore_index, verify_integrity, copy, sort)\u001b[0m\n\u001b[1;32m    400\u001b[0m     objs \u001b[38;5;241m=\u001b[39m \u001b[38;5;28mlist\u001b[39m(objs)\n\u001b[1;32m    402\u001b[0m \u001b[38;5;28;01mif\u001b[39;00m \u001b[38;5;28mlen\u001b[39m(objs) \u001b[38;5;241m==\u001b[39m \u001b[38;5;241m0\u001b[39m:\n\u001b[0;32m--> 403\u001b[0m     \u001b[38;5;28;01mraise\u001b[39;00m \u001b[38;5;167;01mValueError\u001b[39;00m(\u001b[38;5;124m\"\u001b[39m\u001b[38;5;124mNo objects to concatenate\u001b[39m\u001b[38;5;124m\"\u001b[39m)\n\u001b[1;32m    405\u001b[0m \u001b[38;5;28;01mif\u001b[39;00m keys \u001b[38;5;129;01mis\u001b[39;00m \u001b[38;5;28;01mNone\u001b[39;00m:\n\u001b[1;32m    406\u001b[0m     objs \u001b[38;5;241m=\u001b[39m \u001b[38;5;28mlist\u001b[39m(com\u001b[38;5;241m.\u001b[39mnot_none(\u001b[38;5;241m*\u001b[39mobjs))\n",
      "\u001b[0;31mValueError\u001b[0m: No objects to concatenate"
     ]
    }
   ],
   "source": [
    "# %%time\n",
    "df = Get_Comments('160361789041991')\n",
    "df"
   ]
  },
  {
   "cell_type": "code",
   "execution_count": null,
   "id": "fd3127ca-c40a-4568-8080-591daba2f640",
   "metadata": {},
   "outputs": [],
   "source": [
    "url = 'https://www.facebook.com/api/graphql/'\n",
    "headers = {'accept-language': 'en',\n",
    "           'content-length': '2393',\n",
    "           'content-type': 'application/x-www-form-urlencoded',\n",
    "           'cookie': 'sb=GIJAYhYqNFMgnfrPOBOMrVTD; dpr=1.190000057220459; datr=a4JAYqZ-X0No1tC9N8Yt90_n; fr=0HWWm43K042LlVfPQ..BiQIIY.at.AAA.0.0.BiQIKC.AWWD5NBTIqY; wd=881x852',\n",
    "           'dnt': '1',\n",
    "           'origin': 'https://www.facebook.com',\n",
    "           'referer': 'https://www.facebook.com/BToday/',\n",
    "           'sec-ch-prefers-color-scheme': 'dark',\n",
    "           'sec-ch-ua': '\" Not A;Brand\";v=\"99\", \"Chromium\";v=\"99\", \"Microsoft Edge\";v=\"99\"',\n",
    "           'sec-ch-ua-mobile': '?0',\n",
    "           'sec-ch-ua-platform': \"Windows\",\n",
    "           'sec-fetch-dest': 'empty',\n",
    "           'sec-fetch-mode': 'cors',\n",
    "           'sec-fetch-site': 'same-origin',\n",
    "           'user-agent': 'Mozilla/5.0 (Windows NT 10.0; Win64; x64) AppleWebKit/537.36 (KHTML, like Gecko) Chrome/99.0.4844.74 Safari/537.36 Edg/99.0.1150.55',\n",
    "           'x-fb-friendly-name': 'CometUFICommentsProviderQuery'}\n",
    "data = {'av': '0',\n",
    "        '__user': '0',\n",
    "        '__a': '1',\n",
    "        '__dyn': '7xeUmwlEnwn8K2WnFw9-2i5U4e0yoW3q322aew9G2S0zU2lwUx60gu0luq1ew65xO0FE2awgolzUO0-E4a3aUS2G3i0Boy1PwBgao6C0Mo5W3S1lwlE-UqwsUkxe2Gew9O222SUbEaU2eUlDw-waCm7-8wSweK2S3qazo3iwPwbS16AzUjw',\n",
    "        '__csr': 'grNc8N-xif9HlGzli9ZIAzGAFqBK-GiSh2QFaqiGrGFUOZ5ykFWQqmiBybCBgWuqpeKlAKLtV-ibyWJUBeiqcyd1WWGewBxKF9UiyppQiayKu8Cx2l3UScF1mu8z8lUF5yo4u7awsGxe10wa27bw9q0rq2fySq9w5uw4yw2j80Hq5o1Uiw56zd120uF09Kq0n2fUeO05kzE2EwvE14UDy8y4uiE70K7UCUSZlxy8Lg1gmu1Cwfa1Sw13m6e0mu4rggsN80zm0Co1480v8w0Xiw3qEkCx21xK5E0mmw4MwuE1wovwdi3q0Y8bQ0O8WgyyGy9Ul83HWK11G4UCFbF27o2GnwDkHwBx2y0a6--h_cXz8Oh6-A5qAGZkzqg1LKV20LS1jjleq9Hbh-O4BAButvAFb-RJ5BUe9kaQjhVGwn40i-09nwYw5bVku0PF4fK12BwCwwAxq5825wFwgo6SdwJyUd8bEcEioeU1kU4W1yy18C2a2pdEM1hQdw8G2G0w88orwlUW4EqGu0HE2uCxy6BgeoO0Ie268wRwaO0YQ0hq681CU2nxHo4W1bwe20sGczkUrAUCAdxy740w86C1_Bl0fe0imm2t0vUpCw9O0IejBGtQ1ew42wyg2rK0xWBz5QA2NehmIxUmXG6U0EK1Tyo0I_wXwcpe1-w2D-bwLCwdV0ok8wCGOlqgVVExmil0aN0mo25wDoa9AdwlE1NV-Nw2Aw5sw8K0EFFVe0QaglwdS04EElnwHwj81pC',\n",
    "        '__req': 'v',\n",
    "        '__hs': '19078.HYP:comet_loggedout_pkg.2.0.0.0.',\n",
    "        'dpr': '1.5',\n",
    "        '__ccg': 'EXCELLENT',\n",
    "        '__rev': '1005252446',\n",
    "        '__s': 'ccit5s:x56tk6:tkfbk8',\n",
    "        '__hsi': '7079802625766252367-0',\n",
    "        '__comet_req': '1',\n",
    "        'lsd': 'AVrqrndyyI0',\n",
    "        'jazoest': '21065',\n",
    "        '__spin_r': '1005252446',\n",
    "        '__spin_b': 'trunk',\n",
    "        '__spin_t': '1648395002',\n",
    "        'fb_api_caller_class': 'RelayModern',\n",
    "        'fb_api_req_friendly_name': 'CometUFICommentsProviderQuery',\n",
    "        'variables': str({\"UFI2CommentsProvider_commentsKey\":\"CometSinglePageContentContainerFeedQuery\",\n",
    "                          \"__false\":false,\n",
    "                          \"__true\":true,\n",
    "                          \"after\":\"AQHRQvG8VVb_Ra8-s7lZO_OMhymo5sTm-CUUq9J7F8ApUlEgOHqnAiwYYWLxlZGn9FhEQeANLdqSl9aQWsNfcy55lQ\",\n",
    "                          \"before\":null,\n",
    "                          \"displayCommentsContextEnableComment\":null,\n",
    "                          \"displayCommentsContextIsAdPreview\":null,\n",
    "                          \"displayCommentsContextIsAggregatedShare\":null,\n",
    "                          \"displayCommentsContextIsStorySet\":null,\n",
    "                          \"displayCommentsFeedbackContext\":null,\n",
    "                          \"feedLocation\":\"PAGE_TIMELINE\",\n",
    "                          \"feedbackSource\":22,\n",
    "                          \"first\":44,\n",
    "                          \"focusCommentID\":null,\n",
    "                          \"includeHighlightedComments\":false,\n",
    "                          \"includeNestedComments\":true,\n",
    "                          \"initialViewOption\":\"RANKED_THREADED\",\n",
    "                          \"isInitialFetch\":false,\n",
    "                          \"isPaginating\":true,\n",
    "                          \"last\":null,\n",
    "                          \"scale\":1.5,\n",
    "                          \"topLevelViewOption\":null,\n",
    "                          \"useDefaultActor\":false,\n",
    "                          \"viewOption\":null,\n",
    "                          \"id\":\"ZmVlZGJhY2s6MTAxNTk5MTM1NTIzOTMyNzA=\"}'}\n",
    "                         "
   ]
  }
 ],
 "metadata": {
  "kernelspec": {
   "display_name": "Python 3 (ipykernel)",
   "language": "python",
   "name": "python3"
  },
  "language_info": {
   "codemirror_mode": {
    "name": "ipython",
    "version": 3
   },
   "file_extension": ".py",
   "mimetype": "text/x-python",
   "name": "python",
   "nbconvert_exporter": "python",
   "pygments_lexer": "ipython3",
   "version": "3.8.10"
  }
 },
 "nbformat": 4,
 "nbformat_minor": 5
}
