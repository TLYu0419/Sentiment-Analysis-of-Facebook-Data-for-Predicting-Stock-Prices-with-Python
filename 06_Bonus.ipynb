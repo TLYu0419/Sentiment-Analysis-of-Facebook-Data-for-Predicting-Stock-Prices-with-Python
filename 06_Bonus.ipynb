{
 "cells": [
  {
   "cell_type": "markdown",
   "id": "b997ebe9-2eb0-4c54-8cd5-9ae0a9a0ce7f",
   "metadata": {
    "execution": {
     "iopub.execute_input": "2022-04-09T05:07:29.821460Z",
     "iopub.status.busy": "2022-04-09T05:07:29.820696Z",
     "iopub.status.idle": "2022-04-09T05:07:29.825816Z",
     "shell.execute_reply": "2022-04-09T05:07:29.824853Z",
     "shell.execute_reply.started": "2022-04-09T05:07:29.821380Z"
    }
   },
   "source": [
    "# How to get Comments"
   ]
  },
  {
   "cell_type": "code",
   "execution_count": 3,
   "id": "0b0b9518-08ee-41f6-bdd3-ca2f614189ae",
   "metadata": {
    "execution": {
     "iopub.execute_input": "2022-04-18T05:26:29.035773Z",
     "iopub.status.busy": "2022-04-18T05:26:29.035327Z",
     "iopub.status.idle": "2022-04-18T05:26:29.340494Z",
     "shell.execute_reply": "2022-04-18T05:26:29.339943Z",
     "shell.execute_reply.started": "2022-04-18T05:26:29.035753Z"
    }
   },
   "outputs": [],
   "source": [
    "import pandas as pd"
   ]
  },
  {
   "cell_type": "markdown",
   "id": "e38bfa34-8f89-4677-ac32-ad6e7c1bcd68",
   "metadata": {},
   "source": [
    "## Try1"
   ]
  },
  {
   "cell_type": "code",
   "execution_count": 2,
   "id": "fd3127ca-c40a-4568-8080-591daba2f640",
   "metadata": {
    "execution": {
     "iopub.execute_input": "2022-04-19T17:07:11.400630Z",
     "iopub.status.busy": "2022-04-19T17:07:11.400401Z",
     "iopub.status.idle": "2022-04-19T17:07:11.404999Z",
     "shell.execute_reply": "2022-04-19T17:07:11.404194Z",
     "shell.execute_reply.started": "2022-04-19T17:07:11.400613Z"
    },
    "tags": []
   },
   "outputs": [],
   "source": [
    "# url = 'https://www.facebook.com/api/graphql/'\n",
    "# headers = {'accept-language': 'en',\n",
    "#            'content-length': '2393',\n",
    "#            'content-type': 'application/x-www-form-urlencoded',\n",
    "#            'cookie': 'sb=GIJAYhYqNFMgnfrPOBOMrVTD; dpr=1.190000057220459; datr=a4JAYqZ-X0No1tC9N8Yt90_n; fr=0HWWm43K042LlVfPQ..BiQIIY.at.AAA.0.0.BiQIKC.AWWD5NBTIqY; wd=881x852',\n",
    "#            'dnt': '1',\n",
    "#            'origin': 'https://www.facebook.com',\n",
    "#            'referer': 'https://www.facebook.com/BToday/',\n",
    "#            'sec-ch-prefers-color-scheme': 'dark',\n",
    "#            'sec-ch-ua': '\" Not A;Brand\";v=\"99\", \"Chromium\";v=\"99\", \"Microsoft Edge\";v=\"99\"',\n",
    "#            'sec-ch-ua-mobile': '?0',\n",
    "#            'sec-ch-ua-platform': \"Windows\",\n",
    "#            'sec-fetch-dest': 'empty',\n",
    "#            'sec-fetch-mode': 'cors',\n",
    "#            'sec-fetch-site': 'same-origin',\n",
    "#            'user-agent': 'Mozilla/5.0 (Windows NT 10.0; Win64; x64) AppleWebKit/537.36 (KHTML, like Gecko) Chrome/99.0.4844.74 Safari/537.36 Edg/99.0.1150.55',\n",
    "#            'x-fb-friendly-name': 'CometUFICommentsProviderQuery'}\n",
    "# data = {'av': '0',\n",
    "#         '__user': '0',\n",
    "#         '__a': '1',\n",
    "#         '__dyn': '7xeUmwlEnwn8K2WnFw9-2i5U4e0yoW3q322aew9G2S0zU2lwUx60gu0luq1ew65xO0FE2awgolzUO0-E4a3aUS2G3i0Boy1PwBgao6C0Mo5W3S1lwlE-UqwsUkxe2Gew9O222SUbEaU2eUlDw-waCm7-8wSweK2S3qazo3iwPwbS16AzUjw',\n",
    "#         '__csr': 'grNc8N-xif9HlGzli9ZIAzGAFqBK-GiSh2QFaqiGrGFUOZ5ykFWQqmiBybCBgWuqpeKlAKLtV-ibyWJUBeiqcyd1WWGewBxKF9UiyppQiayKu8Cx2l3UScF1mu8z8lUF5yo4u7awsGxe10wa27bw9q0rq2fySq9w5uw4yw2j80Hq5o1Uiw56zd120uF09Kq0n2fUeO05kzE2EwvE14UDy8y4uiE70K7UCUSZlxy8Lg1gmu1Cwfa1Sw13m6e0mu4rggsN80zm0Co1480v8w0Xiw3qEkCx21xK5E0mmw4MwuE1wovwdi3q0Y8bQ0O8WgyyGy9Ul83HWK11G4UCFbF27o2GnwDkHwBx2y0a6--h_cXz8Oh6-A5qAGZkzqg1LKV20LS1jjleq9Hbh-O4BAButvAFb-RJ5BUe9kaQjhVGwn40i-09nwYw5bVku0PF4fK12BwCwwAxq5825wFwgo6SdwJyUd8bEcEioeU1kU4W1yy18C2a2pdEM1hQdw8G2G0w88orwlUW4EqGu0HE2uCxy6BgeoO0Ie268wRwaO0YQ0hq681CU2nxHo4W1bwe20sGczkUrAUCAdxy740w86C1_Bl0fe0imm2t0vUpCw9O0IejBGtQ1ew42wyg2rK0xWBz5QA2NehmIxUmXG6U0EK1Tyo0I_wXwcpe1-w2D-bwLCwdV0ok8wCGOlqgVVExmil0aN0mo25wDoa9AdwlE1NV-Nw2Aw5sw8K0EFFVe0QaglwdS04EElnwHwj81pC',\n",
    "#         '__req': 'v',\n",
    "#         '__hs': '19078.HYP:comet_loggedout_pkg.2.0.0.0.',\n",
    "#         'dpr': '1.5',\n",
    "#         '__ccg': 'EXCELLENT',\n",
    "#         '__rev': '1005252446',\n",
    "#         '__s': 'ccit5s:x56tk6:tkfbk8',\n",
    "#         '__hsi': '7079802625766252367-0',\n",
    "#         '__comet_req': '1',\n",
    "#         'lsd': 'AVrqrndyyI0',\n",
    "#         'jazoest': '21065',\n",
    "#         '__spin_r': '1005252446',\n",
    "#         '__spin_b': 'trunk',\n",
    "#         '__spin_t': '1648395002',\n",
    "#         'fb_api_caller_class': 'RelayModern',\n",
    "#         'fb_api_req_friendly_name': 'CometUFICommentsProviderQuery',\n",
    "#         'variables': str({\"UFI2CommentsProvider_commentsKey\":\"CometSinglePageContentContainerFeedQuery\",\n",
    "#                           \"__false\":false,\n",
    "#                           \"__true\":true,\n",
    "#                           \"after\":\"AQHRQvG8VVb_Ra8-s7lZO_OMhymo5sTm-CUUq9J7F8ApUlEgOHqnAiwYYWLxlZGn9FhEQeANLdqSl9aQWsNfcy55lQ\",\n",
    "#                           \"before\":null,\n",
    "#                           \"displayCommentsContextEnableComment\":null,\n",
    "#                           \"displayCommentsContextIsAdPreview\":null,\n",
    "#                           \"displayCommentsContextIsAggregatedShare\":null,\n",
    "#                           \"displayCommentsContextIsStorySet\":null,\n",
    "#                           \"displayCommentsFeedbackContext\":null,\n",
    "#                           \"feedLocation\":\"PAGE_TIMELINE\",\n",
    "#                           \"feedbackSource\":22,\n",
    "#                           \"first\":44,\n",
    "#                           \"focusCommentID\":null,\n",
    "#                           \"includeHighlightedComments\":false,\n",
    "#                           \"includeNestedComments\":true,\n",
    "#                           \"initialViewOption\":\"RANKED_THREADED\",\n",
    "#                           \"isInitialFetch\":false,\n",
    "#                           \"isPaginating\":true,\n",
    "#                           \"last\":null,\n",
    "#                           \"scale\":1.5,\n",
    "#                           \"topLevelViewOption\":null,\n",
    "#                           \"useDefaultActor\":false,\n",
    "#                           \"viewOption\":null,\n",
    "#                           \"id\":\"ZmVlZGJhY2s6MTAxNTk5MTM1NTIzOTMyNzA=\"}'}\n",
    "                         "
   ]
  },
  {
   "cell_type": "markdown",
   "id": "d0019ba7-5e3e-41a9-9b2a-a5cb697e253c",
   "metadata": {},
   "source": [
    "## Try2"
   ]
  },
  {
   "cell_type": "markdown",
   "id": "b50eb321-91bc-4e43-8f47-de5ab557b4e3",
   "metadata": {},
   "source": [
    "## Try3"
   ]
  },
  {
   "cell_type": "markdown",
   "id": "d01e2269-5f32-4b58-a2eb-dff09975bc8b",
   "metadata": {},
   "source": [
    "## 簡化"
   ]
  },
  {
   "cell_type": "markdown",
   "id": "486435ef-6c1e-496d-8d6b-0814323bc438",
   "metadata": {},
   "source": [
    "## parsing"
   ]
  },
  {
   "cell_type": "markdown",
   "id": "0b92c759-3261-48b5-b0e1-d981355ea5bb",
   "metadata": {},
   "source": [
    "## How to get more comment\n",
    "- keep the cursor information into grapfql"
   ]
  },
  {
   "cell_type": "markdown",
   "id": "46eea3ea-7b06-4915-b2c8-f9c4a3eaf31b",
   "metadata": {},
   "source": [
    "## how to get the replies of comments\n",
    "- Put the comment id in to graphql "
   ]
  }
 ],
 "metadata": {
  "kernelspec": {
   "display_name": "Python 3 (ipykernel)",
   "language": "python",
   "name": "python3"
  },
  "language_info": {
   "codemirror_mode": {
    "name": "ipython",
    "version": 3
   },
   "file_extension": ".py",
   "mimetype": "text/x-python",
   "name": "python",
   "nbconvert_exporter": "python",
   "pygments_lexer": "ipython3",
   "version": "3.8.10"
  }
 },
 "nbformat": 4,
 "nbformat_minor": 5
}
